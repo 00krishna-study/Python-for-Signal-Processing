{
 "metadata": {
  "name": "Windowing_Part3"
 },
 "nbformat": 3,
 "nbformat_minor": 0,
 "worksheets": [
  {
   "cells": [
    {
     "cell_type": "markdown",
     "metadata": {},
     "source": [
      "Introduction\n",
      "--------------\n",
      "\n",
      "In this section, we cover three additional metrics used in practice for evaluating and choosing between different window functions. "
     ]
    },
    {
     "cell_type": "markdown",
     "metadata": {},
     "source": [
      "### Peak Sidelobe Level\n",
      "\n",
      "As the name suggests, *peak sidelobe level* measures how far down the nearest peak is from the mainlobe's maximum. This captures the worst-case scenario where there is a large nearby signal exactly on the next sidelobe. This idea is illustrated in the next figure."
     ]
    },
    {
     "cell_type": "code",
     "collapsed": false,
     "input": [
      "from __future__ import division\n",
      "from scipy import signal \n",
      "\n",
      "def db20(W,Nfft=None):\n",
      "    'Given DFT, return power level in dB or take DFT if need be'\n",
      "    assert W.ndim==1\n",
      "    if Nfft is None: # assume W is DFT \n",
      "        return 20*log10(abs(W))\n",
      "    else: # assume time-domain passed, so need DFT\n",
      "        DFT= fft.fft(array(W).flatten(),Nfft)/sqrt(Nfft)\n",
      "        return 20*log10(abs(DFT.flatten()))"
     ],
     "language": "python",
     "metadata": {},
     "outputs": [],
     "prompt_number": 1
    },
    {
     "cell_type": "code",
     "collapsed": false,
     "input": [
      "fig, ax = subplots()\n",
      "fig.set_size_inches((6,3))\n",
      "\n",
      "Ns= 16\n",
      "Nf = 256*2\n",
      "freqs = arange(Nf)*2*pi/Nf\n",
      "w = signal.hanning(Ns,False)\n",
      "W = db20(w,Nf) \n",
      "\n",
      "ax.plot(freqs,W,'-b',ms=4.)\n",
      "ax.set_ylim(ymin = -60)\n",
      "ax.set_xlim(xmax = pi*1.01)\n",
      "ax.set_xlabel('Discrete Frequency',fontsize=14)\n",
      "ax.set_ylabel(r'$20\\log_{10}|W|$',fontsize=18)\n",
      "ax.grid()\n",
      "ax.set_title('Hanning Window',fontsize=18)\n",
      "ax.annotate('',fontsize=28,\n",
      "            xy=(76/Nf*2*pi,W[0]),\n",
      "            xytext=(76/Nf*2*pi,W[0]-32),\n",
      "            arrowprops={'facecolor':'b','arrowstyle':'<->'},\n",
      "            )\n",
      "ax.text( 0.4,0.5,'Peak sidelobe level',\n",
      "        fontsize=18,\n",
      "        transform=ax.transAxes,\n",
      "        bbox={'fc':'y','alpha':.3})"
     ],
     "language": "python",
     "metadata": {},
     "outputs": [
      {
       "output_type": "pyout",
       "prompt_number": 2,
       "text": [
        "<matplotlib.text.Text at 0x366b750>"
       ]
      },
      {
       "output_type": "display_data",
       "png": "[encoded data removed]",
       "text": [
        "<matplotlib.figure.Figure at 0x3583110>"
       ]
      }
     ],
     "prompt_number": 2
    },
    {
     "cell_type": "markdown",
     "metadata": {},
     "source": [
      "The figure above shows the DFT of the Hanning window and how far down the next sidelobe is from the peak (~31 dB). The figure of merit considers the worst-case where an interfering single frequency is exactly on this sidelobe and is 31 dB or greater in power compared to the signal at the center of the  mainlobe. The next bit of code uses complex roots to find the peaks of the sidelobes for window functions."
     ]
    },
    {
     "cell_type": "code",
     "collapsed": false,
     "input": [
      "def peak_sidelobe(w,N=256,return_index=False, return_all=False):\n",
      "    '''Given window function, return peak sidelobe level and bin index of \n",
      "       all (return_all=True) or some sidelobe peaks if desired (return_index=True). \n",
      "       Note that this method fails when the window function\n",
      "       has no roots on the unit circle (e.g. exponential window). \n",
      "\n",
      "    >>> \n",
      "\n",
      "    '''\n",
      "    assert (len(w)<=N) # need longer DFT otherwise\n",
      "    r=np.roots(w)     # find complex roots of window function\n",
      "    r = r[np.where(np.round(abs(r),3)==1)] # keep only those on unit circle (approx)\n",
      "    y=log(r).imag/2./pi*N     # get k^th bin index\n",
      "    y=y[y>0].astype(np.int32) # keep positive half only as integer roundoff\n",
      "    y.sort()                  # sort in-place \n",
      "    W = 20*log10(abs(fft.fft(w,N))) #compute DFT\n",
      "    # loop through slices and pick out max() as peak for that slice's sidelobe\n",
      "    sidelobe_levels = []\n",
      "    sidelobe_idx =[]\n",
      "    for s in [slice(i,j) for i,j in zip(y[:-1],y[1:])]:\n",
      "        imx= s.start+W[s].argmax() # bin index of max\n",
      "        peak= W[imx]-W[0]          # relative to global peak\n",
      "        sidelobe_levels.append( peak ) # store sidelobe level for later\n",
      "        sidelobe_idx.append(imx/N)       # ... with corresponding bin\n",
      "    if return_all:\n",
      "        return zip(sidelobe_levels, sidelobe_idx)\n",
      "    if return_index:\n",
      "        return (sidelobe_levels[0], sidelobe_idx[0])\n",
      "    return sidelobe_levels[0]\n",
      "\n",
      "def dftmatrix(N=32,Ns=None):\n",
      "    'construct DFT matrix of size N give Ns time-samples'\n",
      "    k= np.arange(N)\n",
      "    if Ns is None: Ns = N\n",
      "    n = arange(Ns)\n",
      "    U = matrix(exp(1j* 2*pi/N *k*n[:,None])) # use numpy broadcasting to create matrix\n",
      "    return U/sqrt(N)\n"
     ],
     "language": "python",
     "metadata": {},
     "outputs": [],
     "prompt_number": 13
    },
    {
     "cell_type": "markdown",
     "metadata": {},
     "source": [
      "Now, let's consider the case with"
     ]
    },
    {
     "cell_type": "code",
     "collapsed": false,
     "input": [
      "N=256\n",
      "U=dftmatrix(N,Ns)\n",
      "level,idx = peak_sidelobe(w,return_index=True)\n",
      "x0 = U[0,:].real\n",
      "\n",
      "\n"
     ],
     "language": "python",
     "metadata": {},
     "outputs": [],
     "prompt_number": 23
    },
    {
     "cell_type": "markdown",
     "metadata": {},
     "source": [
      "### 6-dB Bandwidth\n",
      "\n",
      "The 6-dB bandwidth measures how far down the main lobe of the DFT represents the half-power level. This is because $20 \\log_{10}(1/2) \\approx -6 $. The following figure shows the DFT for the  rectangular  window and its corresponding half-power point down the mainlobe. In general,  there is no closed form solution to the half-power level so you have to compute it numerically."
     ]
    },
    {
     "cell_type": "markdown",
     "metadata": {},
     "source": [
      "### Scalloping Loss"
     ]
    },
    {
     "cell_type": "markdown",
     "metadata": {},
     "source": [
      "The key to understanding windowing is to understand their DFTs. The figure below shows the DFTs of the rectangular window and the triangular window."
     ]
    },
    {
     "cell_type": "markdown",
     "metadata": {},
     "source": [
      "The figure above shows the magnitude of the respective DFTs for the rectangular and triangular windows. The middle plot shows the DFT magnitude in linear units on the bottom plot in in decibels (dB) (i.e. $20\\log_{10}(|X|)$). From now on, we will focus on the dB plot because it reveals much more of the underlying structure of both DFTs."
     ]
    },
    {
     "cell_type": "code",
     "collapsed": false,
     "input": [
      "%qtconsole"
     ],
     "language": "python",
     "metadata": {},
     "outputs": [],
     "prompt_number": 4
    },
    {
     "cell_type": "heading",
     "level": 2,
     "metadata": {},
     "source": [
      "Summary"
     ]
    },
    {
     "cell_type": "markdown",
     "metadata": {},
     "source": [
      "In this section, we unpacked the issues involved in resolving two nearby frequencies using the DFT and once again confronted the uncertainty principle in action. We realized that longer DFTs cannot distinguish nearby frequencies unless the signal is sampled over a sufficient duration. Additionally, we developed the circular convolution as a tool to visualize the exactly how a longer sampling duration helps resolve frequencies.\n",
      "\n",
      "As usual, the corresponding IPython notebook for this post  is available for download [here](https://github.com/unpingco/Python-for-Signal-Processing/blob/master/Frequency_Resolution.ipynb). \n",
      "\n",
      "Comments and corrections welcome!"
     ]
    },
    {
     "cell_type": "markdown",
     "metadata": {},
     "source": [
      "References\n",
      "---------------\n",
      "\n",
      "\n",
      "* Oppenheim, A. V., and A. S. Willsky. *Signals and Systems* Prentice-Hall, (1997).\n",
      "* Proakis, John G. *Digital signal processing: principles algorithms and applications* Pearson Education India, 2001.\n",
      "* Harris, Fredric J. \"On the use of windows for harmonic analysis with the discrete Fourier transform.\" Proceedings of the IEEE 66.1 (1978): 51-83."
     ]
    }
   ],
   "metadata": {}
  }
 ]
}