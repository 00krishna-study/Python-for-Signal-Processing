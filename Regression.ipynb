{
 "metadata": {
  "name": "",
  "signature": "sha256:c5c3d65a1b2f8e20838df41b28d1607e620fbbf589d43601dff33d103032d2ef"
 },
 "nbformat": 3,
 "nbformat_minor": 0,
 "worksheets": [
  {
   "cells": [
    {
     "cell_type": "code",
     "collapsed": false,
     "input": [
      "%matplotlib inline"
     ],
     "language": "python",
     "metadata": {},
     "outputs": [],
     "prompt_number": 1
    },
    {
     "cell_type": "heading",
     "level": 2,
     "metadata": {},
     "source": [
      "Regression "
     ]
    },
    {
     "cell_type": "markdown",
     "metadata": {},
     "source": [
      "Regression means fitting data to a line or a polynomial. The simpliest case is a line where the model is the following:\n",
      "\n",
      "$$ y = a x + b + \\epsilon $$\n",
      "\n",
      "where $\\epsilon \\sim \\mathcal{N}(0,\\sigma^2)$ and we have to determine $a$ and $b$ from the data pairs $\\lbrace (Y_i,X_i)\\rbrace_{i=1}^n$. Because of linearity and the Gaussian additive noise, the distribution of $y$ is completely characterized by its mean and variance.\n",
      "\n",
      "$$ \\mathbb{E}(y) = a x  + b $$\n",
      "\n",
      "$$ \\mathbb{V}(y) = \\sigma^2$$\n",
      "\n",
      "Using the maximum likelihood procedure we discussed earlier, we write out the log-likelihood  function as \n",
      "\n",
      "$$ \\mathcal{L}(a,b)  = \\sum_{i=1}^n \\log \\mathcal{N}(a X_i +b , \\sigma^2) \\propto \\frac{1}{2 \\sigma^2}\\sum_{i=1}^n (Y_i-a X_i-b)^2 $$\n",
      "\n",
      "Note that I just threw out  most of the terms that are irrelevent to the maximum-finding. Taking the derivative of this with respect to $a$ gives the following equation:\n",
      "\n",
      "$$ \\frac{\\partial \\mathcal{L}(a,b)}{\\partial a}= 2 \\sum_{i=1}^n X_i (b+ a X_i -Y_i) =0$$\n",
      "\n",
      "Likewise, we do the same for the $b$ parameter\n",
      "\n",
      "$$ \\frac{\\partial \\mathcal{L}(a,b)}{\\partial b}=2\\sum_{i=1}^n (b+a X_i-Y_i) =0$$\n",
      "\n",
      "Solving these two equations for $a$ and $b$ gives the parameters for the line we seek.\n"
     ]
    },
    {
     "cell_type": "code",
     "collapsed": false,
     "input": [],
     "language": "python",
     "metadata": {},
     "outputs": []
    }
   ],
   "metadata": {}
  }
 ]
}