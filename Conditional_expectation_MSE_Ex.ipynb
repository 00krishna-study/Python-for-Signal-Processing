{
 "metadata": {
  "name": "Conditional_expectation_MSE_Ex"
 },
 "nbformat": 3,
 "nbformat_minor": 0,
 "worksheets": [
  {
   "cells": [
    {
     "cell_type": "markdown",
     "metadata": {},
     "source": [
      "Examples\n",
      "-------------\n",
      "\n",
      "This is Example 2.1:\n",
      "\n",
      "> Three coins, 10p, 20p and 50p are tossed. The values of those coins that land heads up are added to work out the total amount. What is the expected total amount given that two coins have landed heads up?\n",
      "\n",
      "In this case we have \n",
      "\n",
      "$$ \\xi = 10 X_{10} + 20 X_{20} +50 X_{50} $$\n",
      "\n",
      "where $X_i \\in \\{ 0,1\\} $ and\n",
      "\n",
      "where \n",
      "\n",
      "$$\\eta = X_{10} X_{20} (1-X_{50})+ (1-X_{10}) X_{20} X_{50}+ X_{10} (1-X_{20}) X_{50} $$\n",
      "\n",
      "is a function that is only non-zero when two of the three coins is heads. Each triple term catches each of these three possibilities. For example, the first terms is when the 10p and 20p are heads up  and the 50p is heads down.\n",
      "\n",
      "To compute the conditional expectation, we want to find a function $h$ of $\\eta$ that minimizes the MSE\n",
      "\n",
      "$$ \\sum_{X\\in\\{0,1\\}^3} \\frac{1}{8} (\\xi - h( \\eta ))^2 $$\n",
      "\n",
      "where the sum is taken over all possible triples of outcomes for $ \\{X_{10} , X_{20} ,X_{50}\\}$ and the $\\frac{1}{8} = \\frac{1}{2^3} $ since each coin has a $\\frac{1}{2}$ chance of coming up heads.\n",
      "\n",
      "Now, the question boils down to what function $h(\\eta)$ should we try? Note that $\\eta \\in \\{0,1\\} $so we only have to try $h(\\eta)=\\alpha \\eta$  and find $\\alpha$. Writing this out gives,\n",
      "\n",
      "$$ \\sum_{X\\in\\{0,1\\}^3} \\frac{1}{8} (\\xi - \\alpha( \\eta ))^2 $$\n",
      "\n",
      "\n",
      "which boils down to solving for $\\alpha$,\n",
      "\n",
      "$$\\langle \\xi , \\eta \\rangle = \\alpha \\langle \\eta,\\eta \\rangle$$\n",
      "\n",
      "where \n",
      "\n",
      "$$ \\langle \\xi , \\eta \\rangle =\\sum_{X\\in\\{0,1\\}^3} \\frac{1}{8} (\\xi  \\eta ) $$\n",
      "\n",
      "This is tedious and a perfect job for `sympy`.\n"
     ]
    },
    {
     "cell_type": "code",
     "collapsed": false,
     "input": [
      "import sympy as S\n",
      "\n",
      "eta = S.Symbol('eta')\n",
      "xi = S.Symbol('xi')\n",
      "X10 = S.Symbol('X10')\n",
      "X20 = S.Symbol('X20')\n",
      "X50 = S.Symbol('X50')\n",
      "\n",
      "eta = X10 * X20 *(1-X50 )+ X10 * (1-X20) *(X50 )+ (1-X10) * X20 *(X50 )\n",
      "xi = 10*X10 +20* X20+ 50*X50 \n",
      "\n",
      "num=S.summation(xi*eta,(X10,0,1),(X20,0,1),(X50,0,1))\n",
      "den=S.summation(eta*eta,(X10,0,1),(X20,0,1),(X50,0,1))\n",
      "alpha=num/den\n",
      "print alpha"
     ],
     "language": "python",
     "metadata": {},
     "outputs": [
      {
       "output_type": "stream",
       "stream": "stdout",
       "text": [
        "160/3\n"
       ]
      }
     ],
     "prompt_number": 20
    },
    {
     "cell_type": "markdown",
     "metadata": {},
     "source": [
      "This means that\n",
      "\n",
      "$$ \\mathbb{E}(\\xi|\\eta) = \\frac{160}{3} \\eta $$\n",
      "\n",
      "which we can check with a quick simulation"
     ]
    },
    {
     "cell_type": "heading",
     "level": 3,
     "metadata": {},
     "source": [
      "Summary"
     ]
    },
    {
     "cell_type": "markdown",
     "metadata": {},
     "source": [
      "Using a simple example, we have emphasized the connection between minimum mean squared error problems and conditional expectation. Next, we'll continue revealing  the true power of the conditional expectation as we continue to develop a corresponding geometric intuition.\n",
      "\n",
      "As usual, the corresponding ipython notebook for this post  is available for download [here](https://github.com/unpingco/Python-for-Signal-Processing/blob/master/Conditional_expectation_MSE.ipynb). \n",
      "\n",
      "Comments and corrections welcome!"
     ]
    },
    {
     "cell_type": "code",
     "collapsed": false,
     "input": [
      "%qtconsole"
     ],
     "language": "python",
     "metadata": {},
     "outputs": [],
     "prompt_number": 11
    },
    {
     "cell_type": "code",
     "collapsed": false,
     "input": [],
     "language": "python",
     "metadata": {},
     "outputs": []
    }
   ],
   "metadata": {}
  }
 ]
}