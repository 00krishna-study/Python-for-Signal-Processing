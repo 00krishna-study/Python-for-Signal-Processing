{
 "metadata": {
  "name": "Conditional_expectation_MSE_Ex"
 },
 "nbformat": 3,
 "nbformat_minor": 0,
 "worksheets": [
  {
   "cells": [
    {
     "cell_type": "markdown",
     "metadata": {},
     "source": [
      "Introduction\n",
      "-------------------\n",
      "\n",
      "Brzezniak (2000) is a great book because it approaches conditional expectation through a sequence of exercises, which is what we are trying to do here. The main difference is that Brzezniak takes a more abstract measure-theoretic approach to the same problems. Note that you *do* need to grasp this more measure-theoretic to move into more advanced areas in stochastic processes, but for what we have covered so far, working the same problems in his text using our methods is a great place to see the same problems worked multiple ways. I urge you to get a copy of his book or at least look at some pages on Google Books. I have numbered the examples corresponding to the book. "
     ]
    },
    {
     "cell_type": "markdown",
     "metadata": {},
     "source": [
      "Examples\n",
      "-------------\n",
      "\n",
      "This is Example 2.1 from Brzezniak:\n",
      "\n",
      "> Three coins, 10p, 20p and 50p are tossed. The values of those coins that land heads up are added to work out the total amount. What is the expected total amount given that two coins have landed heads up?\n",
      "\n",
      "In this case we have we want to compute $\\mathbb{E}(\\xi|\\eta)$ where\n",
      "\n",
      "$$ \\xi = 10 X_{10} + 20 X_{20} +50 X_{50} $$\n",
      "\n",
      "where $X_i \\in \\{ 0,1\\} $. This represents the sum total value of the heads-up coins. The $\\eta$ represents the fact that only two of the three coins are heads-up. Note \n",
      "\n",
      "$$\\eta = X_{10} X_{20} (1-X_{50})+ (1-X_{10}) X_{20} X_{50}+ X_{10} (1-X_{20}) X_{50} $$\n",
      "\n",
      "is a function that is only non-zero when two of the three coins is heads. Each triple term catches each of these three possibilities. For example, the first term is when the 10p and 20p are heads up  and the 50p is heads down.\n",
      "\n",
      "To compute the conditional expectation, we want to find a function $h$ of $\\eta$ that minimizes the MSE\n",
      "\n",
      "$$ \\sum_{X\\in\\{0,1\\}^3} \\frac{1}{8} (\\xi - h( \\eta ))^2 $$\n",
      "\n",
      "where the sum is taken over all possible triples of outcomes for $ \\{X_{10} , X_{20} ,X_{50}\\}$ and the $\\frac{1}{8} = \\frac{1}{2^3} $ since each coin has a $\\frac{1}{2}$ chance of coming up heads.\n",
      "\n",
      "Now, the question boils down to what function $h(\\eta)$ should we try? Note that $\\eta \\in \\{0,1\\}$ so $h$ takes on only two values. Thus, we only have to try $h(\\eta)=\\alpha \\eta$  and find $\\alpha$. Writing this out gives,\n",
      "\n",
      "$$ \\sum_{X\\in\\{0,1\\}^3} \\frac{1}{8} (\\xi - \\alpha( \\eta ))^2 $$\n",
      "\n",
      "\n",
      "which boils down to solving for $\\alpha$,\n",
      "\n",
      "$$\\langle \\xi , \\eta \\rangle = \\alpha \\langle \\eta,\\eta \\rangle$$\n",
      "\n",
      "where \n",
      "\n",
      "$$ \\langle \\xi , \\eta \\rangle =\\sum_{X\\in\\{0,1\\}^3} \\frac{1}{8} (\\xi  \\eta ) $$\n",
      "\n",
      "This is tedious and a perfect job for `sympy`.\n"
     ]
    },
    {
     "cell_type": "code",
     "collapsed": false,
     "input": [
      "import sympy as S\n",
      "\n",
      "eta = S.Symbol('eta')\n",
      "xi = S.Symbol('xi')\n",
      "X10 = S.Symbol('X10')\n",
      "X20 = S.Symbol('X20')\n",
      "X50 = S.Symbol('X50')\n",
      "\n",
      "eta = X10 * X20 *(1-X50 )+ X10 * (1-X20) *(X50 )+ (1-X10) * X20 *(X50 )\n",
      "xi = 10*X10 +20* X20+ 50*X50 \n",
      "\n",
      "num=S.summation(xi*eta,(X10,0,1),(X20,0,1),(X50,0,1))\n",
      "den=S.summation(eta*eta,(X10,0,1),(X20,0,1),(X50,0,1))\n",
      "alpha=num/den\n",
      "print alpha"
     ],
     "language": "python",
     "metadata": {},
     "outputs": [
      {
       "output_type": "stream",
       "stream": "stdout",
       "text": [
        "160/3\n"
       ]
      }
     ],
     "prompt_number": 1
    },
    {
     "cell_type": "markdown",
     "metadata": {},
     "source": [
      "This means that\n",
      "\n",
      "$$ \\mathbb{E}(\\xi|\\eta) = \\frac{160}{3} \\eta $$\n",
      "\n",
      "which we can check with a quick simulation"
     ]
    },
    {
     "cell_type": "code",
     "collapsed": false,
     "input": [
      "import numpy as np\n",
      "from numpy import array\n",
      "\n",
      "x=np.random.randint(0,2,(3,5000))\n",
      "print (160/3.,np.dot(x[:,x.sum(axis=0)==2].T,array([10,20,50])).mean())\n"
     ],
     "language": "python",
     "metadata": {},
     "outputs": [
      {
       "output_type": "stream",
       "stream": "stdout",
       "text": [
        "(53.333333333333336, 53.079004329004327)\n"
       ]
      }
     ],
     "prompt_number": 2
    },
    {
     "cell_type": "markdown",
     "metadata": {},
     "source": [
      "Example\n",
      "--------\n",
      "\n",
      "This is example 2.2:\n",
      "\n",
      "> Three coins, 10p, 20p and 50p are tossed as before. What is the conditional expectation of the total amount shown by the three coins given the total amount shown by the 10p and 20p coins only?\n",
      "\n",
      "For this problem,\n",
      "\n",
      "$$\\eta = 30 X_{10} X_{20} + 20 (1-X_{10}) X_{20}  + 10 X_{10} (1-X_{20})  $$\n",
      "\n",
      "which takes on three values (10,20,30) and only considers the 10p and 20p coins. Here, we'll look for affine functions, $h(\\eta) = a \\eta + b $."
     ]
    },
    {
     "cell_type": "code",
     "collapsed": false,
     "input": [
      "from sympy.abc import a,b\n",
      "\n",
      "eta = X10 * X20 * 30 + X10 * (1-X20) *(10 )+ (1-X10) * X20 *(20 )\n",
      "h = a*eta + b\n",
      "\n",
      "J=S.summation((xi - h)**2 * S.Rational(1,8),(X10,0,1),(X20,0,1),(X50,0,1))\n",
      "\n",
      "sol=S.solve( [S.diff(J,a), S.diff(J,b)],(a,b) )\n",
      "print sol"
     ],
     "language": "python",
     "metadata": {},
     "outputs": [
      {
       "output_type": "stream",
       "stream": "stdout",
       "text": [
        "{b: 25, a: 1}\n"
       ]
      }
     ],
     "prompt_number": 3
    },
    {
     "cell_type": "markdown",
     "metadata": {},
     "source": [
      "This means that\n",
      "\n",
      "$$ \\mathbb{E}(\\xi|\\eta) = 25+ \\eta $$\n",
      "\n",
      "since $\\eta$ takes on only four values, $\\{0,10,20,30\\}$, we can write this out as\n",
      "\n",
      "$$ \\mathbb{E}(\\xi|\\eta=0) = 25  $$\n",
      "$$ \\mathbb{E}(\\xi|\\eta=10) = 35  $$\n",
      "$$ \\mathbb{E}(\\xi|\\eta=20) = 45  $$\n",
      "$$ \\mathbb{E}(\\xi|\\eta=30) = 55  $$\n",
      "\n",
      "The following is  a quick simulation to demonstrate this."
     ]
    },
    {
     "cell_type": "code",
     "collapsed": false,
     "input": [
      "x=np.random.randint(0,2,(3,5000))  # random samples for 3 coins tossed\n",
      "eta=np.dot(x[:2,:].T,array([10,20])) # sum of 10p and 20p\n",
      "\n",
      "print np.dot(x[:,eta==0].T,array([10,20,50])).mean() # E(xi|eta=0)\n",
      "print np.dot(x[:,eta==10].T,array([10,20,50])).mean()# E(xi|eta=10)\n",
      "print np.dot(x[:,eta==20].T,array([10,20,50])).mean()# E(xi|eta=20)\n",
      "print np.dot(x[:,eta==30].T,array([10,20,50])).mean()# E(xi|eta=30)"
     ],
     "language": "python",
     "metadata": {},
     "outputs": [
      {
       "output_type": "stream",
       "stream": "stdout",
       "text": [
        "24.5341614907\n",
        "35.0595710882\n",
        "44.2363344051\n",
        "55.723738627\n"
       ]
      }
     ],
     "prompt_number": 4
    },
    {
     "cell_type": "markdown",
     "metadata": {},
     "source": [
      "Example\n",
      "-----------\n",
      "\n",
      "This is Example 2.3\n",
      "\n",
      "![alt text](files/ex23.jpg)"
     ]
    },
    {
     "cell_type": "markdown",
     "metadata": {},
     "source": [
      "Note the the `Piecewise` object in `sympy` is not complete at this point in its development, so we'll have to work around that in the following."
     ]
    },
    {
     "cell_type": "code",
     "collapsed": false,
     "input": [
      "x=S.Symbol('x')\n",
      "c=S.Symbol('c')\n",
      "\n",
      "xi = 2*x**2\n",
      "\n",
      "eta=S.Piecewise( (1, 0 < x< S.Rational(1,3)), \n",
      "                 (2, S.Rational(1,3) < x< S.Rational(2,3)),\n",
      "                 (0, S.Rational(2,3) < x < 1))\n",
      "\n",
      "h = a + b*eta + c*eta**2 \n",
      "J=S.integrate((xi - h)**2 ,(x,0,1))\n",
      "\n",
      "sol=S.solve( [S.diff(J,a), \n",
      "              S.diff(J,b),\n",
      "              S.diff(J,c),\n",
      "              ],\n",
      "              (a,b,c) )\n",
      "print sol\n",
      "\n",
      "print S.piecewise_fold(h.subs(sol))"
     ],
     "language": "python",
     "metadata": {},
     "outputs": [
      {
       "output_type": "stream",
       "stream": "stdout",
       "text": [
        "{c: 8/9, b: -20/9, a: 38/27}\n",
        "Piecewise((2/27, x < 1/3), (14/27, x < 2/3), (38/27, x < 1))\n"
       ]
      }
     ],
     "prompt_number": 5
    },
    {
     "cell_type": "markdown",
     "metadata": {},
     "source": [
      "Thus, collecting this result gives:\n",
      "\n",
      "$$ \\mathbb{E}(\\xi|\\eta) = \\frac{38}{27} - \\frac{20}{9}\\eta + \\frac{8}{9} \\eta^2$$\n",
      "\n",
      "which can be re-written as a piecewise function as\n",
      "\n",
      "$$\\mathbb{E}(\\xi|\\eta) =\\begin{cases} \\frac{2}{27} & \\text{for}\\: 0 < x < \\frac{1}{3} \\\\\\frac{14}{27} & \\text{for}\\: \\frac{1}{3} < x < \\frac{2}{3} \\\\\\frac{38}{27} & \\text{for}\\: \\frac{2}{3}<x < 1 \\end{cases}\n",
      "$$\n",
      "\n",
      "The following is a quick simulation to demonstrate this."
     ]
    },
    {
     "cell_type": "code",
     "collapsed": false,
     "input": [
      "x = np.random.rand(1000)\n",
      "f,ax= subplots()\n",
      "ax.hist(2*x**2,bins=array([0,1/3.,2/3.,1])**2*2,normed=True,alpha=.5)\n",
      "ax.vlines([2/27.,14/27.,38/27.],0,ax.get_ylim()[1],linestyles='--')\n",
      "ax.set_xlabel(r'$2 x^2$',fontsize=18);"
     ],
     "language": "python",
     "metadata": {},
     "outputs": [
      {
       "output_type": "display_data",
       "png": "[encoded data removed]",
       "text": [
        "<matplotlib.figure.Figure at 0x3a52db0>"
       ]
      }
     ],
     "prompt_number": 6
    },
    {
     "cell_type": "markdown",
     "metadata": {},
     "source": [
      "This plot shows the intervals that correspond to the pieces of $\\eta$ with the vertical dotted lines showing the $\\mathbb{E}(\\xi|\\eta) $ for that piece."
     ]
    },
    {
     "cell_type": "markdown",
     "metadata": {},
     "source": [
      "Example\n",
      "-----------\n",
      "\n",
      "This is Example 2.4\n",
      "\n",
      "![alt text](files/ex24.jpg)"
     ]
    },
    {
     "cell_type": "code",
     "collapsed": false,
     "input": [
      "x,a=S.symbols('x,a')\n",
      "\n",
      "xi = 2*x**2\n",
      "\n",
      "half = S.Rational(1,2)\n",
      "\n",
      "eta_0=S.Piecewise( (2,    0 <= x < half), \n",
      "                   (0, half <= x ),\n",
      "                 )\n",
      "\n",
      "eta_1=S.Piecewise( (0,         x < half),\n",
      "                   (x, half <= x <= 1),\n",
      "                )\n",
      "\n",
      "\n",
      "v=S.var('b:3')\n",
      "\n",
      "h = a*eta_0 + (eta_1**np.arange(len(v))*v).sum()\n",
      "\n",
      "J=S.integrate((xi - h)**2 ,(x,0,1))\n",
      "sol=S.solve([J.diff(i) for i in v+(a,)],v+(a,))\n",
      "hsol = h.subs(sol)\n",
      "\n",
      "f=S.lambdify(x,hsol,'numpy')\n",
      "print S.piecewise_fold(h.subs(sol))\n",
      "\n",
      "t = np.linspace(0,1,51,endpoint=False)\n",
      "\n",
      "fig,ax = subplots()\n",
      "\n",
      "ax.plot(t, 2*t**2,label=r'$\\xi=2 x^2$')\n",
      "ax.plot(t,[f(i) for i in t],'-x',label=r'$\\mathbb{E}(\\xi|\\eta)$')\n",
      "ax.plot(t,map(S.lambdify(x,eta_0+eta_1),t),label=r'$\\eta(x)$')\n",
      "ax.set_ylim(ymax = 2.3)\n",
      "ax.grid()\n",
      "ax.legend(loc=0);\n",
      "#ax.plot(t,map(S.lambdify(x,eta),t))"
     ],
     "language": "python",
     "metadata": {},
     "outputs": [
      {
       "output_type": "stream",
       "stream": "stdout",
       "text": [
        "Piecewise((1/6, x < 1/2), (Piecewise((0, x < 1/2), (2*x**2, x <= 1)), 1/2 <= x))\n"
       ]
      },
      {
       "output_type": "pyout",
       "prompt_number": 7,
       "text": [
        "<matplotlib.legend.Legend at 0x4d3b270>"
       ]
      },
      {
       "output_type": "display_data",
       "png": "[encoded data removed]",
       "text": [
        "<matplotlib.figure.Figure at 0x4bd99f0>"
       ]
      }
     ],
     "prompt_number": 7
    },
    {
     "cell_type": "markdown",
     "metadata": {},
     "source": [
      "Example\n",
      "-----------\n",
      "\n",
      "This is Example 2.4\n",
      "\n",
      "![alt text](files/ex26.jpg)"
     ]
    },
    {
     "cell_type": "code",
     "collapsed": false,
     "input": [
      "x,a=S.symbols('x,a')\n",
      "\n",
      "xi = 2*x**2\n",
      "eta = 1 - abs(2*x-1)\n",
      "\n",
      "half = S.Rational(1,2)\n",
      "\n",
      "eta=S.Piecewise(   (1+(2*x-1),    0 <= x < half), \n",
      "                   (1-(2*x-1), half <= x ),\n",
      "                 )\n",
      "\n",
      "v=S.var('b:3')\n",
      "\n",
      "h = (eta**np.arange(len(v))*v).sum()\n",
      "\n",
      "J=S.integrate((xi - h)**2 ,(x,0,1))\n",
      "sol=S.solve([J.diff(i) for i in v],v)\n",
      "hsol = h.subs(sol)\n",
      "\n",
      "print S.piecewise_fold(h.subs(sol))\n",
      "\n",
      "t = np.linspace(0,1,51,endpoint=False)\n",
      "\n",
      "fig,ax = subplots()\n",
      "fig.set_size_inches(5,5)\n",
      "\n",
      "ax.plot(t, 2*t**2,label=r'$\\xi=2 x^2$')\n",
      "ax.plot(t,[hsol.subs(x,i) for i in t],'-x',label=r'$\\mathbb{E}(\\xi|\\eta)$')\n",
      "ax.plot(t,map(S.lambdify(x,eta),t),label=r'$\\eta(x)$')\n",
      "ax.legend(loc=0)\n",
      "ax.grid()\n"
     ],
     "language": "python",
     "metadata": {},
     "outputs": [
      {
       "output_type": "stream",
       "stream": "stdout",
       "text": [
        "Piecewise((2*x**2 - 2*x + 1, x < 1/2), (2*x + (-2*x + 2)**2/2 - 1, 1/2 <= x))\n"
       ]
      },
      {
       "output_type": "display_data",
       "png": "[encoded data removed]",
       "text": [
        "<matplotlib.figure.Figure at 0x4b3d4f0>"
       ]
      }
     ],
     "prompt_number": 8
    },
    {
     "cell_type": "markdown",
     "metadata": {},
     "source": [
      "Example\n",
      "-----------\n",
      "\n",
      "This is Example 2.14\n",
      "\n",
      "![alt text](files/ex214.jpg)"
     ]
    },
    {
     "cell_type": "code",
     "collapsed": false,
     "input": [
      "x,a=S.symbols('x,a')\n",
      "half = S.Rational(1,2)\n",
      "\n",
      "xi = 2*x**2\n",
      "eta=S.Piecewise(   (2*x,    0 <= x < half), \n",
      "                   ((2*x-1), half <= x ),\n",
      "                 )\n",
      "\n",
      "v=S.var('b:3')\n",
      "\n",
      "h = (eta**np.arange(len(v))*v).sum()\n",
      "\n",
      "J=S.integrate((xi - h)**2 ,(x,0,1))\n",
      "sol=S.solve([J.diff(i) for i in v],v)\n",
      "hsol = h.subs(sol)\n",
      "\n",
      "print S.piecewise_fold(h.subs(sol))\n",
      "\n",
      "t = np.linspace(0,1,51,endpoint=False)\n",
      "\n",
      "fig,ax = subplots()\n",
      "fig.set_size_inches(5,5)\n",
      "\n",
      "ax.plot(t, 2*t**2,label=r'$\\xi=2 x^2$')\n",
      "ax.plot(t,[hsol.subs(x,i) for i in t],'-x',label=r'$\\mathbb{E}(\\xi|\\eta)$')\n",
      "ax.plot(t,map(S.lambdify(x,eta),t),label=r'$\\eta(x)$')\n",
      "ax.legend(loc=0)\n",
      "ax.grid()"
     ],
     "language": "python",
     "metadata": {},
     "outputs": [
      {
       "output_type": "stream",
       "stream": "stdout",
       "text": [
        "Piecewise((2*x**2 + x + 1/4, x < 1/2), (x + (2*x - 1)**2/2 - 1/4, 1/2 <= x))\n"
       ]
      },
      {
       "output_type": "display_data",
       "png": "[encoded data removed]",
       "text": [
        "<matplotlib.figure.Figure at 0x4e3fdf0>"
       ]
      }
     ],
     "prompt_number": 9
    },
    {
     "cell_type": "code",
     "collapsed": false,
     "input": [
      "xs = np.random.rand(100)\n",
      "print np.mean([(2*i**2-hsol.subs(x,i))**2 for i in xs])\n",
      "print S.integrate((2*x**2-hsol)**2,(x,0,1)).evalf()\n"
     ],
     "language": "python",
     "metadata": {},
     "outputs": [
      {
       "output_type": "stream",
       "stream": "stdout",
       "text": [
        "0.275484682793222\n",
        "0.270833333333333\n"
       ]
      }
     ],
     "prompt_number": 10
    },
    {
     "cell_type": "heading",
     "level": 3,
     "metadata": {},
     "source": [
      "Summary"
     ]
    },
    {
     "cell_type": "markdown",
     "metadata": {},
     "source": [
      "Using a simple example, we have emphasized the connection between minimum mean squared error problems and conditional expectation. Next, we'll continue revealing  the true power of the conditional expectation as we continue to develop a corresponding geometric intuition.\n",
      "\n",
      "As usual, the corresponding ipython notebook for this post  is available for download [here](https://github.com/unpingco/Python-for-Signal-Processing/blob/master/Conditional_expectation_MSE.ipynb). \n",
      "\n",
      "Comments and corrections welcome!"
     ]
    },
    {
     "cell_type": "markdown",
     "metadata": {},
     "source": [
      "References\n",
      "---------------\n",
      "\n",
      "* Brzezniak, Zdzislaw, and Tomasz Zastawniak. Basic stochastic processes: a course through exercises. Springer, 2000."
     ]
    }
   ],
   "metadata": {}
  }
 ]
}