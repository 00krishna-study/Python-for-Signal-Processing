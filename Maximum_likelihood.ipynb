{
 "metadata": {
  "name": "Maximum_likelihood"
 },
 "nbformat": 3,
 "nbformat_minor": 0,
 "worksheets": [
  {
   "cells": [
    {
     "cell_type": "heading",
     "level": 2,
     "metadata": {},
     "source": [
      "Maximum Likelihood Estimation Experiment"
     ]
    },
    {
     "cell_type": "markdown",
     "metadata": {},
     "source": [
      "Let's investigate the following experiment: You have coin and you want to estimate the probability of heads ($p$) for it.\n",
      "The coin is Bernoulli distributed:\n",
      "\n",
      "$$ \\phi(x)= p^x (1-p)^{(1-x)} $$\n",
      "\n",
      "where $x$ is the outcome, *1* for heads and *0* for tails. The $n$ independent flips, we have the likelihood:\n",
      "\n",
      "$$ \\mathcal{L}(p|\\mathbf{x})= \\prod_{i=1}^n p^{ x_i }(1-p)^{1-x_i} $$\n",
      "\n",
      "This is basically notation. We have just substituted everything into $ \\phi(x)$ under the independent-trials assumption. \n",
      "\n",
      "The idea of *maximum likelihood* is to maximize this as the function of $p$ after plugging in all of the $x_i$ data. This means that our estimator, $\\hat{p}$ , is a function of the observed $x_i$ data, and as such, is a random variable with its own distribution.\n",
      "\n",
      "\n"
     ]
    },
    {
     "cell_type": "heading",
     "level": 3,
     "metadata": {},
     "source": [
      "Simulating the Experiment"
     ]
    },
    {
     "cell_type": "markdown",
     "metadata": {},
     "source": [
      "We need the following code to setup the experiment of flipping the coin."
     ]
    },
    {
     "cell_type": "code",
     "collapsed": false,
     "input": [
      "from __future__ import division\n",
      "from scipy.stats import bernoulli \n",
      "import numpy as np\n",
      "\n",
      "p_true=1/2\n",
      "fp=bernoulli(p_true) # fair coin picks between A and B \n",
      "\n",
      "def sample(n=10):\n",
      "    'simulate coin flipping'\n",
      "    return fp.rvs(n)# flip it n times\n",
      "\n",
      "xs = sample(100) # generate some samples"
     ],
     "language": "python",
     "metadata": {},
     "outputs": [],
     "prompt_number": 1
    },
    {
     "cell_type": "markdown",
     "metadata": {},
     "source": [
      "Now, we can write out the likelihood function using `sympy`"
     ]
    },
    {
     "cell_type": "code",
     "collapsed": false,
     "input": [
      "import sympy\n",
      "from sympy.abc import x, z\n",
      "p=sympy.symbols('p',positive=True)\n",
      "\n",
      "L=   p**x*(1-p)**(1-x)\n",
      "J=np.prod([L.subs(x,i) for i in xs]) # objective function to maximize"
     ],
     "language": "python",
     "metadata": {},
     "outputs": [],
     "prompt_number": 2
    },
    {
     "cell_type": "markdown",
     "metadata": {},
     "source": [
      "Below, we use calculus to find the maximum. Note that taking the `log` of $J$ makes the maximization problem tractable but doesn't change the extrema."
     ]
    },
    {
     "cell_type": "code",
     "collapsed": false,
     "input": [
      "logJ=sympy.expand_log(sympy.log(J))\n",
      "sol=sympy.solve(sympy.diff(logJ,p),p)[0]\n",
      "\n",
      "x=linspace(0,2,300)\n",
      "plot(x,map(sympy.lambdify(p,logJ,'numpy'),x),sol,logJ.subs(p,sol),'o',\n",
      "                                          p_true,logJ.subs(p,p_true),'s',)\n",
      "xlabel('$p$',fontsize=18)\n",
      "ylabel('Likelihood',fontsize=18)\n",
      "title('Estimate not equal to true value',fontsize=18)"
     ],
     "language": "python",
     "metadata": {},
     "outputs": [
      {
       "output_type": "pyout",
       "prompt_number": 3,
       "text": [
        "<matplotlib.text.Text at 0x4e167d0>"
       ]
      },
      {
       "output_type": "display_data",
       "png": "[encoded data removed]",
       "text": [
        "<matplotlib.figure.Figure at 0x4d7b310>"
       ]
      }
     ],
     "prompt_number": 3
    },
    {
     "cell_type": "markdown",
     "metadata": {},
     "source": [
      "Note that our estimator $\\hat{p}$ is not equal to the true value of $p$. This may sound disturbing, but keep in mind this estimate is a function of the random data; and since that data can change, the ultimate estimate can likewise change. I invite you to run this notebook a few times to see the estimated $p$ change. Remember we noted earlier that the estimator we are using is a *function* of the data and is thus also a *random variable*, just like the data is. \n",
      "\n",
      "Let's setup some code to empirically examine the behavior of the maximum likelihood estimator using a simulation of multiple trials."
     ]
    },
    {
     "cell_type": "code",
     "collapsed": false,
     "input": [
      "def estimator_gen(niter=10,ns=100):\n",
      "    'generate data to estimate distribution of maximum likelihood estimator'\n",
      "    out=[]\n",
      "    x=sympy.symbols('x',real=True)\n",
      "    L=   p**x*(1-p)**(1-x)\n",
      "    for i in range(niter):\n",
      "        xs = sample(ns) # generate some samples from the experiment\n",
      "        J=np.prod([L.subs(x,i) for i in xs]) # objective function to maximize\n",
      "        logJ=sympy.expand_log(sympy.log(J)) \n",
      "        sol=sympy.solve(sympy.diff(logJ,p),p)[0]\n",
      "        out.append(float(sol.evalf()))\n",
      "    return out if len(out)>1 else out[0] # return scalar if list contains only 1 term\n",
      "    \n",
      "etries = estimator_gen(100) # this may take awhile, depending on how much data you want to generate\n",
      "hist(etries) # histogram of maximum likelihood estimator\n",
      "title('$\\mu=%3.3f,\\sigma=%3.3f$'%(mean(etries),std(etries)),fontsize=18)"
     ],
     "language": "python",
     "metadata": {},
     "outputs": [
      {
       "output_type": "pyout",
       "prompt_number": 4,
       "text": [
        "<matplotlib.text.Text at 0x5202ad0>"
       ]
      },
      {
       "output_type": "display_data",
       "png": "[encoded data removed]",
       "text": [
        "<matplotlib.figure.Figure at 0x4ebf950>"
       ]
      }
     ],
     "prompt_number": 4
    },
    {
     "cell_type": "markdown",
     "metadata": {},
     "source": [
      "Note that the mean of the estimator is pretty close to the true value, but looks can be deceiving. The only way to know for sure is to check if the estimator is unbiased, namely, if\n",
      "\n",
      "$$ \\mathbb{E}(\\hat{p}) = p $$"
     ]
    },
    {
     "cell_type": "markdown",
     "metadata": {},
     "source": [
      "Because this problem is pretty simple, we can solve for this in general noting that since $x=0$ or $x=1$, the terms in the product of $\\mathcal{L}$ above are either $p$, if $x_i=1$ or $1-p$ if $x_i=0$. This means that we can write\n",
      "\n",
      "$$ \\mathcal{L}(p|\\mathbf{x})= p^{\\sum_{i=1}^n x_i}(1-p)^{n-\\sum_{i=1}^n x_i} $$\n",
      "\n",
      "with corresponding log as\n",
      "\n",
      "$$ J=\\log(\\mathcal{L}(p|\\mathbf{x})) =  \\log(p)  \\sum_{i=1}^n x_i +   \\log(1-p) \\left(n-\\sum_{i=1}^n x_i\\right)$$ \n",
      "\n",
      "Taking the derivative of this gives:\n",
      "\n",
      "$$  \\frac{dJ}{dp} = \\frac{1}{p}\\sum_{i=1}^n x_i + \\frac{(n-\\sum_{i=1}^n x_i)}{p-1} $$\n",
      "\n",
      "and solving this leads to\n",
      "\n",
      "$$  \\hat{p} = \\frac{1}{ n} \\sum_{i=1}^n x_i $$\n",
      "\n",
      "This is our *estimator* for $p$. Now, we can check if this estimator is biased by computing its expectation:\n",
      "\n",
      "$$ \\mathbb{E}\\left(\\hat{p}\\right) =\\frac{1}{n}\\sum_i^n \\mathbb{E}(x_i) = \\frac{1}{n} n \\mathbb{E}(x_i) $$\n",
      "\n",
      "by linearity of the expectation and where\n",
      "\n",
      "$$\\mathbb{E}(x_i)  = p$$\n",
      "\n",
      "Therefore,\n",
      "\n",
      "$$ \\mathbb{E}\\left(\\hat{p}\\right) =p $$\n",
      "\n",
      "This means that the esimator is unbiased. This is good news. We almost always want our estimators to be unbiased. Similarly, \n",
      "\n",
      "$$ \\mathbb{E}\\left(\\hat{p}^2\\right) = \\frac{1}{n^2} \\mathbb{E}\\left[\\left(  \\sum_{i=1}^n x_i \\right)^2 \\right]$$\n",
      "\n",
      "and where\n",
      "\n",
      "$$ \\mathbb{E}\\left(x_i^2\\right) =p$$\n",
      "\n",
      "and by the independence assumption,\n",
      "\n",
      "$$ \\mathbb{E}\\left(x_i x_j\\right) =\\mathbb{E}(x_i)\\mathbb{E}( x_j) =p^2$$\n",
      "\n",
      "Thus,\n",
      "\n",
      "$$ \\mathbb{E}\\left(\\hat{p}^2\\right) =\\left(\\frac{1}{n^2}\\right) n \n",
      "\\left[\n",
      "p+(n-1)p^2\n",
      "\\right]\n",
      "$$\n",
      "\n",
      "So, the variance of the estimator, $\\hat{p}$ is the following:\n",
      "\n",
      "$$ \\sigma_\\hat{p}^2 = \\mathbb{E}\\left(\\hat{p}^2\\right)- \\mathbb{E}\\left(\\hat{p}\\right)^2  = \\frac{p(1-p)}{n} $$\n",
      "\n",
      "Note that the $n$ in the denominator means that the variance asymptotically goes to zero as $n$ increases (i.e. we consider more and more samples). This is good news also because it means that more and more coin flips leads to a better estimate of the underlying $p$. Note that the `sqrt` of this is known as the *standard error* in statistics.\n",
      "\n",
      "Unfortunately, this formulat for the variance is practically useless because we have to know $p$ to compute it and $p$ is the parameter we are trying to estimate in the first place! But, looking at $ \\sigma_\\hat{p}^2 $, we can immediately notice that if $p=0$, then there is no estimator variance because the outcomes are guaranteed to be tails. Also, the maximum of this variance, for whatever $n$, happens at $p=1/2$. This is our worst case scenario and the only way to compensate is with more samples (i.e. larger $n$).\n"
     ]
    },
    {
     "cell_type": "markdown",
     "metadata": {},
     "source": [
      "However, all we have really done is compute the mean and variance of the estimator. In general, this is insufficient to characterize the underlying probability density of $\\hat{p}$, except if we somehow knew that  $\\hat{p}$ were normally distributed. This is where the powerful [*central limit theorem*](http://mathworld.wolfram.com/CentralLimitTheorem.html) comes in. The form of the estimator, which is just a mean estimator, implies that we can apply this theorem and conclude that  $\\hat{p}$ is normally distributed. However, there's a wrinkle here: the theorem tells us that  $\\hat{p}$ is asymptotically normal, it doesn't quantify how many samples $n$ we need to approach this asymptotic paradise. In our simulation this is no problem since we can generate as much data as we like, but in the real world, with a costly experiment, each sample may be precious. In the following, we'll take two approaches to this question of how close we can come to the asymptotic paradise: one analytical and the other computational.\n"
     ]
    },
    {
     "cell_type": "heading",
     "level": 3,
     "metadata": {},
     "source": [
      "Estimator Density"
     ]
    },
    {
     "cell_type": "markdown",
     "metadata": {},
     "source": [
      "Because the problem is simple, we can write out the full distribution of the estimator,  $\\hat{p}$. To approach this problem, we first have to ask what is the probability that the estimator will equal a specific value and the tally up all the ways that could happen with their corresponding probabilities. For example, what is the probability that\n",
      "\n",
      "$$  \\hat{p} = \\frac{1}{n}\\sum_{i=1}^n x_i  = 0 $$\n",
      "\n",
      "This can only happen one way: when $x_i=0 \\hspace{0.5em} \\forall i$. The probability of this happening can be computed from the density\n",
      "\n",
      "$$ f(\\mathbf{x},p)= \\prod_{i=1}^n \\left(p^{x_i} (1-p)^{1-x_i}  \\right) $$\n",
      "\n",
      "$$ f\\left(\\sum_{i=1}^n x_i  = 0,p\\right)= \\left(1-p\\right)^n  $$\n",
      "\n",
      "Likewise, if $\\lbrace x_i \\rbrace$ has one $i^{th}$  value equal to one, then\n",
      "\n",
      "$$ f\\left(\\sum_{i=1}^n x_i  = 1,p\\right)= n p \\prod_{i=1}^{n-1} \\left(1-p\\right)$$\n",
      "\n",
      "where the $n$ comes from the $n$ ways to pick one value equal to one from the $n$ elements $x_i$. Continuing this way, we can construct the entire density as\n",
      "\n",
      "$$ f\\left(\\sum_{i=1}^n x_i  = k,p\\right)= \\binom{n}{k} p^k  (1-p)^{n-k}  $$\n",
      "\n",
      "where the term on the left is the binomial coefficient of $n$ things taken $k$ at a time. This is the binomial distribution."
     ]
    },
    {
     "cell_type": "heading",
     "level": 4,
     "metadata": {},
     "source": [
      "Confidence Intervals"
     ]
    },
    {
     "cell_type": "markdown",
     "metadata": {},
     "source": [
      "Now, we are ready to ask some meaningful questions. For example,\n",
      "\n",
      "$$ \\mathbb{P}\\left( | \\hat{p}-p | \\le \\epsilon p \\right) $$\n",
      "\n",
      "Or, in words, what is the probability we can get within $\\epsilon$ percent of the true value of $p$. Rewriting,\n",
      "\n",
      "$$ \\mathbb{P}\\left(  p - \\epsilon p \\lt \\hat{p} \\lt p + \\epsilon p \\right) = \\mathbb{P}\\left(  n p - n \\epsilon p \\lt \\sum_{i=1}^n x_i   \\lt n p + n \\epsilon p \\right)$$\n",
      "\n",
      "Let's plug in some live numbers here for our worst case scenario where $p=1/2$. Then, if $\\epsilon = 1/100$, we have\n",
      "\n",
      "$$ \\mathbb{P}\\left( \\frac{99 n}{100} \\lt \\sum_{i=1}^n x_i   \\lt \\frac{101 n}{100} \\right)$$\n",
      "\n",
      "Since the sum in integer-valued, we need $n> 100$ to even compute this. Thus, if $n=101$ we have\n",
      "\n",
      "$$ \\mathbb{P}\\left( \\frac{9999}{200} \\lt \\sum_{i=1}^{101} x_i   \\lt \\frac{10201}{200} \\right) = f\\left(\\sum_{i=1}^{101} x_i  = 50,p\\right)= \\binom{101}{50} (1/2)^{50}  (1-1/2)^{101-50} = 0.079$$\n",
      "\n",
      "This means that in the worst-case scenario for $p=1/2$, given $n=101$ trials, we will only get within 1% of the actual $p=1/2$ about 8% of the time. If you feel disappointed, then you understand what's going on. What if the coin was really heavy and it was costly to repeat this 101 times? Then, we would be within 1% of the actual value only 8% of the time. Those odds are terrible.\n",
      "\n",
      "Let's come at this another way: given I could only flip the coin 100 times, how close could I come to the true underlying value with high probability (say, 95%)? In this case we are seeking to solve for $\\epsilon$. Plugging in gives,\n",
      "\n",
      "$$ \\mathbb{P}\\left(  50 - 50 \\epsilon \\lt \\sum_{i=1}^{100} x_i   \\lt 50 + 50 \\epsilon  \\right) = 0.95$$\n",
      "\n",
      "which we have to solve for $\\epsilon$. Fortunately, all the tools we need to solve for this are already in `scipy`."
     ]
    },
    {
     "cell_type": "code",
     "collapsed": false,
     "input": [
      "import scipy.stats\n",
      "\n",
      "b=scipy.stats.binom(100,.5) # n=100, p = 0.5, distribution of the estimator \\hat{p}\n",
      "\n",
      "f,ax= subplots()\n",
      "ax.stem(arange(0,101),b.pmf(arange(0,101))) # heres the density of the sum of x_i\n",
      "\n",
      "g = lambda i:b.pmf(arange(-i,i)+50).sum() # symmetric sum the probability around the mean\n",
      "print 'this is pretty close to 0.95:%r'%g(10)\n",
      "ax.vlines( [50+10,50-10],0 ,ax.get_ylim()[1] ,color='r',lw=3.)\n"
     ],
     "language": "python",
     "metadata": {},
     "outputs": [
      {
       "output_type": "stream",
       "stream": "stdout",
       "text": [
        "this is pretty close to 0.95:0.95395593307064808\n"
       ]
      },
      {
       "output_type": "pyout",
       "prompt_number": 5,
       "text": [
        "<matplotlib.collections.LineCollection at 0x54c28f0>"
       ]
      },
      {
       "output_type": "display_data",
       "png": "[encoded data removed]",
       "text": [
        "<matplotlib.figure.Figure at 0x4e98e10>"
       ]
      }
     ],
     "prompt_number": 5
    },
    {
     "cell_type": "markdown",
     "metadata": {},
     "source": [
      "Now, we can solve this as\n",
      "\n",
      "$$ 50 + 50 \\epsilon = 60 $$\n",
      "\n",
      "which makes $\\epsilon=1/5$ or 20%. So, flipping 100 times means I can only get within 20% of the real $p$ 95% of the time.\n"
     ]
    },
    {
     "cell_type": "code",
     "collapsed": false,
     "input": [
      "b=scipy.stats.bernoulli(.5) # coin distribution\n",
      "xs = b.rvs(100) # flip it 100 times\n",
      "phat = mean(xs) # estimated p\n",
      "\n",
      "print abs(phat-0.5) < 0.5*0.20 # did I make it w/in interval 95% of the time?"
     ],
     "language": "python",
     "metadata": {},
     "outputs": [
      {
       "output_type": "stream",
       "stream": "stdout",
       "text": [
        "True\n"
       ]
      }
     ],
     "prompt_number": 6
    },
    {
     "cell_type": "markdown",
     "metadata": {},
     "source": [
      "Let's keep doing this and see if we can get within this interval 95% of the time."
     ]
    },
    {
     "cell_type": "code",
     "collapsed": false,
     "input": [
      "out=[]\n",
      "b=scipy.stats.bernoulli(.5) # coin distribution\n",
      "for i in range(500): # number of tries\n",
      "    xs = b.rvs(100) # flip it 100 times\n",
      "    phat = mean(xs) # estimated p\n",
      "    out.append(abs(phat-0.5) < 0.5*0.20 ) # within 20% \n",
      "\n",
      "print 'Percentage of tries within 20 interval = %3.2f'%(100*sum(out)/float(len(out) ))"
     ],
     "language": "python",
     "metadata": {},
     "outputs": [
      {
       "output_type": "stream",
       "stream": "stdout",
       "text": [
        "Percentage of tries within 20 interval = 95.80\n"
       ]
      }
     ],
     "prompt_number": 7
    },
    {
     "cell_type": "markdown",
     "metadata": {},
     "source": [
      "Well, that seems to work. Now we have a way to get at the quality of the estimator, $\\hat{p}$. "
     ]
    },
    {
     "cell_type": "markdown",
     "metadata": {},
     "source": [
      "Let's see how this would have turned out if we continued with the assumption that $\\hat{p}$ was normally distributed. To use the normal distribution, we need to compute the variance of $\\hat{p}$. Recall from earlier, we have\n",
      "\n",
      "$$ \\sigma_\\hat{p}^2 = \\frac{p(1-p)}{n} $$\n",
      "\n",
      "The trick here is what to use for $p$ since that's what we are trying to estimate and we don't know it ahead of time! It turns out that one of the powerful properties of maximum likelihood estimators is that you can plug them in and still get a maximum likelihood estimator. Thus, plugging in here gives:\n",
      "\n",
      "$$ \\sigma_\\hat{p}^2 = \\frac{\\hat{p}(1-\\hat{p})}{n} $$\n",
      "\n",
      "Note that we already know the mean since we verified earlier that $\\hat{p}$ is unbiased. Thus, we want to ask the same question as before: Given 100 independent coin flips, how close could I come to the true underlying value with high probability (say, 95%)? In this case we are seeking to solve for $\\epsilon$ in the following\n",
      "\n",
      "$$ \\int_{\\hat{p}-\\epsilon}^{\\hat{p}+\\epsilon} \\mathcal{N}_{\\hat{p},\\sigma_\\hat{p}}(\\tau) d\\tau = 0.95  $$\n",
      "\n",
      "which we can compute in the following code"
     ]
    },
    {
     "cell_type": "code",
     "collapsed": false,
     "input": [
      "import scipy.optimize\n",
      "\n",
      "xs=b.rvs(100)\n",
      "phat=mean(xs) # estimator\n",
      "phat = 0.5\n",
      "ndist=scipy.stats.norm(phat, phat*(1-phat)/len(xs))# normal distribution objects\n",
      "ndist = scipy.stats.norm(0.5,0.5*(1-0.5)/100)\n",
      "# use cumulative density function instead of integrating\n",
      "epsilon=scipy.optimize.fsolve(lambda ep: ndist.cdf(phat+ep)  - ndist.cdf(phat-ep) -.95,.0001)[0]\n",
      "print 'epsilon as percentage of mean = %3.4f %%'%(100*epsilon/phat) # epsi1lon as percentage of mean"
     ],
     "language": "python",
     "metadata": {},
     "outputs": [
      {
       "output_type": "stream",
       "stream": "stdout",
       "text": [
        "epsilon as percentage of mean = 0.9800 %\n"
       ]
      }
     ],
     "prompt_number": 98
    },
    {
     "cell_type": "heading",
     "level": 2,
     "metadata": {},
     "source": [
      "Summary"
     ]
    },
    {
     "cell_type": "code",
     "collapsed": false,
     "input": [
      "%qtconsole"
     ],
     "language": "python",
     "metadata": {},
     "outputs": [],
     "prompt_number": 8
    },
    {
     "cell_type": "code",
     "collapsed": false,
     "input": [],
     "language": "python",
     "metadata": {},
     "outputs": [],
     "prompt_number": 17
    }
   ],
   "metadata": {}
  }
 ]
}