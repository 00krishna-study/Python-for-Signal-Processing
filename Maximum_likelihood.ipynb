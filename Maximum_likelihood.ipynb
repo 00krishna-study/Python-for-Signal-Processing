{
 "metadata": {
  "name": "Maximum_likelihood"
 },
 "nbformat": 3,
 "nbformat_minor": 0,
 "worksheets": [
  {
   "cells": [
    {
     "cell_type": "heading",
     "level": 2,
     "metadata": {},
     "source": [
      "Maximum Likelihood Estimation Experiment"
     ]
    },
    {
     "cell_type": "markdown",
     "metadata": {},
     "source": [
      "Let's investigate the following experiment: You have coin and you want to estimate the probability of heads ($p$) for it.\n",
      "The coin is Bernoulli distributed:\n",
      "\n",
      "$$ \\phi(x)= p^x (1-p)^{(1-x)} $$\n",
      "\n",
      "where $x$ is the outcome, *1* for heads and *0* for tails. The $n$ independent flips, we have the likelihood:\n",
      "\n",
      "$$ \\mathcal{L}(p|\\mathbf{x})= \\prod_{i=1}^n p^{ x_i }(1-p)^{1-x_i} $$\n",
      "\n",
      "This is basically notation. We have just substituted everything into $ \\phi(x)$ under the independent-trials assumption. \n",
      "\n",
      "The idea of *maximum likelihood* is to maximize this as the function of $p$ after plugging in all of the $x_i$ data. This means that our estimator, $\\hat{p}$ , is a function of the observed $x_i$ data, and as such, is a random variable with its own distribution.\n",
      "\n",
      "\n"
     ]
    },
    {
     "cell_type": "heading",
     "level": 3,
     "metadata": {},
     "source": [
      "Simulating the Experiment"
     ]
    },
    {
     "cell_type": "markdown",
     "metadata": {},
     "source": [
      "We need the following code to setup the experiment of flipping the coin."
     ]
    },
    {
     "cell_type": "code",
     "collapsed": false,
     "input": [
      "from __future__ import division\n",
      "from scipy.stats import bernoulli \n",
      "import numpy as np\n",
      "\n",
      "np.random.seed(101) # set random seed for reproducibility\n",
      "p_true=1/2\n",
      "fp=bernoulli(p_true) # fair coin picks between A and B \n",
      "\n",
      "def sample(n=10):\n",
      "    'simulate coin flipping'\n",
      "    return fp.rvs(n)# flip it n times\n",
      "\n",
      "xs = sample(100) # generate some samples"
     ],
     "language": "python",
     "metadata": {},
     "outputs": [],
     "prompt_number": 1
    },
    {
     "cell_type": "markdown",
     "metadata": {},
     "source": [
      "Now, we can write out the likelihood function using `sympy`"
     ]
    },
    {
     "cell_type": "code",
     "collapsed": false,
     "input": [
      "import sympy\n",
      "from sympy.abc import x, z\n",
      "p=sympy.symbols('p',positive=True)\n",
      "\n",
      "L=   p**x*(1-p)**(1-x)\n",
      "J=np.prod([L.subs(x,i) for i in xs]) # objective function to maximize"
     ],
     "language": "python",
     "metadata": {},
     "outputs": [],
     "prompt_number": 2
    },
    {
     "cell_type": "markdown",
     "metadata": {},
     "source": [
      "Below, we use calculus to find the maximum. Note that taking the `log` of $J$ makes the maximization problem tractable but doesn't change the extrema."
     ]
    },
    {
     "cell_type": "code",
     "collapsed": false,
     "input": [
      "logJ=sympy.expand_log(sympy.log(J))\n",
      "sol=sympy.solve(sympy.diff(logJ,p),p)[0]\n",
      "\n",
      "x=linspace(0,2,300)\n",
      "plot(x,map(sympy.lambdify(p,logJ,'numpy'),x),sol,logJ.subs(p,sol),'o',\n",
      "                                          p_true,logJ.subs(p,p_true),'s',)\n",
      "xlabel('$p$',fontsize=18)\n",
      "ylabel('Likelihood',fontsize=18)\n",
      "title('Estimate not equal to true value',fontsize=18)"
     ],
     "language": "python",
     "metadata": {},
     "outputs": [
      {
       "output_type": "pyout",
       "prompt_number": 6,
       "text": [
        "<matplotlib.text.Text at 0x4e0bd10>"
       ]
      },
      {
       "output_type": "display_data",
       "png": "[encoded data removed]",
       "text": [
        "<matplotlib.figure.Figure at 0x4fe5770>"
       ]
      }
     ],
     "prompt_number": 6
    },
    {
     "cell_type": "markdown",
     "metadata": {},
     "source": [
      "Note that our estimator $\\hat{p}$ is not equal to the true value of $p$. This may sound disturbing, but keep in mind this estimate is a function of the random data; and since that data can change, the ultimate estimate can likewise change. I invite you to run this notebook a few times to see the estimated $p$ change. Remember we noted earlier that the estimator we are using is a *function* of the data and is thus also a *random variable*, just like the data is. \n",
      "\n",
      "Let's setup some code to empirically examine the behavior of the maximum likelihood estimator using a simulation of multiple trials."
     ]
    },
    {
     "cell_type": "code",
     "collapsed": false,
     "input": [
      "def estimator_gen(niter=10,ns=100):\n",
      "    'generate data to estimate distribution of maximum likelihood estimator'\n",
      "    out=[]\n",
      "    x=sympy.symbols('x',real=True)\n",
      "    L=   p**x*(1-p)**(1-x)\n",
      "    for i in range(niter):\n",
      "        xs = sample(ns) # generate some samples from the experiment\n",
      "        J=np.prod([L.subs(x,i) for i in xs]) # objective function to maximize\n",
      "        logJ=sympy.expand_log(sympy.log(J)) # negative so we seek maxima, not minima\n",
      "        sol=sympy.solve(sympy.diff(logJ,p),p)[0]\n",
      "        out.append(float(sol.evalf()))\n",
      "    return out if len(out)>1 else out[0] # return scalar if list contains only 1 term\n",
      "    \n",
      "etries = estimator_gen(100) # this may take awhile, depending on how much data you want to generate\n",
      "hist(etries) # histogram of maximum likelihood estimator\n",
      "title('$\\mu=%3.3f,\\sigma=%3.3f$'%(mean(etries),std(etries)),fontsize=18)"
     ],
     "language": "python",
     "metadata": {},
     "outputs": [
      {
       "output_type": "pyout",
       "prompt_number": 32,
       "text": [
        "<matplotlib.text.Text at 0x55d62f0>"
       ]
      },
      {
       "output_type": "display_data",
       "png": "[encoded data removed]",
       "text": [
        "<matplotlib.figure.Figure at 0x55b2bd0>"
       ]
      }
     ],
     "prompt_number": 32
    },
    {
     "cell_type": "markdown",
     "metadata": {},
     "source": [
      "Note that the mean of the estimator is pretty close to the true value, but looks can be deceiving. The only way to know for sure is to check if the estimator is unbiased, namely, if\n",
      "\n",
      "$$ \\mathbb{E}(\\hat{p}) = p $$"
     ]
    },
    {
     "cell_type": "markdown",
     "metadata": {},
     "source": [
      "Because this problem is pretty simple, we can go forward and solve for this in general noting that since $x=0$ or $x=1$, the terms in the product of $\\mathcal{L}$ above are either $p$, if $x_i=1$ or $1-p$ if $x_i=0$. This means that we can write\n",
      "\n",
      "$$ \\mathcal{L}(p|\\mathbf{x})= p^{\\sum_{i=1}^n x_i}(1-p)^{n-\\sum_{i=1}^n x_i} $$\n",
      "\n",
      "with corresponding log as\n",
      "\n",
      "$$ J=\\log(\\mathcal{L}(p|\\mathbf{x})) =  \\log(p)  \\sum_{i=1}^n x_i +   \\log\\(1-p) \\left(n-\\sum_{i=1}^n x_i\\right)$$ \n",
      "\n",
      "Taking the derivative of this gives:\n",
      "\n",
      "$$  \\frac{dJ}{dp} = \\frac{1}{p}\\sum_{i=1}^n x_i + \\frac{(n-\\sum_{i=1}^n x_i)}{p-1} $$\n",
      "\n",
      "and solving this leads to\n",
      "\n",
      "$$  \\hat{p} = \\frac{1}{ n} \\sum_{i=1}^n x_i $$\n",
      "\n",
      "Now, we can check if this estimator is biased by computing its expectation:\n",
      "\n",
      "$$ \\mathbb{E}\\left(\\hat{p}\\right) =\\frac{1}{n}\\sum_i^n \\mathbb{E}(x_i) = \\frac{1}{n} n \\mathbb{E}(x_i) $$\n",
      "\n",
      "by linearity of the expectation and where\n",
      "\n",
      "$$\\mathbb{E}(x_i)  = p$$\n",
      "\n",
      "Therefore,\n",
      "\n",
      "$$ \\mathbb{E}\\left(\\hat{p}\\right) =p $$\n",
      "\n",
      "This means that the esimator is unbiased. This is good news. We almost always want our estimators to be unbiased. Similarly, \n",
      "\n",
      "$$ \\mathbb{E}\\left(\\hat{p}^2\\right) = \\frac{1}{n^2} \\mathbb{E}\\left[\\left(  \\sum_{i=1}^n x_i \\right)^2 \\right]$$\n",
      "\n",
      "and where\n",
      "\n",
      "$$ \\mathbb{E}\\left(x_i^2\\right) =p$$\n",
      "\n",
      "and by the independence assumption,\n",
      "\n",
      "$$ \\mathbb{E}\\left(x_i x_j\\right) =\\mathbb{E}(x_i)\\mathbb{E}( x_j) =p^2$$\n",
      "\n",
      "Thus,\n",
      "\n",
      "$$ \\mathbb{E}\\left(\\hat{p}^2\\right) =\\left(\\frac{1}{n^2}\\right) n \n",
      "\\left[\n",
      "p+(n-1)p^2\n",
      "\\right]\n",
      "$$\n",
      "\n",
      "So, the variance of the estimator, $\\hat{p}$ is the following:\n",
      "\n",
      "$$ \\sigma_\\hat{p}^2 = \\mathbb{E}\\left(\\hat{p}^2\\right)- \\mathbb{E}\\left(\\hat{p}\\right)^2  = \\frac{p(1-p)}{n} $$\n",
      "\n",
      "Note that the $n$ in the denominator means that the variance asymptotically goes to zero as $n$ increases (i.e. we consider more and more samples). This is good news also because it means that more and more coin flips leads to a better estimate of the underlying $p$. Note that the `sqrt` of this is known as the *standard error* in statistics.\n",
      "\n",
      "Unfortunately, these are practically useless because we have to know $p$ to apply these formulae and $p$ is the parameter we are trying to estimate in the first place! But, looking at $ \\sigma_\\hat{p}^2 $, we can immediately notice that if $p=0$, then there is no estimator variance because the outcomes are guaranteed to be tails. Also, the maximum of this variance, for whatever $n$, happens at $p=1/2$. This is our worst case scenario and the only way to compensate is with more samples (i.e. larger $n$).\n"
     ]
    },
    {
     "cell_type": "markdown",
     "metadata": {},
     "source": [
      "However, all we have really done is compute the mean and variance of the estimator. In general, this is insufficient to characterize the underlying probability density of $\\hat{p}$, except if we somehow knew that  $\\hat{p}$ were normally distributed. This is where the powerful [*central limit theorem*](http://mathworld.wolfram.com/CentralLimitTheorem.html) comes in. The form of the estimator, which is just a mean estimator, implies that we can apply this theorem and conclude that  $\\hat{p}$ is normally distributed. However, there's a wrinkle here: the theorem tells us that  $\\hat{p}$ is asymptotically normal, it doesn't quantify how many samples $n$ we need to approach this asymptotic paradise. In our simulation this is no problem since we can generate as much data as we like, but in the real world, with a costly experiment, each sample may be precious. In the following, we'll take two approaches to this question of how close we can come to the asymptotic paradise: one analytical and the other computational.\n"
     ]
    },
    {
     "cell_type": "heading",
     "level": 3,
     "metadata": {},
     "source": [
      "Estimator Density"
     ]
    },
    {
     "cell_type": "markdown",
     "metadata": {},
     "source": [
      "Because the problem is simple, we can write out the full distribution of the estimator,  $\\hat{p}$. To approach this problem, we first have to ask what is the probability that the estimator will equal a specific value and the tally up all the ways that could happen with their corresponding probabilities. For example, what is the probability that\n",
      "\n",
      "$$  \\hat{p} = \\frac{1}{n}\\sum_{i=1}^n x_i  = 0 $$\n",
      "\n",
      "This can only happen one way: when $x_i=0 \\hspace{0.5em} \\forall i$. The probability of this happening can be computed from the density\n",
      "\n",
      "$$ f(\\mathbf{x},p)= \\prod_{i=1}^n \\left(p^{x_i} (1-p)^{1-x_i}  \\right) $$\n",
      "\n",
      "$$ f\\left(\\sum_{i=1}^n x_i  = 0,p\\right)= \\left(1-p\\right)^n  $$\n",
      "\n",
      "Likewise, if $\\lbrace x_i \\rbrace$ has one $i^{th}$  value equal to one, then\n",
      "\n",
      "$$ f\\left(\\sum_{i=1}^n x_i  = 1,p\\right)= n p \\prod_{i=1}^{n-1} \\left(1-p\\right)$$\n",
      "\n",
      "where the $n$ comes from the $n$ ways to pick one value equal to one from the $n$ elements $x_i$. Continuing this way, we can construct the entire density as\n",
      "\n",
      "$$ f\\left(\\sum_{i=1}^n x_i  = k,p\\right)= \\binom{n}{k} p^k  (1-p)^{n-k}  $$\n",
      "\n",
      "where the term on the left is the binomial coefficient of $n$ things taken $k$ at a time. This is the binomial distribution."
     ]
    },
    {
     "cell_type": "markdown",
     "metadata": {},
     "source": [
      "Now, we are setup to ask some meaningful questions. For example,\n",
      "\n",
      "$$ \\mathbb{P}\\left( | \\hat{p}-p | \\le \\epsilon p \\right) $$\n",
      "\n",
      "Or, in words, what is the probability we can get within $\\epsilon$ percent of the true value of $p$. Rewriting,\n",
      "\n",
      "$$ \\mathbb{P}\\left(  p - \\epsilon p \\lt \\hat{p} \\lt p + \\epsilon p \\right) = \\mathbb{P}\\left(  n p - n \\epsilon p \\lt \\sum_{i=1}^n x_i   \\lt n p + n \\epsilon p \\right)$$\n",
      "\n",
      "Let's plug in some live numbers here for our worst case scenario where $p=1/2$. Then, if $\\epsilon = 1/100$, we have\n",
      "\n",
      "$$ \\mathbb{P}\\left( \\frac{99 n}{100} \\lt \\sum_{i=1}^n x_i   \\lt \\frac{101 n}{100} \\right)$$\n",
      "\n",
      "Since the sum in integer-valued, we need $n> 100$ to even compute this. Thus, if $n=101$ we have\n",
      "\n",
      "$$ \\mathbb{P}\\left( \\frac{9999}{200} \\lt \\sum_{i=1}^{101} x_i   \\lt \\frac{10201}{200} \\right) = f\\left(\\sum_{i=1}^{101} x_i  = 50,p\\right)= \\binom{101}{50} (1/2)^{50}  (1-1/2)^{101-50} = 0.079$$\n",
      "\n",
      "This means that in the worst-case scenario for $p=1/2$, given $n=101$ trials, we will only get within 1% of the actual $p=1/2$ about 8% of the time."
     ]
    },
    {
     "cell_type": "code",
     "collapsed": false,
     "input": [
      "x=sympy.symbols('x',real=True)\n",
      "L= pb**x*(1-pb)**(1-x)/2+(pa**x*(1-pa)**(1-x))/2 \n",
      "binomial=sympy.combinatorial.factorials.binomial # binomial coefficent\n",
      "xs = zeros(10,dtype=int)\n",
      "psi_density = dict() # as a function of psi indexed by sum(x_i)\n",
      "for k in range(len(xs)+1):\n",
      "    psi_density[sum(xs)] = binomial(len(xs),k)*np.prod([L.subs(x,i) for i in xs]) # i count of zeros\n",
      "    if k<len(xs): xs[k]=1\n",
      "\n",
      "        \n",
      "print sympy.simplify(sum(psi_density.values())) # this should sum to 1"
     ],
     "language": "python",
     "metadata": {},
     "outputs": [
      {
       "output_type": "stream",
       "stream": "stdout",
       "text": [
        "1\n"
       ]
      }
     ],
     "prompt_number": 128
    },
    {
     "cell_type": "markdown",
     "metadata": {},
     "source": [
      "Now, that we have a functional representation of the density"
     ]
    },
    {
     "cell_type": "markdown",
     "metadata": {},
     "source": [
      "The problem with the two equations generated above is that they are not linearly independent, which means that the solutions is actually a family of solutions on a contour. Further, the Hessian is singular here, so we can't conclude extrema regarding these solutions."
     ]
    },
    {
     "cell_type": "markdown",
     "metadata": {},
     "source": [
      "Let's suppose that we somehow knew $z$, then the maximum likelihood estimate for $p_a$ or $p_b$ would be\n",
      "\n",
      "$$ p_a = \\frac{\\sum x_i}{|x_i|_0} $$\n",
      "\n",
      "where $ |x_i|_0 $ denotes the number of tosses. Remember that $x_i \\in \\lbrace 0,1 \\rbrace$. The idea behind expectation-maximization is that we want to use this maximum likelihood estimate after computing the expectation over the missing variable (in this case, $z$). \n",
      "\n",
      "The following code uses `sympy` to setup the functions symbolically and convert them to `numpy` functions that we can quickly evaluate. Because it's easier and more stable to evaluate, we will work with the `log` of the $J$ function. It is useful to keep track of the *incomplete log-likelihood* since it is monotone increasing and good way to identify coding errors. This is the log-likelihood in the case where we had not introduced the $z$ variable as a way of separating the two cases. Ultimately, this is the objective function for our problem. The introduction of $z$ is really just an artifact of this approach. So, since we pick either coin with $1/2$ probability, we just substitute in $1/2$ for z in $J$ to get this incomplete log-likelihood.\n",
      "  "
     ]
    },
    {
     "cell_type": "markdown",
     "metadata": {},
     "source": [
      "Now that we have the functions set up, we can pick some bias values for each of the coins below and simulate the experiment."
     ]
    },
    {
     "cell_type": "markdown",
     "metadata": {},
     "source": [
      "Next, we need to compute the expectation step since we already have maximum likelihood formulas for the maximization step. To avoid notational overload, we will just use $\\Theta$ to denote the $p_b$ and $p_a$ parameters and the data $x_i$. This means that the density function of $z$ and $\\Theta$ can be written as the following:\n",
      "\n",
      "$$ \\mathbb{P}(z,\\Theta) = \\phi_a(\\Theta) ^ z \\phi_b(\\Theta) ^ {(1-z)} $$\n",
      "\n",
      "For the expectation part we have to compute $\\mathbb{E}(z|\\Theta)$ but since $z\\in \\lbrace 0,1 \\rbrace$, this simplifies easily\n",
      "\n",
      "$$ \\mathbb{E}(z|\\Theta) = 1 \\cdot \\mathbb{P}(z=1|\\Theta) + 0 \\cdot \\mathbb{P}(z=0|\\Theta) =  \\mathbb{P}(z=1|\\Theta)  $$\n",
      "\n",
      "Now, the only thing left is to find $  \\mathbb{P}(z=1|\\Theta) $ which we can do using Bayes rule:\n",
      "\n",
      "$$  \\mathbb{P}(z=1|\\Theta)  = \\frac{ \\mathbb{P}(\\Theta|z=1)\\mathbb{P}(z=1)}{\\mathbb{P}(\\Theta)} $$\n",
      "\n",
      "The term in the denominator comes from summing (integrating) out the $z$ items in the full joint density $ \\mathbb{P}(z,\\Theta) $\n",
      "\n",
      "$$ \\mathbb{P}(\\Theta) = (\\phi_a(\\Theta) + \\phi_b(\\Theta))\\frac{1}{2} $$\n",
      "\n",
      "and since $\\mathbb{P}(z=1)=1/2$, we finally obtain\n",
      "\n",
      "$$  \\mathbb{E}(z|\\Theta) =\\mathbb{P}(z=1|\\Theta)  = \\frac{\\phi_a(\\Theta)}{\\phi_a(\\Theta) + \\phi_b(\\Theta)} $$\n",
      "\n",
      "and which is coded below."
     ]
    },
    {
     "cell_type": "code",
     "collapsed": false,
     "input": [
      "def ez(x,pa,pb): # expected value of hidden variable\n",
      "  return bernoulli(pa).pmf(x)/(bernoulli(pa).pmf(x)+ bernoulli(pb).pmf(x))"
     ],
     "language": "python",
     "metadata": {},
     "outputs": [],
     "prompt_number": 16
    },
    {
     "cell_type": "markdown",
     "metadata": {},
     "source": [
      "Now, we're ready to simulate the algorithm and plot its performance!"
     ]
    },
    {
     "cell_type": "code",
     "collapsed": false,
     "input": [
      "out=[];lout=[] # containers for outputs\n",
      "pa=0.1;pb=0.25; # initial point\n",
      "niter=10 #\n",
      "\n",
      "x=sample(100) # data over number of total coin-flips. This determines error surface!\n",
      "for i in range(niter):\n",
      "    tau=ez(x,pa,pb) # expected value of z-variable\n",
      "    lout.append( sum(Lf(x,pa,pb))) # track incomplete likelihood value (should be monotone)\n",
      "    out.append((pa,pb))          # keep track of (pa,pb) steps\n",
      "    pa=sum(tau*x)/sum(tau)       # new maximum  likelihood estimate of pa\n",
      "    pb=sum(x*(1-tau))/sum(1-tau) # new maximum likelihood estimate of pb\n",
      "     \n",
      "\n",
      "fig=figure()\n",
      "fig.set_figwidth(12)\n",
      "ax=fig.add_subplot(121)\n",
      "ax.plot(array(out),'o-')\n",
      "ax.legend(('pa','pb'),loc=0)\n",
      "ax.hlines([pa_true,pb_true],0,len(out),['b','g'])\n",
      "ax.axis(ymax=1,ymin=0)\n",
      "ax.set_xlabel('iteration',fontsize=18)\n",
      "ax.set_ylabel('pa,pb values')\n",
      "ax=fig.add_subplot(122)\n",
      "ax.plot(array(lout),'o-')\n",
      "ax.set_xlabel('iteration',fontsize=18)\n",
      "ax.set_ylabel('incomplete likelihood')"
     ],
     "language": "python",
     "metadata": {},
     "outputs": [
      {
       "output_type": "pyout",
       "prompt_number": 17,
       "text": [
        "<matplotlib.text.Text at 0x5459190>"
       ]
      },
      {
       "output_type": "display_data",
       "png": "[encoded data removed]",
       "text": [
        "<matplotlib.figure.Figure at 0x50d4990>"
       ]
      }
     ],
     "prompt_number": 17
    },
    {
     "cell_type": "markdown",
     "metadata": {},
     "source": [
      "The first thing to notice about these plots is that the EM algorithm converges very quickly, but unfortunately to the wrong result! The code below constructs a error surface that the algorithm is exploring to find out why."
     ]
    },
    {
     "cell_type": "code",
     "collapsed": false,
     "input": [
      "pa_step=linspace(0,1,30)\n",
      "pb_step=linspace(0,1,20)\n",
      "z=Lf(x,pa_step[:,None],pb_step[:,None,None]).sum(axis=2) # numpy broadcasting\n",
      "fig=figure()\n",
      "ax=fig.add_subplot(111)\n",
      "p=ax.contourf(pa_step,pb_step,z,30,cmap=cm.gray)\n",
      "xa,xb=zip(*out)\n",
      "ax.plot(xa,xb,'ro',pa_true,pb_true,'bs')\n",
      "ax.plot(xa[0],xb[0],'gx',ms=15.,mew=2.)\n",
      "ax.text(xa[0],xb[0],'start',color='g',fontsize=11.)\n",
      "ax.set_xlabel('pa')\n",
      "ax.set_ylabel('pb')\n",
      "fig.colorbar(p)"
     ],
     "language": "python",
     "metadata": {},
     "outputs": [
      {
       "output_type": "pyout",
       "prompt_number": 18,
       "text": [
        "<matplotlib.colorbar.Colorbar instance at 0x0561F0A8>"
       ]
      },
      {
       "output_type": "display_data",
       "png": "[encoded data removed]",
       "text": [
        "<matplotlib.figure.Figure at 0x52fe730>"
       ]
      }
     ],
     "prompt_number": 18
    },
    {
     "cell_type": "markdown",
     "metadata": {},
     "source": [
      "Note that the algorithm can get to the same contour as the true value, but it cannot move laterally to it. It can only hill-climb. This means that there is no mechanism for the algorithm to slide towards the correct answer because that kind of motion does not generate a change in the objective function."
     ]
    },
    {
     "cell_type": "code",
     "collapsed": true,
     "input": [],
     "language": "python",
     "metadata": {},
     "outputs": [],
     "prompt_number": 18
    },
    {
     "cell_type": "heading",
     "level": 2,
     "metadata": {},
     "source": [
      "Summary"
     ]
    },
    {
     "cell_type": "code",
     "collapsed": false,
     "input": [
      "%qtconsole"
     ],
     "language": "python",
     "metadata": {},
     "outputs": [],
     "prompt_number": 8
    },
    {
     "cell_type": "code",
     "collapsed": false,
     "input": [],
     "language": "python",
     "metadata": {},
     "outputs": [],
     "prompt_number": 19
    }
   ],
   "metadata": {}
  }
 ]
}