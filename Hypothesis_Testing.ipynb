{
 "metadata": {
  "name": "",
  "signature": "sha256:ac938a5c270194ec6ea0634afaf5a0ed830aaad4f8b59a5d82bb3ea66bc1c3f8"
 },
 "nbformat": 3,
 "nbformat_minor": 0,
 "worksheets": [
  {
   "cells": [
    {
     "cell_type": "code",
     "collapsed": false,
     "input": [
      "%matplotlib inline"
     ],
     "language": "python",
     "metadata": {},
     "outputs": [],
     "prompt_number": 3
    },
    {
     "cell_type": "markdown",
     "metadata": {},
     "source": [
      "Given the coin-tossing experiment with unknown parameter $p$. The individual coin-flips are Bernoulli distributed. As we discussed previously, the estimator for $p$ is the following:\n",
      "\n",
      "$ \\hat{p}   = \\frac{1}{n} \\sum_{i=1}^n X_i$\n",
      "\n",
      "We have to separate hypotheses: $H_0$ is the so-called null hypothesis. In our case this can be \n",
      "\n",
      "$$ H_0 : p \\lt \\frac{1}{2}$$\n",
      "\n",
      "and the alternative hypothesis is then\n",
      "\n",
      "$$ H_1 : p \\ge \\frac{1}{2}$$\n",
      "\n",
      "To choose between these, we need a statistical test that is a function, $G$, of the sample set\n",
      "$\\mathbf{X}_n=\\left\\{ X_i \\right\\}_n $. This test will have a threshold, something like\n",
      "\n",
      "$$ G(\\mathbf{X}_n) < c \\implies H_0 $$  \n",
      "\n",
      "and otherwise choose $H_1$. To sum up at this point, we have the observed data $\\mathbf{X}_n$ and a function $G$ that will somehow map that data onto the real line. Then, using the constant $c$ as a threshold, the inequality effectively divides the real line into two parts, one corresponding to each of the hypotheses.\n",
      "\n",
      "Whatever this test $G$ is, it will make mistakes of two types -- false negatives and false positives. The false positives arise from the case where we declare $H_0$ when the test says we should declare $H_1$. Here are the false positives (i.e. false alarm):\n",
      "\n",
      "$$ \\mathbb{P}_{FA} = \\mathbb{P}( G(\\mathbf{X}_n) \\gt c \\vert p \\le \\frac{1}{2})$$\n",
      "\n",
      "Or, alternatively,\n",
      "\n",
      "$$ \\mathbb{P}_{FA} = \\mathbb{P}( G(\\mathbf{X}_n) \\gt c \\vert H_0)$$\n",
      "\n",
      "Likewise, the other error is a false negative, which we can write analogously as\n",
      "\n",
      "$$ \\mathbb{P}_{FN} = \\mathbb{P}( G(\\mathbf{X}_n) \\lt c \\vert H_1)$$\n",
      "\n",
      "Thus, by choosing some acceptable values for either of these errors, we can solve for the other one. Later we will see that this is because these two quantities are co-dependent. The practice is usually to pick a value of $ \\mathbb{P}_{FA}$ and then find the corresponding value of $ \\mathbb{P}_{FN}$. Note that it is traditional to speak about *detection probability*, which is defined as\n",
      "\n",
      "$$ \\mathbb{P}_{D} = 1- \\mathbb{P}_{FN} = \\mathbb{P}( G(\\mathbf{X}_n) \\gt c \\vert H_1)$$ \n",
      "\n",
      "In other words, this is the probability of declaring $H_1$ when the test exceeds the threshold. This is Otherwise known as the *probability of a true detection*."
     ]
    },
    {
     "cell_type": "heading",
     "level": 2,
     "metadata": {},
     "source": [
      "Back to the coin flipping example"
     ]
    },
    {
     "cell_type": "markdown",
     "metadata": {},
     "source": [
      "In our previous problem, we wanted to derive an estimator for the underlying probability for the coin flipping experiment. For this example, we want to ask a softer question: is the underlying probability greater or less than 1/2. So, this leads to the two following hypotheses:\n",
      "\n",
      "$$ H_0 : p \\lt \\frac{1}{2}$$\n",
      "\n",
      "versus,\n",
      "\n",
      "$$ H_1 : p \\ge \\frac{1}{2}$$\n",
      "5\n",
      "Let's suppose we want to determine is based upon five observations. Now the only ingredient we're missing is the $G$ function and a way to pick between the two hypotheses. Out of the clear blue sky, let's pick the number of heads observed in the sequence of five observations. Thus, we have\n",
      "\n",
      "$$ G (\\mathbf{X}_5) := \\sum_{i=1}^5 X_i$$\n",
      "\n",
      "and, suppose further that we pick $H_1$  only if exactly five out of five observations are heads.\n",
      "\n",
      "Now, because all of the $X_i$ are random variables, so is $G$. Now, to find the corresponding probability mass function for this.  As usual, assuming independence, the probability of five heads is $p^5$."
     ]
    },
    {
     "cell_type": "code",
     "collapsed": false,
     "input": [
      "px = linspace(0,1,50)\n",
      "plot( px, px**5)\n",
      "xlabel('p',fontsize=18)\n",
      "ylabel('$f_G$',fontsize=18)"
     ],
     "language": "python",
     "metadata": {},
     "outputs": [
      {
       "metadata": {},
       "output_type": "pyout",
       "prompt_number": 8,
       "text": [
        "<matplotlib.text.Text at 0xa15ea90>"
       ]
      },
      {
       "metadata": {},
       "output_type": "display_data",
       "png": "[encoded data removed]",
       "text": [
        "<matplotlib.figure.Figure at 0xa04b4b0>"
       ]
      }
     ],
     "prompt_number": 8
    },
    {
     "cell_type": "code",
     "collapsed": false,
     "input": [],
     "language": "python",
     "metadata": {},
     "outputs": [],
     "prompt_number": 4
    },
    {
     "cell_type": "code",
     "collapsed": false,
     "input": [],
     "language": "python",
     "metadata": {},
     "outputs": []
    }
   ],
   "metadata": {}
  }
 ]
}