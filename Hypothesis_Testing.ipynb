{
 "metadata": {
  "name": "",
  "signature": "sha256:0fb7da43073e3066e89bcf9df11cad2b8b24132b0b89c1dc5b09485fdcab801c"
 },
 "nbformat": 3,
 "nbformat_minor": 0,
 "worksheets": [
  {
   "cells": [
    {
     "cell_type": "code",
     "collapsed": false,
     "input": [
      "%matplotlib inline"
     ],
     "language": "python",
     "metadata": {},
     "outputs": [],
     "prompt_number": 3
    },
    {
     "cell_type": "markdown",
     "metadata": {},
     "source": [
      "Given the coin-tossing experiment with unknown parameter $p$. The individual coin-flips are Bernoulli distributed. As we discussed previously, the estimator for $p$ is the following:\n",
      "\n",
      "$ \\hat{p}   = \\frac{1}{n} \\sum_{i=1}^n X_i$\n",
      "\n",
      "We have to separate hypotheses: $H_0$ is the so-called null hypothesis. In our case this can be \n",
      "\n",
      "$$ H_0 : p \\lt \\frac{1}{2}$$\n",
      "\n",
      "and the alternative hypothesis is then\n",
      "\n",
      "$$ H_1 : p \\ge \\frac{1}{2}$$\n",
      "\n",
      "To choose between these, we need a statistical test that is a function, $G$, of the sample set\n",
      "$\\mathbf{X}_n=\\left\\{ X_i \\right\\}_n $. This test will have a threshold, something like\n",
      "\n",
      "$$ G(\\mathbf{X}_n) < c \\implies H_0 $$  \n",
      "\n",
      "and otherwise choose $H_1$. To sum up at this point, we have the observed data $\\mathbf{X}_n$ and a function $G$ that will somehow map that data onto the real line. Then, using the constant $c$ as a threshold, the inequality effectively divides the real line into two parts, one corresponding to each of the hypotheses.\n",
      "\n",
      "Whatever this test $G$ is, it will make mistakes of two types -- false negatives and false positives. The false positives arise from the case where we declare $H_0$ when the test says we should declare $H_1$. Here are the false positives (i.e. false alarm):\n",
      "\n",
      "$$ \\mathbb{P}_{FA} = \\mathbb{P}( G(\\mathbf{X}_n) \\gt c \\vert p \\le \\frac{1}{2})$$\n",
      "\n",
      "Or, alternatively,\n",
      "\n",
      "$$ \\mathbb{P}_{FA} = \\mathbb{P}( G(\\mathbf{X}_n) \\gt c \\vert H_0)$$\n",
      "\n",
      "Likewise, the other error is a false negative, which we can write analogously as\n",
      "\n",
      "$$ \\mathbb{P}_{FN} = \\mathbb{P}( G(\\mathbf{X}_n) \\lt c \\vert H_1)$$\n",
      "\n",
      "Thus, by choosing some acceptable values for either of these errors, we can solve for the other one. Later we will see that this is because these two quantities are co-dependent. The practice is usually to pick a value of $ \\mathbb{P}_{FA}$ and then find the corresponding value of $ \\mathbb{P}_{FN}$. Note that it is traditional to speak about *detection probability*, which is defined as\n",
      "\n",
      "$$ \\mathbb{P}_{D} = 1- \\mathbb{P}_{FN} = \\mathbb{P}( G(\\mathbf{X}_n) \\gt c \\vert H_1)$$ \n",
      "\n",
      "In other words, this is the probability of declaring $H_1$ when the test exceeds the threshold. This is Otherwise known as the *probability of a true detection*."
     ]
    },
    {
     "cell_type": "heading",
     "level": 2,
     "metadata": {},
     "source": [
      "Back to the coin flipping example"
     ]
    },
    {
     "cell_type": "markdown",
     "metadata": {},
     "source": [
      "In our previous problem, we wanted to derive an estimator for the underlying probability for the coin flipping experiment. For this example, we want to ask a softer question: is the underlying probability greater or less than 1/2. So, this leads to the two following hypotheses:\n",
      "\n",
      "$$ H_0 : p \\lt \\frac{1}{2}$$\n",
      "\n",
      "versus,\n",
      "\n",
      "$$ H_1 : p \\ge \\frac{1}{2}$$\n",
      "5\n",
      "Let's suppose we want to determine is based upon five observations. Now the only ingredient we're missing is the $G$ function and a way to pick between the two hypotheses. Out of the clear blue sky, let's pick the number of heads observed in the sequence of five observations. Thus, we have\n",
      "\n",
      "$$ G (\\mathbf{X}_5) := \\sum_{i=1}^5 X_i$$\n",
      "\n",
      "and, suppose further that we pick $H_1$  only if exactly five out of five observations are heads.\n",
      "\n",
      "Now, because all of the $X_i$ are random variables, so is $G$. Now, to find the corresponding probability mass function for this.  As usual, assuming independence, the probability of five heads is $p^5$. This means that the probability of rejecting the $H_0$ hypothesis (and choosing $H_1$, because there are only two choices here) based on the unknown underlying probability is $p^5$. In the parlance, this is known and the *power function* as in denoted by $\\beta$ as in\n",
      "\n",
      "$$ \\beta(\\theta) = \\theta^5 $$\n",
      "\n",
      "where I'm using the standard $\\theta$ symbol to represent the underlying parameter ($p$ in this case). Let's get a quick plot this below."
     ]
    },
    {
     "cell_type": "code",
     "collapsed": false,
     "input": [
      "px = linspace(0,1,50)\n",
      "plot( px, px**5)\n",
      "xlabel(r'$\\theta$',fontsize=18)\n",
      "ylabel(r'$\\beta$',fontsize=18)"
     ],
     "language": "python",
     "metadata": {},
     "outputs": [
      {
       "metadata": {},
       "output_type": "pyout",
       "prompt_number": 12,
       "text": [
        "<matplotlib.text.Text at 0xa3f1630>"
       ]
      },
      {
       "metadata": {},
       "output_type": "display_data",
       "png": "[encoded data removed]",
       "text": [
        "<matplotlib.figure.Figure at 0xa7d8750>"
       ]
      }
     ],
     "prompt_number": 12
    },
    {
     "cell_type": "markdown",
     "metadata": {},
     "source": [
      "Now, to calculate the \n",
      "\n",
      "$$ \\mathbb{P}_{FA} = \\mathbb{P}( G(\\mathbf{X}_n)= 5 \\vert H_0)$$\n",
      "\n",
      "or, in other words,\n",
      "\n",
      "$$ \\mathbb{P}_{FA}(\\theta) = \\mathbb{P}( \\theta^5 \\vert H_0)$$\n",
      "\n",
      "Notice that this is a function of $\\theta$, which means there are many false alarm probability values that correspond to this test. To be on the conservative side, we'll pick the maximum (or, supremum if there are limits involved) of this function, which is known as the *size* of the test, traditionally denoted by $\\alpha$.\n",
      "\n",
      "$$ \\alpha = \\sup_{\\theta \\in \\Theta_0} \\beta(\\theta) $$\n",
      "\n",
      "which in our case is\n",
      "\n",
      "$$ \\alpha = \\sup_{\\theta < \\frac{1}{2}} \\theta^5 = (\\frac{1}{2})^5 = 0.03125$$\n",
      "\n",
      "which is a nice, low value. Likewise, for the detection probability, \n",
      "\n",
      "$$ \\mathbb{P}_{D}(\\theta) = \\mathbb{P}( \\theta^5 \\vert H_1)$$\n",
      "\n",
      "which is again a function of the parameter $\\theta$. The problem with this test is that the $\\mathbb{P}_{D}$ is pretty low for most of the domain of $\\theta$. Useful values for $\\mathbb{P}_{D}$ are usually in the nineties, which only happens here when $\\theta \\gt 0.98$. Ideally, we want a test that is zero for the domain corresponding to $H_0$ (i.e. $\\Theta_0$) and equal to one otherwise. Unfortunately, even if we increase the length of the observed sequence, we cannot escape this effect with this test. You can try plotting $\\theta^n$ for larger and larger values of $n$ to see this."
     ]
    },
    {
     "cell_type": "code",
     "collapsed": false,
     "input": [],
     "language": "python",
     "metadata": {},
     "outputs": [],
     "prompt_number": 13
    }
   ],
   "metadata": {}
  }
 ]
}