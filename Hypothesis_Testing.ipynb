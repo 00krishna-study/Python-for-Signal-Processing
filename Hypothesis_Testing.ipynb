{
 "metadata": {
  "name": "",
  "signature": "sha256:0a86fd462a7cf03856e7d4c5bfa6d25bcc0c91e8ca1e2d9cbc54c5e0a3029daa"
 },
 "nbformat": 3,
 "nbformat_minor": 0,
 "worksheets": [
  {
   "cells": [
    {
     "cell_type": "code",
     "collapsed": false,
     "input": [
      "%matplotlib inline"
     ],
     "language": "python",
     "metadata": {},
     "outputs": [],
     "prompt_number": 1
    },
    {
     "cell_type": "markdown",
     "metadata": {},
     "source": [
      "Given the coin-tossing experiment with unknown parameter $p$. The individual coin-flips are Bernoulli distributed. As we discussed previously, the estimator for $p$ is the following:\n",
      "\n",
      "$ \\hat{p}   = \\frac{1}{n} \\sum_{i=1}^n X_i$\n",
      "\n",
      "We have to separate hypotheses: $H_0$ is the so-called null hypothesis. In our case this can be \n",
      "\n",
      "$$ H_0 : p \\lt \\frac{1}{2}$$\n",
      "\n",
      "and the alternative hypothesis is then\n",
      "\n",
      "$$ H_1 : p \\ge \\frac{1}{2}$$\n",
      "\n",
      "To choose between these, we need a statistical test that is a function, $G$, of the sample set\n",
      "$\\mathbf{X}_n=\\left\\{ X_i \\right\\}_n $. This test will have a threshold --- something like\n",
      "\n",
      "$$ G(\\mathbf{X}_n) < c \\implies H_0 $$  \n",
      "\n",
      "and otherwise choose $H_1$\n",
      "\n",
      "Whatever this test is, it will make mistakes of two types -- false negatives and false positives. The false positives arise from the case where we declare $H_0$ when the test says we should declare $H_1$. Here are the false positives (i.e. false alarm):\n",
      "\n",
      "$$ \\mathbb{P}_{FA} = \\mathbb{P}( G(\\mathbf{X}_n) \\gt c \\vert p \\le \\frac{1}{2})$$\n",
      "\n",
      "Or, alternatively,\n",
      "\n",
      "$$ \\mathbb{P}_{FA} = \\mathbb{P}( G(\\mathbf{X}_n) \\gt c \\vert H_0)$$\n",
      "\n",
      "Likewise, the other error is a false negative, which we can write analogously as\n",
      "\n",
      "$$ \\mathbb{P}_{FN} = \\mathbb{P}( G(\\mathbf{X}_n) \\lt c \\vert H_1)$$\n",
      "\n",
      "Thus, by choosing some acceptable values for either of these errors, we can solve for the other one. The practice is usually to pick a value of $ \\mathbb{P}_{FA}$ and then find the corresponding value of $ \\mathbb{P}_{FN}$. Note that it is traditional to speak about *detection probability*, which is defined as\n",
      "\n",
      "$$ \\mathbb{P}_{D} = 1- \\mathbb{P}_{FN} = \\mathbb{P}( G(\\mathbf{X}_n) \\gt c \\vert H_1)$$ \n",
      "\n",
      "In other words, this is the probability of declaring $H_1$ when the test exceeds the threshold. "
     ]
    },
    {
     "cell_type": "code",
     "collapsed": false,
     "input": [],
     "language": "python",
     "metadata": {},
     "outputs": []
    }
   ],
   "metadata": {}
  }
 ]
}