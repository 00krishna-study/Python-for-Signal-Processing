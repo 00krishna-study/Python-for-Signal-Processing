{
 "metadata": {
  "name": "",
  "signature": "sha256:5859a004d70f2e7f32574355c2326555910f692315211c51a0e2285f0f811d0c"
 },
 "nbformat": 3,
 "nbformat_minor": 0,
 "worksheets": [
  {
   "cells": [
    {
     "cell_type": "code",
     "collapsed": false,
     "input": [
      "%matplotlib inline"
     ],
     "language": "python",
     "metadata": {},
     "outputs": [],
     "prompt_number": 19
    },
    {
     "cell_type": "markdown",
     "metadata": {},
     "source": [
      "Given the coin-tossing experiment with unknown parameter $p$. The individual coin-flips are Bernoulli distributed. As we discussed previously, the estimator for $p$ is the following:\n",
      "\n",
      "$ \\hat{p}   = \\frac{1}{n} \\sum_{i=1}^n X_i$\n",
      "\n",
      "We have to separate hypotheses: $H_0$ is the so-called null hypothesis. In our case this can be \n",
      "\n",
      "$$ H_0 : p \\lt \\frac{1}{2}$$\n",
      "\n",
      "and the alternative hypothesis is then\n",
      "\n",
      "$$ H_1 : p \\ge \\frac{1}{2}$$\n",
      "\n",
      "To choose between these, we need a statistical test that is a function, $G$, of the sample set\n",
      "$\\mathbf{X}_n=\\left\\{ X_i \\right\\}_n $. This test will have a threshold, something like\n",
      "\n",
      "$$ G(\\mathbf{X}_n) < c \\implies H_0 $$  \n",
      "\n",
      "and otherwise choose $H_1$. To sum up at this point, we have the observed data $\\mathbf{X}_n$ and a function $G$ that will somehow map that data onto the real line. Then, using the constant $c$ as a threshold, the inequality effectively divides the real line into two parts, one corresponding to each of the hypotheses.\n",
      "\n",
      "Whatever this test $G$ is, it will make mistakes of two types -- false negatives and false positives. The false positives arise from the case where we declare $H_0$ when the test says we should declare $H_1$. Here are the false positives (i.e. false alarm):\n",
      "\n",
      "$$ \\mathbb{P}_{FA} = \\mathbb{P}( G(\\mathbf{X}_n) \\gt c \\vert p \\le \\frac{1}{2})$$\n",
      "\n",
      "Or, alternatively,\n",
      "\n",
      "$$ \\mathbb{P}_{FA} = \\mathbb{P}( G(\\mathbf{X}_n) \\gt c \\vert H_0)$$\n",
      "\n",
      "Likewise, the other error is a false negative, which we can write analogously as\n",
      "\n",
      "$$ \\mathbb{P}_{FN} = \\mathbb{P}( G(\\mathbf{X}_n) \\lt c \\vert H_1)$$\n",
      "\n",
      "Thus, by choosing some acceptable values for either of these errors, we can solve for the other one. Later we will see that this is because these two quantities are co-dependent. The practice is usually to pick a value of $ \\mathbb{P}_{FA}$ and then find the corresponding value of $ \\mathbb{P}_{FN}$. Note that it is traditional to speak about *detection probability*, which is defined as\n",
      "\n",
      "$$ \\mathbb{P}_{D} = 1- \\mathbb{P}_{FN} = \\mathbb{P}( G(\\mathbf{X}_n) \\gt c \\vert H_1)$$ \n",
      "\n",
      "In other words, this is the probability of declaring $H_1$ when the test exceeds the threshold. This is Otherwise known as the *probability of a true detection*."
     ]
    },
    {
     "cell_type": "heading",
     "level": 2,
     "metadata": {},
     "source": [
      "Back to the coin flipping example"
     ]
    },
    {
     "cell_type": "markdown",
     "metadata": {},
     "source": [
      "In our previous problem, we wanted to derive an estimator for the underlying probability for the coin flipping experiment. For this example, we want to ask a softer question: is the underlying probability greater or less than 1/2. So, this leads to the two following hypotheses:\n",
      "\n",
      "$$ H_0 : p \\lt \\frac{1}{2}$$\n",
      "\n",
      "versus,\n",
      "\n",
      "$$ H_1 : p \\ge \\frac{1}{2}$$\n",
      "5\n",
      "Let's suppose we want to determine is based upon five observations. Now the only ingredient we're missing is the $G$ function and a way to pick between the two hypotheses. Out of the clear blue sky, let's pick the number of heads observed in the sequence of five observations. Thus, we have\n",
      "\n",
      "$$ G (\\mathbf{X}_5) := \\sum_{i=1}^5 X_i$$\n",
      "\n",
      "and, suppose further that we pick $H_1$  only if exactly five out of five observations are heads. We'll call this the *all-heads* test.\n",
      "\n",
      "Now, because all of the $X_i$ are random variables, so is $G$. Now, to find the corresponding probability mass function for this.  As usual, assuming independence, the probability of five heads is $p^5$. This means that the probability of rejecting the $H_0$ hypothesis (and choosing $H_1$, because there are only two choices here) based on the unknown underlying probability is $p^5$. In the parlance, this is known and the *power function* as in denoted by $\\beta$ as in\n",
      "\n",
      "$$ \\beta(\\theta) = \\theta^5 $$\n",
      "\n",
      "where I'm using the standard $\\theta$ symbol to represent the underlying parameter ($p$ in this case). Let's get a quick plot this below."
     ]
    },
    {
     "cell_type": "code",
     "collapsed": false,
     "input": [
      "px = linspace(0,1,50)\n",
      "plot( px, px**5)\n",
      "xlabel(r'$\\theta$',fontsize=18)\n",
      "ylabel(r'$\\beta$',fontsize=18)"
     ],
     "language": "python",
     "metadata": {},
     "outputs": [
      {
       "metadata": {},
       "output_type": "pyout",
       "prompt_number": 20,
       "text": [
        "<matplotlib.text.Text at 0xa37f450>"
       ]
      },
      {
       "metadata": {},
       "output_type": "display_data",
       "png": "[encoded data removed]",
       "text": [
        "<matplotlib.figure.Figure at 0xdbf9bb0>"
       ]
      }
     ],
     "prompt_number": 20
    },
    {
     "cell_type": "markdown",
     "metadata": {},
     "source": [
      "Now, to calculate the \n",
      "\n",
      "$$ \\mathbb{P}_{FA} = \\mathbb{P}( G(\\mathbf{X}_n)= 5 \\vert H_0)$$\n",
      "\n",
      "or, in other words,\n",
      "\n",
      "$$ \\mathbb{P}_{FA}(\\theta) = \\mathbb{P}( \\theta^5 \\vert H_0)$$\n",
      "\n",
      "Notice that this is a function of $\\theta$, which means there are many false alarm probability values that correspond to this test. To be on the conservative side, we'll pick the maximum (or, supremum if there are limits involved) of this function, which is known as the *size* of the test, traditionally denoted by $\\alpha$.\n",
      "\n",
      "$$ \\alpha = \\sup_{\\theta \\in \\Theta_0} \\beta(\\theta) $$\n",
      "\n",
      "which in our case is\n",
      "\n",
      "$$ \\alpha = \\sup_{\\theta < \\frac{1}{2}} \\theta^5 = (\\frac{1}{2})^5 = 0.03125$$\n",
      "\n",
      "which is a nice, low value. Likewise, for the detection probability, \n",
      "\n",
      "$$ \\mathbb{P}_{D}(\\theta) = \\mathbb{P}( \\theta^5 \\vert H_1)$$\n",
      "\n",
      "which is again a function of the parameter $\\theta$. The problem with this test is that the $\\mathbb{P}_{D}$ is pretty low for most of the domain of $\\theta$. Useful values for $\\mathbb{P}_{D}$ are usually in the nineties, which only happens here when $\\theta \\gt 0.98$. Ideally, we want a test that is zero for the domain corresponding to $H_0$ (i.e. $\\Theta_0$) and equal to one otherwise. Unfortunately, even if we increase the length of the observed sequence, we cannot escape this effect with this test. You can try plotting $\\theta^n$ for larger and larger values of $n$ to see this."
     ]
    },
    {
     "cell_type": "heading",
     "level": 3,
     "metadata": {},
     "source": [
      "Majority Vote Test"
     ]
    },
    {
     "cell_type": "markdown",
     "metadata": {},
     "source": [
      "Due to the problems with the detection probability we uncovered in the last example, maybe we can think of another test that will have the performance we want. Suppose we reject $H_0$ if the majority (i.e. more than half) of the observations are heads. Then, using the same reasoning as above, we have\n",
      "\n",
      "$$ \\beta(\\theta) = \\sum_{k=3}^5 \\binom{5}{k} \\theta^k(1-\\theta)^{5-k} $$\n",
      "\n",
      "Using some tools from `sympy`, we can plot this out and compare it to the previous case as in the cell below.\n"
     ]
    },
    {
     "cell_type": "code",
     "collapsed": false,
     "input": [
      "from sympy.abc import p,k # get some variable symbols\n",
      "import sympy as S\n",
      "\n",
      "expr=S.Sum(S.binomial(5,k)*p**(k)*(1-p)**(5-k),(k,3,5)).doit()\n",
      "p0=S.plot(p**5,(p,0,1),xlabel='p',show=False,line_color='b')\n",
      "p1=S.plot(expr,(p,0,1),xlabel='p',show=False,line_color='r',legend=True,ylim=(0,1.5))\n",
      "p1.append(p0[0])\n",
      "p1.show()"
     ],
     "language": "python",
     "metadata": {},
     "outputs": [
      {
       "metadata": {},
       "output_type": "display_data",
       "png": "[encoded data removed]",
       "text": [
        "<matplotlib.figure.Figure at 0xa507d30>"
       ]
      }
     ],
     "prompt_number": 21
    },
    {
     "cell_type": "markdown",
     "metadata": {},
     "source": [
      "In this case, the new test has *size*\n",
      "\n",
      "$$ \\alpha = \\sup_{\\theta < \\frac{1}{2}} \\theta^{5} + 5 \\theta^{4} \\left(- \\theta + 1\\right) + 10 \\theta^{3} \\left(- \\theta + 1\\right)^{2}\n",
      " = (\\frac{1}{2})^5 = 0.5 $$ \n",
      " \n",
      "which is a pretty bad false alarm probability. Values less that one percent are usually considered acceptable. As before we only get to upwards of 90% for detection probability only when the underlying parameter $\\theta > 0.75$. As before, this is not so good. Let's run some simulations to see how this plays out."
     ]
    },
    {
     "cell_type": "heading",
     "level": 3,
     "metadata": {},
     "source": [
      "All-heads Test"
     ]
    },
    {
     "cell_type": "code",
     "collapsed": false,
     "input": [
      "# implement 1st test where all five must be heads to declare underlying parameter > 0.5\n",
      "from scipy import stats\n",
      "b = stats.bernoulli(0.8) # true parameter is 0.8 (i.e. hypothesis H_1)\n",
      "samples = b.rvs(1000).reshape(-1,5) # -1 means let numpy figure out the other dimension i.e. (200,5)\n",
      "print 'prob of detection = %0.3f'%mean(samples.sum(axis=1)==5) # approx 0.8**3"
     ],
     "language": "python",
     "metadata": {},
     "outputs": [
      {
       "output_type": "stream",
       "stream": "stdout",
       "text": [
        "prob of detection = 0.310\n"
       ]
      }
     ],
     "prompt_number": 22
    },
    {
     "cell_type": "code",
     "collapsed": false,
     "input": [
      "# here's the false alarm case\n",
      "b = stats.bernoulli(0.3) # true parameter is 0.3 (i.e. hypothesis H_0)\n",
      "samples = b.rvs(1000).reshape(-1,5)\n",
      "print 'prob of false alarm = %0.3f'%mean(samples.sum(axis=1)==5)"
     ],
     "language": "python",
     "metadata": {},
     "outputs": [
      {
       "output_type": "stream",
       "stream": "stdout",
       "text": [
        "prob of false alarm = 0.000\n"
       ]
      }
     ],
     "prompt_number": 23
    },
    {
     "cell_type": "markdown",
     "metadata": {},
     "source": [
      "The above two cells shows that the false alarm probability is great, but the detection probability is poor. Let's try the same simulation for the majority vote test."
     ]
    },
    {
     "cell_type": "heading",
     "level": 3,
     "metadata": {},
     "source": [
      "Majority Vote Test"
     ]
    },
    {
     "cell_type": "code",
     "collapsed": false,
     "input": [
      "# implement 1st test where all five must be heads to declare underlying parameter > 0.5\n",
      "b = stats.bernoulli(0.8) # true paramater is 0.8 (i.e. hypothesis H_1)\n",
      "samples = b.rvs(1000).reshape(-1,5)\n",
      "print 'prob of detection = %0.3f'%mean(samples.sum(axis=1)>=3) "
     ],
     "language": "python",
     "metadata": {},
     "outputs": [
      {
       "output_type": "stream",
       "stream": "stdout",
       "text": [
        "prob of detection = 0.945\n"
       ]
      }
     ],
     "prompt_number": 24
    },
    {
     "cell_type": "code",
     "collapsed": false,
     "input": [
      "# here's the false alarm case\n",
      "b = stats.bernoulli(0.3) # true parameter is 0.3 which means it's hypothesis H_0\n",
      "samples = b.rvs(1000).reshape(-1,5)\n",
      "print 'prob of false alarm = %0.3f'%mean(samples.sum(axis=1)>=3)"
     ],
     "language": "python",
     "metadata": {},
     "outputs": [
      {
       "output_type": "stream",
       "stream": "stdout",
       "text": [
        "prob of false alarm = 0.140\n"
       ]
      }
     ],
     "prompt_number": 25
    },
    {
     "cell_type": "markdown",
     "metadata": {},
     "source": [
      "Both of the simulation results follow our earlier analysis. Try tweaking the underlying parameter (i.e. 0.8, 0.3) here and see how the simulation reacts. Not surprisingly, the majority vote test does better when the underlying parameter is much greater than 0.5"
     ]
    },
    {
     "cell_type": "heading",
     "level": 2,
     "metadata": {},
     "source": [
      "Summary"
     ]
    },
    {
     "cell_type": "markdown",
     "metadata": {},
     "source": [
      "Another way to think about how the test is working is to plot the so-called *Receiver Operating Characteristic* (ROC), which is a plot of the $\\mathbb{P}_D$ versus the $\\mathbb{P}_{FA}$. We can draft this quickly using the *size* of the test instead of the $\\mathbb{P}_{FA}$."
     ]
    }
   ],
   "metadata": {}
  }
 ]
}