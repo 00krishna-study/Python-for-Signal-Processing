{
 "metadata": {
  "name": "",
  "signature": "sha256:d3e1af433d5619250cb62a00d756b862426f534d551bb6e01d9c2088485038a4"
 },
 "nbformat": 3,
 "nbformat_minor": 0,
 "worksheets": [
  {
   "cells": [
    {
     "cell_type": "code",
     "collapsed": false,
     "input": [
      "%matplotlib inline\n",
      "from scipy import  stats"
     ],
     "language": "python",
     "metadata": {},
     "outputs": [],
     "prompt_number": 1
    },
    {
     "cell_type": "code",
     "collapsed": false,
     "input": [
      "n0=stats.norm(0,1)\n",
      "n1=stats.norm(1,10)"
     ],
     "language": "python",
     "metadata": {},
     "outputs": [],
     "prompt_number": 65
    },
    {
     "cell_type": "code",
     "collapsed": false,
     "input": [
      "fig,ax=subplots()\n",
      "ax.hist(n0.rvs(100),alpha=.3)\n",
      "ax.hist(n1.rvs(100),alpha=0.3);"
     ],
     "language": "python",
     "metadata": {},
     "outputs": [
      {
       "metadata": {},
       "output_type": "display_data",
       "png": "[encoded data removed]",
       "text": [
        "<matplotlib.figure.Figure at 0x10fb1b70>"
       ]
      }
     ],
     "prompt_number": 66
    },
    {
     "cell_type": "code",
     "collapsed": false,
     "input": [
      "def bias_coin(phead  = .5):\n",
      "    while True:\n",
      "        yield int( np.random.rand() < phead ) \n",
      "\n",
      "pct_mixed  = 0.2\n",
      "bias_coin_gen = bias_coin(pct_mixed)        \n",
      "dual_set = [n0,n1]\n",
      "samples  = [ dual_set[bias_coin_gen.next()].rvs() for i in range(500) ]"
     ],
     "language": "python",
     "metadata": {},
     "outputs": [],
     "prompt_number": 67
    },
    {
     "cell_type": "code",
     "collapsed": false,
     "input": [
      "hist(samples)\n",
      "title('average = %3.3f, pct_mixed=%3.3f'%(mean(samples),pct_mixed))"
     ],
     "language": "python",
     "metadata": {},
     "outputs": [
      {
       "metadata": {},
       "output_type": "pyout",
       "prompt_number": 68,
       "text": [
        "<matplotlib.text.Text at 0x1114e210>"
       ]
      },
      {
       "metadata": {},
       "output_type": "display_data",
       "png": "[encoded data removed]",
       "text": [
        "<matplotlib.figure.Figure at 0x1110c6d0>"
       ]
      }
     ],
     "prompt_number": 68
    },
    {
     "cell_type": "code",
     "collapsed": false,
     "input": [],
     "language": "python",
     "metadata": {},
     "outputs": [],
     "prompt_number": 68
    },
    {
     "cell_type": "code",
     "collapsed": false,
     "input": [],
     "language": "python",
     "metadata": {},
     "outputs": []
    }
   ],
   "metadata": {}
  }
 ]
}