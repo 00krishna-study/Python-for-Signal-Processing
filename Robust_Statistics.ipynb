{
 "metadata": {
  "name": "",
  "signature": "sha256:e1bf545b90314bf001df096a04a0e6cb2e45e72204a2edff55c4399404dd42d0"
 },
 "nbformat": 3,
 "nbformat_minor": 0,
 "worksheets": [
  {
   "cells": [
    {
     "cell_type": "code",
     "collapsed": false,
     "input": [
      "%matplotlib inline\n",
      "from scipy import  stats"
     ],
     "language": "python",
     "metadata": {},
     "outputs": [],
     "prompt_number": 8
    },
    {
     "cell_type": "markdown",
     "metadata": {},
     "source": [
      "Previously, we talk about maximum likelihood estimation and maximum a-posteriori estimation and in each case we started out with a probability density function of some kind and we further assumed that the samples were identically distributed and independent. The idea behind robust statistics is to construct estimators that can survive the weakening of either or both of these assumptions.\n",
      "\n",
      "The first idea to consider is the notion of *location*, which is  a generalization of the idea of \"central value\". Typically, we just use an estimate of the mean for this, but we will see shortly why that is a bad idea.  The general idea of Location satisfies the following requirements\n",
      "\n",
      "Let $ X $ be a random variable with distribution $ F $, and let $\\theta(X)$ be some descriptive\n",
      "measure of $F$. Then $\\theta(X)$ is said to be a measure of *location* if for any constants *a* and *b*, we have the following:\n",
      "\n",
      "$$ \\theta(X+b) = \\theta(X) +b $$\n",
      "\n",
      "$$ \\theta(-X) = -\\theta(X)$$\n",
      "\n",
      "$$ X \\ge 0 \\Rightarrow \\theta(X)  \\ge 0 $$\n",
      "\n",
      "$$ \\theta(a X) = a\\theta(X) $$\n",
      "\n",
      "The first condition is called *location equivariance* (or *shift-invariance*  in signal processing lingo). The fourth condition is called *scale equivariance*, which means that the units that $X$ is measured in should not effect the value of the  location estimator.  These Requirements capture the idea of what we intuitively mean by *centrality* of a distribution, or where most of the probability mass is located.\n",
      "\n",
      "For example, the mean estimator is $ \\hat{\\mu}=\\frac{1}{n}\\sum X_i $. The first requirement is obviously satisfied as $ \\hat{\\mu}=\\frac{1}{n}\\sum (X_i+b) = b +  \\frac{1}{n}\\sum X_i =b+\\hat{\\mu}$. Let us consider the second requirement:$ \\hat{\\mu}=\\frac{1}{n}\\sum -X_i = -\\hat{\\mu}$. Finally, the last requirement is satisfied with $ \\hat{\\mu}=\\frac{1}{n}\\sum a X_i =a \\hat{\\mu}$."
     ]
    },
    {
     "cell_type": "heading",
     "level": 2,
     "metadata": {},
     "source": [
      "What do we mean by robust estimators?"
     ]
    },
    {
     "cell_type": "markdown",
     "metadata": {},
     "source": [
      "Now that we have the generalized location of centrality embodied in the *location* parameter, what can we do with it?  The next idea is to nail down is the concept of * robust* estimators. Previously, we assumed that our samples were all identically distributed. The key idea is that the samples might be actually coming from a distribution that is contaminated by another nearby distribution, as in the following:\n",
      "\n",
      "$$ F(X) = \\alpha G(X) + (1-\\alpha)H(X) $$\n",
      "\n",
      "where $ \\alpha $ is itself a random variable between zero and one. This means that our data samples $\\lbrace X_i \\rbrace$ actually derived from two separate distributions, $ G(X) $ and $ H(X) $. We just don't know how they are mixed together. What we really want  is an estimator  that captures the location of $ G(X) $ in the face of random intermittent contamination by $ H(X) $. It can get even worse than that because we don't know that there is only one contaminating $H(X)$ distribution out there. There may be a whole family of distributions that are contaminating $G(X)$ that we don't know of. This means that whatever estimators we construct have to be derived from families of distributions instead of a distribution, which is what we have been assuming for maximum-likelihood  estimators. This is what makes robust estimation so difficult --- the extended theory has to deal with spaces of function distributions instead of particular parameters of a particular probability distribution.\n",
      "\n",
      "* Influence function\n",
      "* Outlier Detection\n",
      "* Estimates of location\n",
      "    - definition of location\n",
      "* Trimmed means\n",
      "* Windsorized means\n",
      "* Hodges Lehmann statistics\n",
      "* Asymptotic efficiency\n",
      "* Fisher Consistent\n",
      "\n",
      "* Robust Regression \n",
      "    \n",
      "\n",
      "    - least median\n",
      "    - outliers"
     ]
    },
    {
     "cell_type": "code",
     "collapsed": false,
     "input": [
      "n0=stats.norm(0,1)\n",
      "n1=stats.norm(0,10)"
     ],
     "language": "python",
     "metadata": {},
     "outputs": [],
     "prompt_number": 9
    },
    {
     "cell_type": "code",
     "collapsed": false,
     "input": [
      "fig,ax=subplots()\n",
      "ax.hist(n0.rvs(100),alpha=.3)\n",
      "ax.hist(n1.rvs(100),alpha=0.3);"
     ],
     "language": "python",
     "metadata": {},
     "outputs": [
      {
       "metadata": {},
       "output_type": "display_data",
       "png": "[encoded data removed]",
       "text": [
        "<matplotlib.figure.Figure at 0xc6674d0>"
       ]
      }
     ],
     "prompt_number": 10
    },
    {
     "cell_type": "code",
     "collapsed": false,
     "input": [
      "def bias_coin(phead = .5):\n",
      "    while True:\n",
      "        yield int( np.random.rand() < phead ) \n",
      "\n",
      "pct_mixed  = 0.1\n",
      "bias_coin_gen = bias_coin(pct_mixed)        \n",
      "dual_set = [n0,n1]\n",
      "samples  = [ dual_set[bias_coin_gen.next()].rvs() for i in range(100) ]"
     ],
     "language": "python",
     "metadata": {},
     "outputs": [],
     "prompt_number": 11
    },
    {
     "cell_type": "code",
     "collapsed": false,
     "input": [
      "hist(samples)\n",
      "title('average = %3.3f, std=%3.3f pct_mixed=%3.3f'%(mean(samples),std(samples),pct_mixed))"
     ],
     "language": "python",
     "metadata": {},
     "outputs": [
      {
       "metadata": {},
       "output_type": "pyout",
       "prompt_number": 12,
       "text": [
        "<matplotlib.text.Text at 0xc51d130>"
       ]
      },
      {
       "metadata": {},
       "output_type": "display_data",
       "png": "[encoded data removed]",
       "text": [
        "<matplotlib.figure.Figure at 0x77851d0>"
       ]
      }
     ],
     "prompt_number": 12
    },
    {
     "cell_type": "code",
     "collapsed": false,
     "input": [
      "print 'mean = ',mean(samples)\n",
      "print 'median = ',median(samples)\n",
      "print 'trimmed mean = ',stats.mstats.trimmed_mean(samples,.1)\n",
      "print 'winsorized mean = ',stats.mstats.winsorize(samples,.1).mean()"
     ],
     "language": "python",
     "metadata": {},
     "outputs": [
      {
       "output_type": "stream",
       "stream": "stdout",
       "text": [
        "mean =  -0.106627441342\n",
        "median =  -0.0296511453447\n",
        "trimmed mean =  -0.0501087580396\n",
        "winsorized mean =  -0.0632953739533\n"
       ]
      }
     ],
     "prompt_number": 13
    },
    {
     "cell_type": "code",
     "collapsed": false,
     "input": [
      "stats.kstest(samples,'norm')"
     ],
     "language": "python",
     "metadata": {},
     "outputs": [
      {
       "metadata": {},
       "output_type": "pyout",
       "prompt_number": 14,
       "text": [
        "(0.062126604542691144, 0.83493517675023265)"
       ]
      }
     ],
     "prompt_number": 14
    },
    {
     "cell_type": "heading",
     "level": 2,
     "metadata": {},
     "source": [
      "M-estimators"
     ]
    },
    {
     "cell_type": "markdown",
     "metadata": {},
     "source": [
      "M-estimators are generalized maximum likelihood estimators. Recall that for maximum likelihood , we want to maximize the likelihood function as in the following:\n",
      "\n",
      "$$ L_{\\mu}(x_i) = \\prod f_0(x_i-\\mu)$$\n",
      "\n",
      "and then to find the estimator $\\hat{\\mu}$ so that\n",
      "\n",
      "$$ \\hat{\\mu} = \\arg \\max_{\\mu} L_{\\mu}(x_i) $$\n",
      "\n",
      "So far, everything is the same as our usual maximum-likelihood  derivation except for the fact that we don't know $f_0$, the distribution of the $\\lbrace X_i\\rbrace$. Making the convenient definition of\n",
      "\n",
      "$$ \\rho = -\\log f_0 $$\n",
      "\n",
      "we obtain the more convenient form of the likelihood product and the optimal $\\hat{\\mu}$ as\n",
      "\n",
      "$$ \\hat{\\mu} = \\arg \\min_{\\mu} \\sum \\rho(x_i-\\mu)$$\n",
      "\n",
      "If $\\rho$ is differentiable, then differentiating  this with respect to $\\mu$ gives\n",
      "\n",
      "$$ \\sum \\psi(x_i-\\hat{\\mu}) = 0 $$\n",
      "\n",
      "with $\\psi = \\rho'$ and for technical reasons we will assume that $\\psi$ is increasing.\n"
     ]
    },
    {
     "cell_type": "heading",
     "level": 3,
     "metadata": {},
     "source": [
      "The distribution of  M-estimates "
     ]
    },
    {
     "cell_type": "markdown",
     "metadata": {},
     "source": [
      "For a given distribution $F$, we define $\\mu_0=\\mu(F)$ as the solution to the following \n",
      "\n",
      "$$ \\mathbb{E}(\\psi(x-\\mu_0))= 0 $$"
     ]
    },
    {
     "cell_type": "code",
     "collapsed": false,
     "input": [],
     "language": "python",
     "metadata": {},
     "outputs": []
    }
   ],
   "metadata": {}
  }
 ]
}