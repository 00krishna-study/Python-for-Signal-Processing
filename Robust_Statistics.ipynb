{
 "metadata": {
  "name": "",
  "signature": "sha256:c23d79fe4b722026ef18cba5564156135f9d7b9a83dd4ada7ae58e6bafda4fec"
 },
 "nbformat": 3,
 "nbformat_minor": 0,
 "worksheets": [
  {
   "cells": [
    {
     "cell_type": "code",
     "collapsed": false,
     "input": [
      "%matplotlib inline\n",
      "from scipy import  stats"
     ],
     "language": "python",
     "metadata": {},
     "outputs": [],
     "prompt_number": 178
    },
    {
     "cell_type": "markdown",
     "metadata": {},
     "source": [
      "* Influence function\n",
      "* Outlier Detection\n",
      "* Estimates of location\n",
      "    - definition of location\n",
      "* Trimmed means\n",
      "* Windsorized means\n",
      "* Hodges Lehmann statistics\n",
      "* Asymptotic efficiency\n",
      "* Fisher Consistent\n",
      "\n",
      "* Robust Regression \n",
      "    \n",
      "\n",
      "    - least median\n",
      "    - outliers"
     ]
    },
    {
     "cell_type": "code",
     "collapsed": false,
     "input": [
      "n0=stats.norm(0,1)\n",
      "n1=stats.norm(0,10)"
     ],
     "language": "python",
     "metadata": {},
     "outputs": [],
     "prompt_number": 179
    },
    {
     "cell_type": "code",
     "collapsed": false,
     "input": [
      "fig,ax=subplots()\n",
      "ax.hist(n0.rvs(100),alpha=.3)\n",
      "ax.hist(n1.rvs(100),alpha=0.3);"
     ],
     "language": "python",
     "metadata": {},
     "outputs": [
      {
       "metadata": {},
       "output_type": "display_data",
       "png": "[encoded data removed]",
       "text": [
        "<matplotlib.figure.Figure at 0x13e9a570>"
       ]
      }
     ],
     "prompt_number": 180
    },
    {
     "cell_type": "code",
     "collapsed": false,
     "input": [
      "def bias_coin(phead = .5):\n",
      "    while True:\n",
      "        yield int( np.random.rand() < phead ) \n",
      "\n",
      "pct_mixed  = 0.1\n",
      "bias_coin_gen = bias_coin(pct_mixed)        \n",
      "dual_set = [n0,n1]\n",
      "samples  = [ dual_set[bias_coin_gen.next()].rvs() for i in range(100) ]"
     ],
     "language": "python",
     "metadata": {},
     "outputs": [],
     "prompt_number": 181
    },
    {
     "cell_type": "code",
     "collapsed": false,
     "input": [
      "hist(samples)\n",
      "title('average = %3.3f, std=%3.3f pct_mixed=%3.3f'%(mean(samples),std(samples),pct_mixed))"
     ],
     "language": "python",
     "metadata": {},
     "outputs": [
      {
       "metadata": {},
       "output_type": "pyout",
       "prompt_number": 182,
       "text": [
        "<matplotlib.text.Text at 0x13fb8230>"
       ]
      },
      {
       "metadata": {},
       "output_type": "display_data",
       "png": "[encoded data removed]",
       "text": [
        "<matplotlib.figure.Figure at 0x13fcdc90>"
       ]
      }
     ],
     "prompt_number": 182
    },
    {
     "cell_type": "code",
     "collapsed": false,
     "input": [
      "print 'mean = ',mean(samples)\n",
      "print 'median = ',median(samples)\n",
      "print 'trimmed mean = ',stats.mstats.trimmed_mean(samples,.1)\n",
      "print 'winsorized mean = ',stats.mstats.winsorize(samples,.1).mean()"
     ],
     "language": "python",
     "metadata": {},
     "outputs": [
      {
       "output_type": "stream",
       "stream": "stdout",
       "text": [
        "mean =  -0.474292242873\n",
        "median =  -0.153413353227\n",
        "trimmed mean =  -0.131668149426\n",
        "winsorized mean =  -0.119937285883\n"
       ]
      }
     ],
     "prompt_number": 183
    },
    {
     "cell_type": "code",
     "collapsed": false,
     "input": [
      "stats.kstest(samples,'norm')"
     ],
     "language": "python",
     "metadata": {},
     "outputs": [
      {
       "metadata": {},
       "output_type": "pyout",
       "prompt_number": 184,
       "text": [
        "(0.10046780886962836, 0.24838823878211391)"
       ]
      }
     ],
     "prompt_number": 184
    },
    {
     "cell_type": "code",
     "collapsed": false,
     "input": [],
     "language": "python",
     "metadata": {},
     "outputs": [],
     "prompt_number": 184
    }
   ],
   "metadata": {}
  }
 ]
}