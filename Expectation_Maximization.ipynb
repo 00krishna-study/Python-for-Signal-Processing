{
 "metadata": {
  "name": "Expectation_Maximization"
 },
 "nbformat": 3,
 "nbformat_minor": 0,
 "worksheets": [
  {
   "cells": [
    {
     "cell_type": "heading",
     "level": 2,
     "metadata": {},
     "source": [
      "Maximum Likelihood Estimation Experiment"
     ]
    },
    {
     "cell_type": "markdown",
     "metadata": {},
     "source": [
      "Let's investigate this with the following experiment: You have two biased coins in a bag and you can  randomly pick a coin from the bag and then flip it. You have to estimate the probability of heads for each coin. \n",
      "\n",
      "Separately, each coin is Bernoulli distributed. For example,for coin **a**, we have\n",
      "\n",
      "$$ \\phi_a(x)= p_a^x (1-p_a)^{(1-x)} $$\n",
      "\n",
      "where $x$ is the outcome, *1* for heads and *0* for tails. Likewise, for coin **b** we have:\n",
      "\n",
      "$$ \\phi_b(x) = p_b^x (1-p_b)^{(1-x)} $$\n",
      "\n",
      "Then we can write the joint probabilty density for this experiment as the following:\n",
      "\n",
      "$$ f_{p_a,p_b}(x,z)=  \\frac{1}{2} \\phi_a(x)^z \\phi_b(x)^{1-z} $$\n",
      "\n",
      "where $z=1$ if we pick coin **a** and $z=0$ for coin **b**. Note that the $1/2$ comes from the 50/50 chance of picking either coin.  Unfortunately, since we do not measure the $z$ variable, we have to integrate it out of our density function to account for this handicap. Thus,\n",
      "\n",
      "$$ f_{p_a,p_b}(x)=  \\frac{1}{2} \\phi_a(x)+\\frac{1}{2} \\phi_b(x) $$\n",
      "\n",
      "Now, since $n$ trials are independent, we can write out the likelihood:\n",
      "\n",
      "$$ \\mathcal{L}(p_a,p_b|\\mathbf{x})= \\prod_{i=1}^n \\left( \\frac{1}{2} p_a^{x_i} (1-p_a)^{(1-x_i)} +\\frac{1}{2} p_b^{x_i} (1-p_b)^{(1-x_i)} \\right) $$\n",
      "\n",
      "This is basically notation. We have just substituted everything into $ f_{p_a,p_b}(x)$ under the independent-trials assumption. The idea of *maximum likelihood* is to maximize this as the function of $p_a$ and $p_b$ after plugging in all of the $x_i$ data.  The problem is that the fact that we don't know which coin we are flipping at each trial means that this is far trickier than just estimating each coin separately.\n"
     ]
    },
    {
     "cell_type": "heading",
     "level": 3,
     "metadata": {},
     "source": [
      "Simulating the Experiment"
     ]
    },
    {
     "cell_type": "markdown",
     "metadata": {},
     "source": [
      "We need the following code to setup the experiment of randomly picking and flipping each coin."
     ]
    },
    {
     "cell_type": "code",
     "collapsed": false,
     "input": [
      "from __future__ import division\n",
      "import numpy as np\n",
      "from scipy.stats import bernoulli \n",
      "np.random.seed(101) # set random seed for reproducibility\n",
      "pa_true=1/2 # we are trying to estimate this from the data\n",
      "pb_true=1/3 # we are trying to estimate this from the data\n",
      "fa=bernoulli(pa_true) # distribution for coin A\n",
      "fb=bernoulli(pb_true) # distribution for coin B\n",
      "fz=bernoulli(0.5) # fair coin picks between A and B \n",
      "\n",
      "def sample(n=10):\n",
      "    'simulate picking a coin n times and flipping it once per trial'\n",
      "    tmp=fz.rvs(n) # choose n of the coins, A or B\n",
      "    return tmp*(fa.rvs(n))+(1-tmp)*fb.rvs(n) # flip it n times\n",
      "\n",
      "xs = sample(100) # generate some samples"
     ],
     "language": "python",
     "metadata": {},
     "outputs": [],
     "prompt_number": 1
    },
    {
     "cell_type": "heading",
     "level": 2,
     "metadata": {},
     "source": [
      "Expectation maximization"
     ]
    },
    {
     "cell_type": "markdown",
     "metadata": {},
     "source": [
      "The key idea of expectation maximization is that we can somehow pretend we know the unobservable $z$ value and the proceed with the usual maximum likelihood estimation process."
     ]
    },
    {
     "cell_type": "markdown",
     "metadata": {},
     "source": [
      "Let's suppose that we somehow knew $z$, then We could segregate the data based on whether or not it came from coin **a** or coin **b**. Then, for example, the maximum likelihood estimate for $p_a$  would be\n",
      "\n",
      "$$ p_a = \\frac{\\sum x_i}{|x_i|_a} $$\n",
      "\n",
      "where $ |x_i|_a $ denotes the number of tosses attributed to coin **a**. Remember that $x_i \\in \\lbrace 0,1 \\rbrace$. The idea behind expectation-maximization is that we want to use a maximum likelihood estimate (this is the *maximization* part of the algorithm) after computing the expectation over the missing variable (in this case, $z$). \n",
      "\n",
      "The following code uses `sympy` to setup the functions symbolically and convert them to `numpy` functions that we can quickly evaluate. Because it's easier and more stable to evaluate, we will work with the `log` of the likelihood function. It is useful to keep track of the *incomplete log-likelihood* ($\\log\\mathcal{L}$) since it can be proved that it is monotone increasing and good way to identify coding errors. Recall that this was the likelihood in the case where we integrated out the $z$ variable to reconcile as its absence. \n",
      "  "
     ]
    },
    {
     "cell_type": "code",
     "collapsed": false,
     "input": [
      "import sympy\n",
      "from sympy.abc import x, z\n",
      "pa=sympy.symbols('pa',positive=True)\n",
      "pb=sympy.symbols('pb',positive=True)\n",
      "L=   pb**x*(1-pb)**(1-x)/2+(pa**x*(1-pa)**(1-x))/2# incomplete likelihood function "
     ],
     "language": "python",
     "metadata": {},
     "outputs": [],
     "prompt_number": 13
    },
    {
     "cell_type": "markdown",
     "metadata": {},
     "source": [
      "Next, we need to compute the expectation step. To avoid notational overload, we will just use $\\Theta$ to denote the $p_b$ and $p_a$ parameters and the data $x_i$. This means that the density function of $z$ and $\\Theta$ can be written as the following:\n",
      "\n",
      "$$ \\mathbb{P}(z,\\Theta) = \\frac{1}{2} \\phi_a(\\Theta) ^ z \\phi_b(\\Theta) ^ {(1-z)} $$\n",
      "\n",
      "For the expectation part we have to compute $\\mathbb{E}(z|\\Theta)$ but since $z\\in \\lbrace 0,1 \\rbrace$, this simplifies easily\n",
      "\n",
      "$$ \\mathbb{E}(z|\\Theta) = 1 \\cdot \\mathbb{P}(z=1|\\Theta) + 0 \\cdot \\mathbb{P}(z=0|\\Theta) =  \\mathbb{P}(z=1|\\Theta)  $$\n",
      "\n",
      "Now, the only thing left is to find $  \\mathbb{P}(z=1|\\Theta) $ which we can do using Bayes rule:\n",
      "\n",
      "$$  \\mathbb{P}(z=1|\\Theta)  = \\frac{ \\mathbb{P}(\\Theta|z=1)\\mathbb{P}(z=1)}{\\mathbb{P}(\\Theta)} $$\n",
      "\n",
      "The term in the denominator comes from summing (integrating) out the $z$ items in the full joint density $ \\mathbb{P}(z,\\Theta) $\n",
      "\n",
      "$$ \\mathbb{P}(\\Theta) = (\\phi_a(\\Theta) + \\phi_b(\\Theta))\\frac{1}{2} $$\n",
      "\n",
      "and since $\\mathbb{P}(z=1)=1/2$, we finally obtain\n",
      "\n",
      "$$  \\mathbb{E}(z|\\Theta) =\\mathbb{P}(z=1|\\Theta)  = \\frac{\\phi_a(\\Theta)}{\\phi_a(\\Theta) + \\phi_b(\\Theta)} $$\n",
      "\n",
      "and which is coded below."
     ]
    },
    {
     "cell_type": "code",
     "collapsed": false,
     "input": [
      "def ez(x,pa,pb): # expected value of hidden variable\n",
      "  return bernoulli(pa).pmf(x)/(bernoulli(pa).pmf(x)+ bernoulli(pb).pmf(x))"
     ],
     "language": "python",
     "metadata": {},
     "outputs": [],
     "prompt_number": 55
    },
    {
     "cell_type": "markdown",
     "metadata": {},
     "source": [
      "Now, given we we have this estimate for $z$,  $\\hat{z}=\\mathbb{E(z|\\Theta)}$, we can go back and compute the log likelihood estimate of\n",
      "\n",
      "$$ J= \\log\\mathbb{P}(\\hat{z},\\Theta) = \\hat{z}\\log \\phi_a(\\Theta) +(1-\\hat{z})\\log \\phi_b(\\Theta) +\\log(1/2)  $$\n",
      "\n",
      "by maximizing it using basic calculus as\n",
      "\n",
      "$$ \\frac{dJ}{d p_a} = \\frac{\\hat{z}(p_a-x)}{(p_a-1)p_a} $$\n",
      "\n",
      "and for $p_b$ \n",
      "\n",
      "$$ \\frac{dJ}{d p_b} = \\frac{(1-\\hat{z})(p_b-x)}{(p_b-1)p_b} $$"
     ]
    },
    {
     "cell_type": "markdown",
     "metadata": {},
     "source": [
      "Now, we're ready to simulate the algorithm and plot its performance!"
     ]
    },
    {
     "cell_type": "code",
     "collapsed": false,
     "input": [
      "out=[];lout=[] # containers for outputs\n",
      "pa=0.1;pb=0.25; # initial point\n",
      "niter=10 #\n",
      "Lf=sympy.lambdify((x,pa,pb), sympy.log(abs(L)),'numpy') # convert to numpy function from sympy\n",
      "\n",
      "xs=sample(100) # data over number of total coin-flips. This determines error surface!\n",
      "for i in range(niter):\n",
      "    tau=ez(xs,pa,pb) # expected value of z-variable\n",
      "    lout.append( sum(Lf(xs,pa,pb))) # track incomplete likelihood value (should be monotone)\n",
      "    out.append((pa,pb))          # keep track of (pa,pb) steps\n",
      "    pa=sqrt(sum(tau*xs)/sum(tau))    # new maximum  likelihood estimate of pa\n",
      "    pb=sqrt(sum((1-tau)*xs)/sum(1-tau)) \n",
      "    "
     ],
     "language": "python",
     "metadata": {},
     "outputs": [
      {
       "ename": "SyntaxError",
       "evalue": "('invalid syntax', ('<string>', 1, 12, 'lambda x,0.1,0.25: (log(Abs(pa**x*(-pa + 1)**(-x + 1)/2 + pb**x*(-pb + 1)**(-x + 1)/2)))'))",
       "output_type": "pyerr",
       "traceback": [
        "\u001b[1;36m  File \u001b[1;32m\"<string>\"\u001b[1;36m, line \u001b[1;32m1\u001b[0m\n\u001b[1;33m    lambda x,0.1,0.25: (log(Abs(pa**x*(-pa + 1)**(-x + 1)/2 + pb**x*(-pb + 1)**(-x + 1)/2)))\u001b[0m\n\u001b[1;37m               ^\u001b[0m\n\u001b[1;31mSyntaxError\u001b[0m\u001b[1;31m:\u001b[0m invalid syntax\n"
       ]
      }
     ],
     "prompt_number": 173
    },
    {
     "cell_type": "code",
     "collapsed": false,
     "input": [
      "fig=figure()\n",
      "fig.set_figwidth(12)\n",
      "ax=fig.add_subplot(121)\n",
      "ax.plot(array(out),'o-')\n",
      "ax.legend(('pa','pb'),loc=0)\n",
      "ax.hlines([pa_true,pb_true],0,len(out),['b','g'])\n",
      "ax.axis(ymax=1,ymin=0)\n",
      "ax.set_xlabel('iteration',fontsize=18)\n",
      "ax.set_ylabel('pa,pb values')\n",
      "ax=fig.add_subplot(122)\n",
      "ax.plot(array(lout),'o-')\n",
      "ax.set_xlabel('iteration',fontsize=18)\n",
      "ax.set_ylabel('incomplete likelihood')"
     ],
     "language": "python",
     "metadata": {},
     "outputs": []
    },
    {
     "cell_type": "markdown",
     "metadata": {},
     "source": [
      "The problem with the two equations generated above is that they are not linearly independent, which means that the solutions is actually a family of solutions on a contour. Further, the Hessian is singular here, so we can't conclude extrema regarding these solutions."
     ]
    },
    {
     "cell_type": "markdown",
     "metadata": {},
     "source": [
      "The first thing to notice about these plots is that the EM algorithm converges very quickly, but unfortunately to the wrong result! The code below constructs a error surface that the algorithm is exploring to find out why."
     ]
    },
    {
     "cell_type": "code",
     "collapsed": false,
     "input": [
      "pa_step=linspace(0,1,30)\n",
      "pb_step=linspace(0,1,20)\n",
      "z=Lf(x,pa_step[:,None],pb_step[:,None,None]).sum(axis=2) # numpy broadcasting\n",
      "fig=figure()\n",
      "ax=fig.add_subplot(111)\n",
      "p=ax.contourf(pa_step,pb_step,z,30,cmap=cm.gray)\n",
      "xa,xb=zip(*out)\n",
      "ax.plot(xa,xb,'ro',pa_true,pb_true,'bs')\n",
      "ax.plot(xa[0],xb[0],'gx',ms=15.,mew=2.)\n",
      "ax.text(xa[0],xb[0],'start',color='g',fontsize=11.)\n",
      "ax.set_xlabel('pa')\n",
      "ax.set_ylabel('pb')\n",
      "fig.colorbar(p)"
     ],
     "language": "python",
     "metadata": {},
     "outputs": [
      {
       "output_type": "pyout",
       "prompt_number": 18,
       "text": [
        "<matplotlib.colorbar.Colorbar instance at 0x0561F0A8>"
       ]
      },
      {
       "output_type": "display_data",
       "png": "[encoded data removed]",
       "text": [
        "<matplotlib.figure.Figure at 0x52fe730>"
       ]
      }
     ],
     "prompt_number": 18
    },
    {
     "cell_type": "markdown",
     "metadata": {},
     "source": [
      "Note that the algorithm can get to the same contour as the true value, but it cannot move laterally to it. It can only hill-climb. This means that there is no mechanism for the algorithm to slide towards the correct answer because that kind of motion does not generate a change in the objective function."
     ]
    },
    {
     "cell_type": "code",
     "collapsed": true,
     "input": [],
     "language": "python",
     "metadata": {},
     "outputs": [],
     "prompt_number": 18
    },
    {
     "cell_type": "heading",
     "level": 2,
     "metadata": {},
     "source": [
      "Summary"
     ]
    },
    {
     "cell_type": "code",
     "collapsed": false,
     "input": [
      "%qtconsole"
     ],
     "language": "python",
     "metadata": {},
     "outputs": [],
     "prompt_number": 2
    },
    {
     "cell_type": "code",
     "collapsed": false,
     "input": [],
     "language": "python",
     "metadata": {},
     "outputs": [],
     "prompt_number": 19
    }
   ],
   "metadata": {}
  }
 ]
}