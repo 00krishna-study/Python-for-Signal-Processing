{
 "metadata": {
  "name": "Expectation_Maximization"
 },
 "nbformat": 3,
 "nbformat_minor": 0,
 "worksheets": [
  {
   "cells": [
    {
     "cell_type": "heading",
     "level": 2,
     "metadata": {},
     "source": [
      "Maximum Likelihood Estimation Experiment"
     ]
    },
    {
     "cell_type": "markdown",
     "metadata": {},
     "source": [
      "Let's investigate this with the following experiment: You have two biased coins in a bag and you can  randomly pick a coin from the bag and then flip it. You have to estimate the probability of heads for each coin. Further, you somehow know that the probability of heads from coin **a** ,$p_a=\\psi/2$, and for coin **b**, $p_b=\\psi/3$. Thus the $\\psi$ variable ties the two coins together, but you cannot estimate $\\psi$ directly, nor can you control which coin you pick from the bag at each trial.\n",
      "\n",
      "Separately, each coin is Bernoulli distributed. For example,for coin **a**, we have\n",
      "\n",
      "$$ \\phi_a(x)= p_a^x (1-p_a)^{(1-x)} $$\n",
      "\n",
      "where $x$ is the outcome, *1* for heads and *0* for tails. Likewise, for coin **b** we have:\n",
      "\n",
      "$$ \\phi_b(x) = p_b^x (1-p_b)^{(1-x)} $$\n",
      "\n",
      "Then we can write the joint probabilty density for this experiment as the following:\n",
      "\n",
      "$$ f_{p_a,p_b}(x,z)=  \\frac{1}{2} \\phi_a(x)^z \\phi_b(x)^{1-z} $$\n",
      "\n",
      "where $z=1$ if we pick coin **a** and $z=0$ for coin **b**. Note that the $1/2$ comes from the 50/50 chance of picking either coin.  Unfortunately, since we do not measure the $z$ variable, we have to integrate it out of our density function to account for this handicap. Thus,\n",
      "\n",
      "$$ f_{p_a,p_b}(x)=  \\frac{1}{2} \\phi_a(x)+\\frac{1}{2} \\phi_b(x) $$\n",
      "\n",
      "Now, since $n$ trials are independent, we can write out the likelihood:\n",
      "\n",
      "$$ \\mathcal{L}(p_a,p_b|\\mathbf{x})= \\prod_{i=1}^n \\left( \\frac{1}{2} p_a^{x_i} (1-p_a)^{(1-x_i)} +\\frac{1}{2} p_b^{x_i} (1-p_b)^{(1-x_i)} \\right) $$\n",
      "\n",
      "This is basically notation. We have just substituted everything into $ f_{p_a,p_b}(x)$ under the independent-trials assumption. Now, further\n",
      "substituting $p_a = \\psi/2 $ and $p_b = \\psi/3 $ gives:\n",
      "\n",
      "$$ \\mathcal{L}(p_a,p_b|\\mathbf{x})= \\prod_{i=1}^n \\left( \\frac{1}{2} (\\psi/2)^{x_i} (1-(\\psi/2))^{(1-x_i)} +\\frac{1}{2} (\\psi/3)^{x_i} (1-(\\psi/3))^{(1-x_i)} \\right) $$\n",
      "\n",
      "The idea of *maximum likelihood* is to maximize this as the function of $\\psi$ after plugging in all of the $x_i$ data. This means that our estimator, $\\hat{\\psi}$ , is a function of the observed $x_i$ data, and as such, is a random variable with its own distribution.\n"
     ]
    },
    {
     "cell_type": "heading",
     "level": 3,
     "metadata": {},
     "source": [
      "Simulating the Experiment"
     ]
    },
    {
     "cell_type": "markdown",
     "metadata": {},
     "source": [
      "We need the following code to setup the experiment of randomly picking and flipping each coin."
     ]
    },
    {
     "cell_type": "code",
     "collapsed": false,
     "input": [
      "from __future__ import division\n",
      "import numpy as np\n",
      "from scipy.stats import bernoulli \n",
      "np.random.seed(101) # set random seed for reproducibility\n",
      "psi_true = 1/2\n",
      "pa_true=psi_true/2\n",
      "pb_true=psi_true/3\n",
      "fa=bernoulli(pa_true) # distribution for coin A\n",
      "fb=bernoulli(pb_true) # distribution for coin B\n",
      "fz=bernoulli(0.5) # fair coin picks between A and B \n",
      "\n",
      "def sample(n=10):\n",
      "    'simulate picking a coin n times and flipping it once per trial'\n",
      "    tmp=fz.rvs(n) # choose n of the coins, A or B\n",
      "    return tmp*(fa.rvs(n))+(1-tmp)*fb.rvs(n) # flip it n times\n",
      "\n",
      "xs = sample(100) # generate some samples"
     ],
     "language": "python",
     "metadata": {},
     "outputs": [],
     "prompt_number": 32
    },
    {
     "cell_type": "markdown",
     "metadata": {},
     "source": [
      "Now, we can write out the likelihood function using `sympy`"
     ]
    },
    {
     "cell_type": "code",
     "collapsed": false,
     "input": [
      "import sympy\n",
      "from sympy.abc import x, z\n",
      "pa=sympy.symbols('pa',positive=True)\n",
      "pb=sympy.symbols('pb',positive=True)\n",
      "psi = sympy.symbols('psi',positive=True)\n",
      "pa = psi/2\n",
      "pb = psi/3\n",
      "L=   pb**x*(1-pb)**(1-x)/2+(pa**x*(1-pa)**(1-x))/2\n",
      "J=np.prod([L.subs(x,i) for i in xs]) # objective function to maximize"
     ],
     "language": "python",
     "metadata": {},
     "outputs": [],
     "prompt_number": 33
    },
    {
     "cell_type": "markdown",
     "metadata": {},
     "source": [
      "Below, we use calculus to find the maximum. Note that taking the `log` of $J$ makes the maximization problem tractable but doesn't change the extrema."
     ]
    },
    {
     "cell_type": "code",
     "collapsed": false,
     "input": [
      "logJ=sympy.expand_log(sympy.log(J))\n",
      "sol=sympy.solve(sympy.diff(logJ,psi),psi)[0]\n",
      "\n",
      "x=linspace(0,2,300)\n",
      "plot(x,map(sympy.lambdify(psi,logJ,'numpy'),x),sol,logJ.subs(psi,sol),'o',\n",
      "                                          psi_true,logJ.subs(psi,psi_true),'s',)\n",
      "xlabel('$\\psi$',fontsize=18)\n",
      "ylabel('Likelihood',fontsize=18)\n",
      "title('Estimate not equal to true value',fontsize=18)"
     ],
     "language": "python",
     "metadata": {},
     "outputs": [
      {
       "output_type": "pyout",
       "prompt_number": 35,
       "text": [
        "<matplotlib.text.Text at 0x558dfd0>"
       ]
      },
      {
       "output_type": "display_data",
       "png": "[encoded data removed]",
       "text": [
        "<matplotlib.figure.Figure at 0x518be50>"
       ]
      }
     ],
     "prompt_number": 35
    },
    {
     "cell_type": "markdown",
     "metadata": {},
     "source": [
      "Note that our estimate is not equal to the true value of $\\psi$. This is disturbing."
     ]
    },
    {
     "cell_type": "code",
     "collapsed": false,
     "input": [
      "def estimator_gen(niter=10,ns=100):\n",
      "    out=[]\n",
      "    x=sympy.symbols('x',real=True)\n",
      "    for i in range(niter):\n",
      "        xs = sample(ns) # generate some samples\n",
      "        L= pb**x*(1-pb)**(1-x)/2+(pa**x*(1-pa)**(1-x))/2\n",
      "        J=np.prod([L.subs(x,i) for i in xs]) # objective function to maximize\n",
      "        logJ=sympy.expand_log(sympy.log(J)) # negative so we seek maxima, not minima\n",
      "        sol=sympy.solve(sympy.diff(logJ,psi),psi)[0]\n",
      "        out.append(float(sol.evalf()))\n",
      "    return out if len(out)>1 else out[0] # return scalar if list contains only 1 term\n",
      "    "
     ],
     "language": "python",
     "metadata": {},
     "outputs": [],
     "prompt_number": 25
    },
    {
     "cell_type": "code",
     "collapsed": false,
     "input": [
      "etries = estimator_gen(100)\n",
      "hist(etries)\n",
      "title('$\\mu=%3.3f,\\sigma=%3.3f$'%(mean(etries),std(etries)),fontsize=18)"
     ],
     "language": "python",
     "metadata": {},
     "outputs": [
      {
       "output_type": "pyout",
       "prompt_number": 26,
       "text": [
        "<matplotlib.text.Text at 0x5388250>"
       ]
      },
      {
       "output_type": "display_data",
       "png": "[encoded data removed]",
       "text": [
        "<matplotlib.figure.Figure at 0x3518d30>"
       ]
      }
     ],
     "prompt_number": 26
    },
    {
     "cell_type": "markdown",
     "metadata": {},
     "source": [
      "Because this problem is pretty simple, we can go forward and solve for this in general noting that since $x=0$ or $x=1$, the terms in the product of $L$ above are either\n",
      "\n",
      "$$ \\frac{\\psi}{3} +  \\frac{\\psi}{2} =\\frac{5\\psi}{6}  $$\n",
      "\n",
      "if $x_i=1$ or \n",
      "\n",
      "$$ 1-\\frac{\\psi}{3} +  1-\\frac{\\psi}{2} = 2-\\frac{5\\psi}{6} $$\n",
      "\n",
      "if $x_i=0$. This means that we can write\n",
      "\n",
      "$$ \\mathcal{L}(p_a,p_b|\\mathbf{x})= \\left( \\frac{5\\psi}{6} \\right)^{\\sum_i^n x_i}\\left(2-\\frac{5\\psi}{6} \\right)^{n-\\sum_i^n x_i} $$\n",
      "\n",
      "with corresponding log as\n",
      "\n",
      "$$ J=\\log(\\mathcal{L}(p_a,p_b|\\mathbf{x})) =  \\log\\left(\\frac{5\\psi}{6}\\right) \\sum_i^n x_i +   \\log\\left(2-\\frac{5\\psi}{6}\\right)\\left(n-\\sum_i^n x_i\\right)$$ \n",
      "\n",
      "Note that I am omitting the $\\frac{1}{2}$ terms in the original definition of $L$ for convenience as it doesn't change the optimum we are seeking. Taking the derivative of this gives:\n",
      "\n",
      "$$  \\frac{dJ}{d\\psi} = \\frac{1}{\\psi}\\sum_i^n x_i + \\frac{5(n-\\sum_i^n x_i)}{5\\psi-12} $$\n",
      "\n",
      "and solving this leads to\n",
      "\n",
      "$$  \\hat{\\psi} = \\frac{12}{5 n}\\sum_i^n x_i $$\n",
      "\n",
      "Now, we can check if this estimator is biased by computing its expectation:\n",
      "\n",
      "$$ \\mathbb{E}\\left(\\hat{\\psi}\\right) =\\frac{12}{5 n}\\sum_i^n \\mathbb{E}(x_i) $$\n",
      "\n",
      "where\n",
      "\n",
      "$$\\mathbb{E}(x_i)  = \\frac{1}{2} \\left( \\frac{\\psi}{3} + \\frac{\\psi}{2} \\right)= \\frac{5\\psi}{12}$$\n",
      "\n",
      "Therefore,\n",
      "\n",
      "$$ \\mathbb{E}\\left(\\hat{\\psi}\\right) =\\psi $$\n",
      "\n",
      "This means that the esimator is unbiased. By a similar manipulation we can get\n",
      "\n",
      "$$ \\mathbb{E}\\left(\\hat{\\psi}^2\\right) =\\left(\\frac{12}{5 n}\\right)^2 \\mathbb{E}\\left[\\left(\\sum_{i=1}^n x_i\\right)^2 \\right]$$\n",
      "\n",
      "and where\n",
      "\n",
      "$$ \\mathbb{E}\\left(x_i^2\\right) =\\frac{5\\psi}{12}$$\n",
      "\n",
      "and by the indepence assumption,\n",
      "\n",
      "$$ \\mathbb{E}\\left(x_i x_j\\right) =\\mathbb{E}(x_i)\\mathbb{E}( x_j) =\\left(\\frac{5\\psi}{12}\\right)^2$$\n",
      "\n",
      "Thus,\n",
      "\n",
      "$$ \\mathbb{E}\\left(\\hat{\\psi}^2\\right) =\\left(\\frac{12}{5 n}\\right)^2 n \n",
      "\\left[\n",
      "\\frac{5\\psi}{12}+(n-1)\\left(\\frac{5\\psi}{12}\\right)^2\n",
      "\\right]\n",
      "$$\n",
      "\n",
      "So, the variance of the estimator, $\\hat{\\psi}$ is the following:\n",
      "\n",
      "$$ \\sigma_\\hat{\\psi}^2 = \\frac{12\\psi}{5n} \\space - \\frac{\\psi^2}{n} $$\n"
     ]
    },
    {
     "cell_type": "markdown",
     "metadata": {},
     "source": [
      "The problem with the two equations generated above is that they are not linearly independent, which means that the solutions is actually a family of solutions on a contour. Further, the Hessian is singular here, so we can't conclude extrema regarding these solutions."
     ]
    },
    {
     "cell_type": "markdown",
     "metadata": {},
     "source": [
      "Let's suppose that we somehow knew $z$, then the maximum likelihood estimate for $p_a$ or $p_b$ would be\n",
      "\n",
      "$$ p_a = \\frac{\\sum x_i}{|x_i|_0} $$\n",
      "\n",
      "where $ |x_i|_0 $ denotes the number of tosses. Remember that $x_i \\in \\lbrace 0,1 \\rbrace$. The idea behind expectation-maximization is that we want to use this maximum likelihood estimate after computing the expectation over the missing variable (in this case, $z$). \n",
      "\n",
      "The following code uses `sympy` to setup the functions symbolically and convert them to `numpy` functions that we can quickly evaluate. Because it's easier and more stable to evaluate, we will work with the `log` of the $J$ function. It is useful to keep track of the *incomplete log-likelihood* since it is monotone increasing and good way to identify coding errors. This is the log-likelihood in the case where we had not introduced the $z$ variable as a way of separating the two cases. Ultimately, this is the objective function for our problem. The introduction of $z$ is really just an artifact of this approach. So, since we pick either coin with $1/2$ probability, we just substitute in $1/2$ for z in $J$ to get this incomplete log-likelihood.\n",
      "  "
     ]
    },
    {
     "cell_type": "markdown",
     "metadata": {},
     "source": [
      "Now that we have the functions set up, we can pick some bias values for each of the coins below and simulate the experiment."
     ]
    },
    {
     "cell_type": "markdown",
     "metadata": {},
     "source": [
      "Next, we need to compute the expectation step since we already have maximum likelihood formulas for the maximization step. To avoid notational overload, we will just use $\\Theta$ to denote the $p_b$ and $p_a$ parameters and the data $x_i$. This means that the density function of $z$ and $\\Theta$ can be written as the following:\n",
      "\n",
      "$$ \\mathbb{P}(z,\\Theta) = \\phi_a(\\Theta) ^ z \\phi_b(\\Theta) ^ {(1-z)} $$\n",
      "\n",
      "For the expectation part we have to compute $\\mathbb{E}(z|\\Theta)$ but since $z\\in \\lbrace 0,1 \\rbrace$, this simplifies easily\n",
      "\n",
      "$$ \\mathbb{E}(z|\\Theta) = 1 \\cdot \\mathbb{P}(z=1|\\Theta) + 0 \\cdot \\mathbb{P}(z=0|\\Theta) =  \\mathbb{P}(z=1|\\Theta)  $$\n",
      "\n",
      "Now, the only thing left is to find $  \\mathbb{P}(z=1|\\Theta) $ which we can do using Bayes rule:\n",
      "\n",
      "$$  \\mathbb{P}(z=1|\\Theta)  = \\frac{ \\mathbb{P}(\\Theta|z=1)\\mathbb{P}(z=1)}{\\mathbb{P}(\\Theta)} $$\n",
      "\n",
      "The term in the denominator comes from summing (integrating) out the $z$ items in the full joint density $ \\mathbb{P}(z,\\Theta) $\n",
      "\n",
      "$$ \\mathbb{P}(\\Theta) = (\\phi_a(\\Theta) + \\phi_b(\\Theta))\\frac{1}{2} $$\n",
      "\n",
      "and since $\\mathbb{P}(z=1)=1/2$, we finally obtain\n",
      "\n",
      "$$  \\mathbb{E}(z|\\Theta) =\\mathbb{P}(z=1|\\Theta)  = \\frac{\\phi_a(\\Theta)}{\\phi_a(\\Theta) + \\phi_b(\\Theta)} $$\n",
      "\n",
      "and which is coded below."
     ]
    },
    {
     "cell_type": "code",
     "collapsed": false,
     "input": [
      "def ez(x,pa,pb): # expected value of hidden variable\n",
      "  return bernoulli(pa).pmf(x)/(bernoulli(pa).pmf(x)+ bernoulli(pb).pmf(x))"
     ],
     "language": "python",
     "metadata": {},
     "outputs": [],
     "prompt_number": 16
    },
    {
     "cell_type": "markdown",
     "metadata": {},
     "source": [
      "Now, we're ready to simulate the algorithm and plot its performance!"
     ]
    },
    {
     "cell_type": "code",
     "collapsed": false,
     "input": [
      "out=[];lout=[] # containers for outputs\n",
      "pa=0.1;pb=0.25; # initial point\n",
      "niter=10 #\n",
      "\n",
      "x=sample(100) # data over number of total coin-flips. This determines error surface!\n",
      "for i in range(niter):\n",
      "    tau=ez(x,pa,pb) # expected value of z-variable\n",
      "    lout.append( sum(Lf(x,pa,pb))) # track incomplete likelihood value (should be monotone)\n",
      "    out.append((pa,pb))          # keep track of (pa,pb) steps\n",
      "    pa=sum(tau*x)/sum(tau)       # new maximum  likelihood estimate of pa\n",
      "    pb=sum(x*(1-tau))/sum(1-tau) # new maximum likelihood estimate of pb\n",
      "     \n",
      "\n",
      "fig=figure()\n",
      "fig.set_figwidth(12)\n",
      "ax=fig.add_subplot(121)\n",
      "ax.plot(array(out),'o-')\n",
      "ax.legend(('pa','pb'),loc=0)\n",
      "ax.hlines([pa_true,pb_true],0,len(out),['b','g'])\n",
      "ax.axis(ymax=1,ymin=0)\n",
      "ax.set_xlabel('iteration',fontsize=18)\n",
      "ax.set_ylabel('pa,pb values')\n",
      "ax=fig.add_subplot(122)\n",
      "ax.plot(array(lout),'o-')\n",
      "ax.set_xlabel('iteration',fontsize=18)\n",
      "ax.set_ylabel('incomplete likelihood')"
     ],
     "language": "python",
     "metadata": {},
     "outputs": [
      {
       "output_type": "pyout",
       "prompt_number": 17,
       "text": [
        "<matplotlib.text.Text at 0x5459190>"
       ]
      },
      {
       "output_type": "display_data",
       "png": "[encoded data removed]",
       "text": [
        "<matplotlib.figure.Figure at 0x50d4990>"
       ]
      }
     ],
     "prompt_number": 17
    },
    {
     "cell_type": "markdown",
     "metadata": {},
     "source": [
      "The first thing to notice about these plots is that the EM algorithm converges very quickly, but unfortunately to the wrong result! The code below constructs a error surface that the algorithm is exploring to find out why."
     ]
    },
    {
     "cell_type": "code",
     "collapsed": false,
     "input": [
      "pa_step=linspace(0,1,30)\n",
      "pb_step=linspace(0,1,20)\n",
      "z=Lf(x,pa_step[:,None],pb_step[:,None,None]).sum(axis=2) # numpy broadcasting\n",
      "fig=figure()\n",
      "ax=fig.add_subplot(111)\n",
      "p=ax.contourf(pa_step,pb_step,z,30,cmap=cm.gray)\n",
      "xa,xb=zip(*out)\n",
      "ax.plot(xa,xb,'ro',pa_true,pb_true,'bs')\n",
      "ax.plot(xa[0],xb[0],'gx',ms=15.,mew=2.)\n",
      "ax.text(xa[0],xb[0],'start',color='g',fontsize=11.)\n",
      "ax.set_xlabel('pa')\n",
      "ax.set_ylabel('pb')\n",
      "fig.colorbar(p)"
     ],
     "language": "python",
     "metadata": {},
     "outputs": [
      {
       "output_type": "pyout",
       "prompt_number": 18,
       "text": [
        "<matplotlib.colorbar.Colorbar instance at 0x0561F0A8>"
       ]
      },
      {
       "output_type": "display_data",
       "png": "[encoded data removed]",
       "text": [
        "<matplotlib.figure.Figure at 0x52fe730>"
       ]
      }
     ],
     "prompt_number": 18
    },
    {
     "cell_type": "markdown",
     "metadata": {},
     "source": [
      "Note that the algorithm can get to the same contour as the true value, but it cannot move laterally to it. It can only hill-climb. This means that there is no mechanism for the algorithm to slide towards the correct answer because that kind of motion does not generate a change in the objective function."
     ]
    },
    {
     "cell_type": "code",
     "collapsed": true,
     "input": [],
     "language": "python",
     "metadata": {},
     "outputs": [],
     "prompt_number": 18
    },
    {
     "cell_type": "heading",
     "level": 2,
     "metadata": {},
     "source": [
      "Summary"
     ]
    },
    {
     "cell_type": "code",
     "collapsed": false,
     "input": [
      "%qtconsole"
     ],
     "language": "python",
     "metadata": {},
     "outputs": [],
     "prompt_number": 2
    },
    {
     "cell_type": "code",
     "collapsed": false,
     "input": [],
     "language": "python",
     "metadata": {},
     "outputs": [],
     "prompt_number": 19
    }
   ],
   "metadata": {}
  }
 ]
}