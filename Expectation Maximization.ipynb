{
 "metadata": {
  "name": "Expectation Maximization"
 },
 "nbformat": 3,
 "worksheets": [
  {
   "cells": [
    {
     "cell_type": "code",
     "collapsed": true,
     "input": [
      "from __future__ import division",
      "from scipy.stats import bernoulli"
     ],
     "language": "python",
     "outputs": [],
     "prompt_number": 1
    },
    {
     "cell_type": "code",
     "collapsed": false,
     "input": [
      "import sympy",
      "from sympy.abc import x, z",
      "pa=sympy.symbols('pa')",
      "pb=sympy.symbols('pb')",
      "Jj=((pb**x*(1-pb)**(1-x))**(1-z)*(pa**x*(1-pa)**(1-x))**z) # likelihood",
      "L=pb**x*(1-pb)**(1-x)*1/2.0+ (pa**x*(1-pa)**(1-x))*1/2.0 # incomplete likelihood",
      "",
      "J=sympy.log(Jj)",
      "Jf=sympy.lambdify((x,z,pa,pb) ,-J ,\"numpy\")",
      "Lf=sympy.lambdify((x,pa,pb) ,L ,\"numpy\")"
     ],
     "language": "python",
     "outputs": [],
     "prompt_number": 64
    },
    {
     "cell_type": "code",
     "collapsed": true,
     "input": [
      "pa_true=0.8;",
      "pb_true=0.5;",
      "fa=bernoulli(pa_true)",
      "fb=bernoulli(pb_true)",
      "fz=bernoulli(1/2.0)",
      "",
      "def sample(n=10): ",
      "    tmp=fz.rvs(n) # choose one of the coins, A or B",
      "    return tmp*(fa.rvs(n))+(1-tmp)*fb.rvs(n) # flip it n times",
      "",
      "def ez(x,pa,pb):",
      "  return bernoulli(pa).pmf(x)/(bernoulli(pa).pmf(x)+ bernoulli(pb).pmf(x))"
     ],
     "language": "python",
     "outputs": [],
     "prompt_number": 65
    },
    {
     "cell_type": "code",
     "collapsed": false,
     "input": [
      "out=[]",
      "jout=[]",
      "pa=0.1;pb=0.45; # initial point",
      "niter=10",
      "for j in range(1):",
      "   x=sample(500)",
      "   for i in range(niter):",
      "     tau=ez(x,pa,pb)",
      "     jout.append( sum(Lf(x,pa,pb)))",
      "     pa=sum(tau*x)/sum(tau)",
      "     pb=sum(x*(1-tau))/sum(1-tau)",
      "     out.append((pa,pb))",
      "",
      "fig=figure()",
      "fig.set_figwidth(12)",
      "ax=fig.add_subplot(121)",
      "ax.plot(array(out),'o-')",
      "ax.hlines([pa_true,pb_true],0,len(out),['b','g'])",
      "ax.axis(ymax=1,ymin=0)",
      "ax.set_xlabel('iteration')",
      "ax=fig.add_subplot(122)",
      "ax.plot(array(jout),'o-')"
     ],
     "language": "python",
     "outputs": [
      {
       "output_type": "pyout",
       "prompt_number": 66,
       "text": [
        "[<matplotlib.lines.Line2D at 0x8e04930>]"
       ]
      },
      {
       "output_type": "display_data",
       "png": "[encoded data removed]"
      }
     ],
     "prompt_number": 66
    },
    {
     "cell_type": "code",
     "collapsed": false,
     "input": [
      "(pa,pb)"
     ],
     "language": "python",
     "outputs": [
      {
       "output_type": "pyout",
       "prompt_number": 63,
       "text": [
        "(0.39574340964033572, 0.82825652803969385)"
       ]
      }
     ],
     "prompt_number": 63
    },
    {
     "cell_type": "code",
     "collapsed": false,
     "input": [
      "print sum(Lf(x,pa_true,pb_true))",
      "print sum(Lf(x,0.75,.5))",
      "print sum(Lf(x,*out[0]))",
      "out[0]"
     ],
     "language": "python",
     "outputs": [
      {
       "output_type": "stream",
       "stream": "stdout",
       "text": [
        "56.65",
        "54.75",
        "55.9950773959",
        ""
       ]
      },
      {
       "output_type": "pyout",
       "prompt_number": 21,
       "text": [
        "(0.77748691099476408, 0.53804347826086973)"
       ]
      }
     ],
     "prompt_number": 21
    },
    {
     "cell_type": "code",
     "collapsed": true,
     "input": [
      ""
     ],
     "language": "python",
     "outputs": []
    }
   ]
  }
 ]
}