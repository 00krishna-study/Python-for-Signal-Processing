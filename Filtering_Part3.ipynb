{
 "metadata": {
  "name": "Filtering_Part3"
 },
 "nbformat": 3,
 "nbformat_minor": 0,
 "worksheets": [
  {
   "cells": [
    {
     "cell_type": "markdown",
     "metadata": {},
     "source": [
      "Introduction\n",
      "--------------\n",
      "\n",
      "In the previous section, we discussed designing FIR filters using the windowing method. One shortcoming of the windowing method is that it doesn't provide  clear specification of the passband to stopband transition, or other filter characteristics important for practical design. In this section, we discuss the Parks-McClellan algorithm for designing FIR filters with a comparatively richer filter specification that usually results in smaller filter orders for same frequency response. Unfortunately, the algorithm itself is based on certain advanced theorems so we will just use it to get acceptable filter coefficients."
     ]
    },
    {
     "cell_type": "markdown",
     "metadata": {},
     "source": [
      "## Filter Specification\n"
     ]
    },
    {
     "cell_type": "markdown",
     "metadata": {},
     "source": [
      "The Parks-McClellan algorithm generates filter coefficients by solving the *optimum equiripple Chebyshev approximation* to the ideal filter provided in the specification.  The Parks-McClellan algorithm internally uses the Remez exchange technique so the corresponding function in the `signal` module is called `signal.remez`. The function takes the `numtaps` argument which is $M$ in our rotation, the `bands` argument is a sequence of passband/stopband edges in normalized frequency (i.e. provided by $f_s/2$), the `desired` argument is a `numpy` array (or other array-like iterable ) that is half the length of the `bands` argument and contains the desired gain in each of the specified bands. The next argument is the optional `weight` which is array-like, half the length of the `bands` argument, and provides the relative weighting for the passband/stopband. The unfortunately named optional `Hz` argument (default=1) is the sampling frequency in the same units as the `bands`. The next optional argument is the type of filter response in each of the bands (i.e. bandpass, hilbert). The default is `bandpass` filter. The remaining arguments of the function call have to do with the internal operation of the iterative algorithm.\n",
      "\n",
      "Now, let's consider an example see how this works.\n",
      "\n",
      "### Example\n",
      "\n",
      "Suppose we operate at a 1 kHz sample rate and we want a 20-tap lowpass filter with a passband up to 100 Hz and a stopband starting at 150 Hz. "
     ]
    },
    {
     "cell_type": "code",
     "collapsed": false,
     "input": [
      "from __future__ import  division\n",
      "from matplotlib.patches import Rectangle\n",
      "from scipy import signal\n",
      "\n",
      "fs = 1e3 # sample rate in Hz\n",
      "M = 20\n",
      "fpass = 100 # in Hz\n",
      "fstop = 150 # in Hz\n",
      "\n",
      "hn = signal.remez(M,\n",
      "                 array([0, fpass, fstop, fs])/2., # scaled passband, and stop band \n",
      "                 [1,0],  # low pass filter\n",
      "                 Hz = fs, # sampling frequency\n",
      "                 )\n",
      "\n",
      "w,H=signal.freqz(hn,1) # frequency response\n",
      "\n",
      "def apply_plot_overlay():\n",
      "    'convenience function to illustrate stop/passband in frequency response plot'\n",
      "    ax.plot(w/pi*(fs/2),20*log10(abs(H)))\n",
      "    ax.set_ylim(ymax=5)\n",
      "    ax.vlines(100,*ax.get_ylim(),color='r')\n",
      "    ax.vlines(150,*ax.get_ylim(),color='r')\n",
      "    ax.set_ylim(ymin=-40)\n",
      "    ax.set_xlabel(\"frequency (Hz)\",fontsize=18)\n",
      "    ax.set_ylabel(r\"$20\\log_{10}|H(f)|$\",fontsize=22)\n",
      "    ax.add_patch(Rectangle((0,-40),width=fpass,height=45,color='g',alpha=0.3))\n",
      "    ax.add_patch(Rectangle((fpass,-40),width=fstop-fpass,height=45,color='r',alpha=0.3))\n",
      "    ax.add_patch(Rectangle((fstop,-40),width=fs/2-fstop,height=45,color='y',alpha=0.3))\n",
      "    ax.text(10,-5,'passband',fontsize=14,bbox=dict(color='white'))\n",
      "    ax.text(200,-5,'stopband',fontsize=16,bbox=dict(color='white'))\n",
      "    ax.grid()\n",
      "    \n",
      "fig,ax = subplots()\n",
      "fig.set_size_inches((7,3))\n",
      "apply_plot_overlay()"
     ],
     "language": "python",
     "metadata": {},
     "outputs": [],
     "prompt_number": "*"
    },
    {
     "cell_type": "markdown",
     "metadata": {},
     "source": [
      "The figure above shows the frequency response for the specified FIR filter. The pink region is the transitional region between the pass and stop bands. As shown, the attenuation in the stopbandn only provides approximately 15 dB of attenuation. This means that a signal greater than 15 dB in the stopband will leak into the signals in the passband.  One way to increase the attenuation in the stopband, is to increase the filter order,  $M$, as shown in the figure below."
     ]
    },
    {
     "cell_type": "code",
     "collapsed": false,
     "input": [
      "M = 40 # double filter length\n",
      "hn = signal.remez(M,\n",
      "                 array([0, fpass, fstop, fs])/2., # scaled passband, and stop band \n",
      "                 [1,0],  # low pass filter\n",
      "                 Hz = fs, # sampling frequency\n",
      "                 )\n",
      "\n",
      "w,H=signal.freqz(hn,1) # frequency response\n",
      "\n",
      "fig,ax = subplots()\n",
      "fig.set_size_inches((7,3))\n",
      "apply_plot_overlay()"
     ],
     "language": "python",
     "metadata": {},
     "outputs": [],
     "prompt_number": "*"
    },
    {
     "cell_type": "markdown",
     "metadata": {},
     "source": [
      "The figure above shows the frequency response when the filter order is doubled. Note that the attenuation in the stopband has improved but there is now a significant distortion due to the ripple in the passband. Given the same filter order, $ M $, we can mitigate this with the `weight` argument as shown below."
     ]
    },
    {
     "cell_type": "code",
     "collapsed": false,
     "input": [
      "hn = signal.remez(M,\n",
      "                 array([0, fpass, fstop, fs])/2., # scaled passband, and stop band \n",
      "                 [1,0],  # low pass filter\n",
      "                 weight=[100,1], # passband 100 times more important than stopband\n",
      "                 Hz = fs, # sampling frequency\n",
      "                 )\n",
      "\n",
      "w,H=signal.freqz(hn,1) # frequency response\n",
      "fig,ax = subplots()\n",
      "fig.set_size_inches((7,3))\n",
      "apply_plot_overlay()"
     ],
     "language": "python",
     "metadata": {},
     "outputs": [],
     "prompt_number": "*"
    },
    {
     "cell_type": "markdown",
     "metadata": {},
     "source": [
      "As the figure above shows, using the `weight` argument allows flattening of the passband at the expense of raising the stopband attenuation.  This argument influences the iterative algorithm to value errors in the passband much more than in the stopband. I invite you to download the IPython Notebook corresponding to this post to try different filter orders and weights.\n",
      "\n",
      "Let's now consider the performance of this filter in practice.\n"
     ]
    },
    {
     "cell_type": "code",
     "collapsed": false,
     "input": [
      "Ns =500\n",
      "N = 512\n",
      "t = arange(0,Ns)/fs\n",
      "\n",
      "x = signal.chirp(t, 0, t[-1], 30)\n",
      "X = fft.fft(x,N)\n",
      "\n",
      "y=signal.lfilter(hn,1,x)\n",
      "Y = fft.fft(y,N)\n",
      "\n",
      "fig,ax = subplots()\n",
      "apply_plot_overlay()\n",
      "ax.set_ylim(ymin=-30)\n",
      "\n",
      "ax2 = ax.twinx()\n",
      "ax2.plot(arange(N)/N*fs,20*log10(abs(X)),'r-',label='X')\n",
      "ax2.plot(arange(N)/N*fs,20*log10(abs(Y)),'g-',label='Y')\n",
      "ax2.plot(arange(N)/N*fs,20*log10(abs(X)*abs(H)),'g:',lw=2.,label='YY')\n",
      "ax2.set_xlim(xmax = fs/2)\n",
      "ax2.set_ylim(ymin=-20)\n",
      "ax2.set_ylabel(r'$20\\log|Y(f)|  $',fontsize=22)\n",
      "ax2.legend(loc=0)"
     ],
     "language": "python",
     "metadata": {},
     "outputs": [],
     "prompt_number": "*"
    },
    {
     "cell_type": "markdown",
     "metadata": {},
     "source": [
      "This is Meteor with a semi-interactive graphical user interface: the constraint-based linear phase finite impulse response (FIR) filter design program by K. Steiglitz, T.W. Parks, and J.F. Kaiser.\n",
      "\n",
      "\n",
      "I invite you to download the IPython notebook corresponding to this post and try the above for different values of $ M $. Note that drop from the passband to the sidelobes steepens with increasing $ M $. As we have seen before with window functions, this is because the window's mainlobe narrows with increasing sequence length. Naturally, you can use other Windows besides Hamming and change the sidelobe level and mainlobe width. The most popular window used for this method of filter design is the Kaiser-Bessel window because it provides extra parameters for tuning the frequency response."
     ]
    },
    {
     "cell_type": "heading",
     "level": 2,
     "metadata": {},
     "source": [
      "Summary"
     ]
    },
    {
     "cell_type": "markdown",
     "metadata": {},
     "source": [
      "The window design method is probably the easiest FIR design method to understand but the drawback of this method is that there are few design parameters to choose from in order to characterize the transfer function. As designers, we want to specify parameters relevent to distortions in the passband, the width of the transition band, and other features. Ultimately, we want a richer characterization of the desired frequency response. Our next section covers the Remez method that provides these parameters."
     ]
    },
    {
     "cell_type": "markdown",
     "metadata": {},
     "source": [
      "\n",
      "As usual, the corresponding IPython notebook for this post  is available for download [here](https://github.com/unpingco/Python-for-Signal-Processing/blob/master/Filtering.ipynb). \n",
      "\n",
      "Comments and corrections welcome!"
     ]
    },
    {
     "cell_type": "code",
     "collapsed": false,
     "input": [
      "%qtconsole"
     ],
     "language": "python",
     "metadata": {},
     "outputs": [],
     "prompt_number": "*"
    },
    {
     "cell_type": "markdown",
     "metadata": {},
     "source": [
      "References\n",
      "---------------\n",
      "\n",
      "* J. H. McClellan and T. W. Parks, \u201cA unified approach to the design of optimum FIR linear phase digital filters\u201d, IEEE Trans. Circuit Theory, vol. CT-20, pp. 697-701, 1973.\n",
      "* J. H. McClellan, T. W. Parks and L. R. Rabiner, \u201cA Computer Program for Designing Optimum FIR Linear Phase Digital Filters\u201d, IEEE Trans. Audio Electroacoust., vol. AU-21, pp. 506-525, 1973.\n"
     ]
    }
   ],
   "metadata": {}
  }
 ]
}