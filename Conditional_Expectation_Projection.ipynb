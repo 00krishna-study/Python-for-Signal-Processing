{
 "metadata": {
  "name": "Conditional_Expectation_Projection"
 },
 "nbformat": 3,
 "nbformat_minor": 0,
 "worksheets": [
  {
   "cells": [
    {
     "cell_type": "markdown",
     "metadata": {},
     "source": [
      "in our discussion, we previously noted that the conditional expectation is the minimum mean squared error (MMSE) solution to the following problem:\n",
      "\n",
      "$$ \\min_h \\int_{\\mathbb{R}} (x - h(y) )^2 dx $$ \n",
      "\n",
      "$$ \\mathbb{E}(X|Y) = h_{opt}(Y) $$\n",
      "\n",
      "which is another way of saying that among all possible functions $h(Y)$, the one that minimizes the MSE is $ \\mathbb{E}(X|Y)$. From our discussion on projection, we noted that these MMSE solutions can be thought of as projections onto a subspace that characterizes $Y$ in some sense. The amazing thing is that we can shift our notion of the inner product from our last discussion on projections and collect all of the same results (with some additional technicalities). For example, we previously noted that at the point of projection, we had\n",
      "\n",
      "$$ ( \\mathbf{y} - \\alpha \\mathbf{v} )^T \\mathbf{v} = 0$$\n",
      "\n",
      "which by noting the inner product as $\\langle\\mathbf{x},\\mathbf{y} \\rangle = \\mathbf{x}^T \\mathbf{y}$, we can express this as\n",
      "\n",
      "$$\\langle \\mathbf{y} - \\alpha \\mathbf{v},\\mathbf{v} \\rangle = 0  $$ \n",
      "\n",
      "and, in fact, by defining the inner product for the random variables $X$ and $Y$ as \n",
      "\n",
      "$$ \\langle X,Y \\rangle = \\mathbb{E}(X Y)$$ \n",
      "\n",
      "we have the same relationship,\n",
      "\n",
      "$$\\langle X-h_{opt}(Y),Y \\rangle = 0 =  \\mathbb{E}( X-\\mathbb{E}(X|Y), Y) $$ \n",
      "\n",
      "and using the linearity of the expectation, we can easily obtain,\n",
      "\n",
      "$$  \\mathbb{E}(X Y) =  \\mathbb{E}(Y \\mathbb{E}(X|Y))$$  \n",
      "\n",
      "If that seems too easy, we can proceed with a formal definition of conditional expectation\n",
      "\n",
      "$$ \\mathbb{E}(X|Y) = \\int_{\\mathbb{R}^2} x \\frac{f_{X,Y}(x,y)}{f_Y(y)} dx dy  $$\n",
      "\n",
      "and show this formally,\n",
      "\n",
      "$$ \\mathbb{E}(Y \\mathbb{E}(X|Y))= \\int_{\\mathbb{R}} y \\int_{\\mathbb{R}} x \\frac{f_{X,Y}(x,y)}{f_Y(y)}  f_Y(y) dx dy =\\int_{\\mathbb{R}^2} x y f_{X,Y}(x,y) dx dy =\\mathbb{E}( X Y) $$\n",
      "\n",
      "But doing it formally prohibits us from carrying along the geometric  interpretation from our previous discussion.\n",
      "\n",
      "We can keep pursuing this as before and obtain the length of the error term as\n",
      "\n",
      "$$ \\langle X-h_{opt}(Y),X-h_{opt}(Y)  \\rangle = \\langle X,X  \\rangle - \\langle h_{opt}(Y),h_{opt}(Y)  \\rangle  $$\n",
      "\n",
      "and then by substituting all the notation we obtain\n",
      "\n",
      "$$ \\mathbb{E}(X-  \\mathbb{E}(X|Y))^2 = \\mathbb{E}(X)^2 - \\mathbb{E}(\\mathbb{E}(X|Y) )^2    $$"
     ]
    },
    {
     "cell_type": "heading",
     "level": 3,
     "metadata": {},
     "source": [
      "Example"
     ]
    },
    {
     "cell_type": "markdown",
     "metadata": {},
     "source": [
      "Let's consider the following example with $f_{X,Y}= x + y $ where $(x,y) \\in [0,1]^2$ and we'll compute the conditional expectation straight from the definition:\n",
      "\n",
      "$$ \\mathbb{ E}(X|Y) = \\int_0^1 x \\frac{f_{X,Y}(x,y)}{f_Y(y)} dx=  \\int_0^1 x \\frac{x+y}{y+1/2} dx =\\frac{3 y + 2}{6 y + 3} $$\n",
      "\n",
      "That was pretty easy because the density function is so simple. Now, let's do it the hard way by going directly for the MMSE solution $h(Y)$. Then,\n",
      "\n",
      "$$ \\min_h \\int_0^1\\int_0^1 (x - h(y) )^2 f_{X,Y}(x,y)dx dy = \\min_h \\int_0^1  y h^2 {\\left (y \\right )} - y h{\\left (y \\right )} + \\frac{1}{3} y + \\frac{1}{2} h^{2}{\\left (y \\right )} - \\frac{2}{3} h{\\left (y \\right )} + \\frac{1}{4} dy $$ \n",
      "\n",
      "Now we have to find a function $h$ that is going to minimize this. Solving for a function, as opposed to solving for a number, is generally very, very hard, but in this case we can use the Euler-Lagrange method from variational calculus to take the derivative of the integrand with respect to the function $h(y)$ and set it to zero. Euler-Lagrange methods will be the topic of a later section, but for now we just want the result, namely,\n",
      "\n",
      "$$ 2 y h{\\left (y \\right )} - y + h{\\left (y \\right )} - \\frac{2}{3} =0 $$\n",
      "\n",
      "Solving this gives\n",
      "\n",
      "$$ h(y)= \\frac{3 y + 2}{6 y + 3} $$\n",
      "\n",
      "Thus, doing it both ways gives us the same answer; but, in general, neither way is necessarily easier because they both involve potentially difficult or impossible integration or solving for functions. \n",
      "\n",
      "Before we leave this example, let's check the length of the error function using `sympy`."
     ]
    },
    {
     "cell_type": "code",
     "collapsed": false,
     "input": [
      "from sympy.abc import y,x\n",
      "from sympy import integrate, simplify\n",
      "\n",
      "fxy = x + y                 # joint density\n",
      "fy = integrate(fxy,(x,0,1)) # marginal density\n",
      "fx = integrate(fxy,(y,0,1)) # marginal density\n",
      "\n",
      "h = (3*y+2)/(6*y+3) # conditional expectation\n",
      "LHS=integrate((x - h)**2 *fxy, (x,0,1),(y,0,1)) # from the definition\n",
      "RHS=integrate( (x)**2 *fx, (x,0,1)) - integrate( (h)**2 *fy, (y,0,1)) # using Pythagorean theorem\n",
      "print simplify(LHS-RHS)==0"
     ],
     "language": "python",
     "metadata": {},
     "outputs": [
      {
       "output_type": "stream",
       "stream": "stdout",
       "text": [
        "True\n"
       ]
      }
     ],
     "prompt_number": 1
    },
    {
     "cell_type": "markdown",
     "metadata": {},
     "source": [
      "As we said, the trouble is that trying to solve for the conditional expectation by minimizing the error over all possible functions $h$ is generally very, very hard. One alternative is to use parameters for the $h$ function and then just optimize over those. For example, we could assume that $h(Y)= \\alpha Y$ and then use calculus to find the $\\alpha$.\n",
      "\n",
      "Let's try this with the zero-mean bivariate Gaussian density,\n",
      "\n",
      "$$\\mathbb{E}((X-\\alpha(Y))^2) = \\mathbb{E}(\\alpha^2 Y^2 - 2 \\alpha X Y + X^2 )$$\n",
      "\n",
      "and then differentiate this with respect to $\\alpha$ to obtain\n",
      "\n",
      "$$\\mathbb{E}(2 \\alpha Y^2 - 2 X Y  ) = 2 \\alpha \\sigma_y^2 - 2 \\mathbb{E}(XY) = 0$$\n",
      "\n",
      "Then, solving for $\\alpha$ gives\n",
      "\n",
      "$$ \\alpha = \\frac{ \\mathbb{E}(X Y)}{ \\sigma_y^2 } $$\n",
      "\n",
      "which means we claim that\n",
      "\n",
      "$$ \\mathbb{ E}(X|Y) = \\alpha Y =   \\frac{ \\mathbb{E}(X Y )}{ \\sigma_Y^2 } Y =\\frac{\\sigma_{X Y}}{ \\sigma_Y^2 } Y  $$\n",
      "\n",
      "where that last step is just notation.\n"
     ]
    },
    {
     "cell_type": "code",
     "collapsed": false,
     "input": [
      "from sympy import Matrix, Symbol, exp, pi, simplify, integrate \n",
      "from sympy import stats\n",
      "\n",
      "sigma_x = Symbol('sigma_x',positive=True)\n",
      "sigma_y = Symbol('sigma_y',positive=True)\n",
      "sigma_xy = Symbol('sigma_xy',real=True)\n",
      "fyy = stats.density(stats.Normal('y',0,sigma_y))(y)\n",
      " \n",
      "R = Matrix([[sigma_x**2, sigma_xy],\n",
      "            [sigma_xy,sigma_y**2]])\n",
      "fxy = 1/(2*pi)/sqrt(R.det()) * exp((-Matrix([[x,y]])*R.inv()* Matrix([[x],[y]]))[0,0]/2 )\n",
      "\n",
      "fcond = simplify(fxy/fyy)"
     ],
     "language": "python",
     "metadata": {},
     "outputs": [],
     "prompt_number": 15
    },
    {
     "cell_type": "markdown",
     "metadata": {},
     "source": [
      "Proof that $\\mathbb{E}(x|y)$ is Minimum MSE solution\n",
      "\n",
      "$$ $$ "
     ]
    },
    {
     "cell_type": "markdown",
     "metadata": {},
     "source": [
      "$$ \\min_h \\int_\\mathbb{R^2} | X - h(Y) |^2 f_{x,y}(X,Y) dx dy $$\n",
      "\n",
      "$$ \\min_h \\int_\\mathbb{R^2} | X |^2 f_{x,y}(X,Y) dx dy + \\int_\\mathbb{R^2} | h(Y) |^2 f_{x,y}(X,Y) dx dy - \\int_\\mathbb{R^2} 2 X h(Y) f_{x,y}(X,Y) dx dy $$\n",
      "\n",
      "Now, we want to maximize the following:\n",
      "\n",
      "$$ \\max_h \\int_\\mathbb{R^2}  X h(Y) f_{x,y}(X,Y) dx dy  $$ \n",
      "\n",
      "Breaking up the integral using the definition of conditional expectation\n",
      "\n",
      "$$ \\max_h \\int_\\mathbb{R}   \\left(\\int_\\mathbb{R} X  f_{x|y}(X|Y) dx \\right)h(Y) f_Y(Y)   dy  $$ \n",
      "\n",
      "$$ \\max_h \\int_\\mathbb{R} \\mathbb{E}(X|Y) h(Y)f_Y(Y)   dy  $$ \n",
      "\n",
      "From properties of the Cauchy-Schwarz inequality, we know that the maximum happens when $h(Y) = \\mathbb{E}(X|Y)$, so we have found the optimal $h(Y)$ function as :\n",
      "\n",
      "$$ h(Y) = \\mathbb{E}(X|Y)$$ \n",
      "\n",
      "which shows that the optimal function is the conditional expectation."
     ]
    },
    {
     "cell_type": "markdown",
     "metadata": {},
     "source": [
      "Suppose we have a random variable, $X$, then what constant is closest to $X$ in the mean-squared-sense (MSE)? In other words, which $c$ minimizes the following:\n",
      "\n",
      "$$ J = \\mathbb{E}( X - c )^2 $$ \n",
      "\n",
      "we can work this out as\n",
      "\n",
      "$$ \\mathbb{E}( X - c )^2 = \\mathbb{E}(c^2 - 2 c X + X^2)  $$ \n",
      "\n",
      "and then take the first derivative with respect to $c$ and solve:\n",
      "\n",
      "$$ c=\\mathbb{E}(X) $$ \n",
      "\n",
      "Remember that $X$ can take on all kinds of values, but this says that the closest number to $X$ in the MSE sense is $\\mathbb{E}(X)$.\n"
     ]
    },
    {
     "cell_type": "code",
     "collapsed": false,
     "input": [
      "fcond=simplify(fcond)"
     ],
     "language": "python",
     "metadata": {},
     "outputs": [],
     "prompt_number": 21
    },
    {
     "cell_type": "code",
     "collapsed": false,
     "input": [
      "u=Symbol('u',positive=True)\n",
      "fcond2=fcond.subs( sigma_x**2 *sigma_y**2 - sigma_xy**2, u  )\n"
     ],
     "language": "python",
     "metadata": {},
     "outputs": [],
     "prompt_number": 22
    },
    {
     "cell_type": "code",
     "collapsed": false,
     "input": [
      "integrate(x*fcond2,(x,-oo,oo))"
     ],
     "language": "python",
     "metadata": {},
     "outputs": [
      {
       "latex": [
        "$$- \\frac{\\sqrt{2} \\sigma_{x}^{3} \\sigma_{xy} \\sigma_{y} y \\left(\\sqrt{\\pi} \\left(- 2 \\operatorname{erf}{\\left (\\frac{\\sigma_{x} \\sigma_{xy} y}{2 \\sqrt{u} \\sqrt{\\frac{1}{2} \\sigma_{xy}^{2} + \\frac{1}{2} u}} \\right )} -2\\right) - 4 \\frac{\\sqrt{u} \\sqrt{\\frac{1}{2} \\sigma_{xy}^{2} + \\frac{1}{2} u} e^{- \\frac{\\sigma_{x}^{2} \\sigma_{xy}^{2} y^{2}}{4 u \\left(\\frac{1}{2} \\sigma_{xy}^{2} + \\frac{1}{2} u\\right)}}}{\\sigma_{x} \\sigma_{xy} y}\\right) e^{\\frac{\\sigma_{x}^{2} \\sigma_{xy}^{2} y^{2}}{4 u \\left(\\frac{1}{2} \\sigma_{xy}^{2} + \\frac{1}{2} u\\right)}} e^{- \\frac{y^{2}}{2 \\sigma_{y}^{2} - 2 \\frac{\\sigma_{xy}^{2}}{\\sigma_{x}^{2}}} + \\frac{y^{2}}{2 \\sigma_{y}^{2}}}}{16 \\sqrt{\\pi} \\left(\\frac{1}{2} \\sigma_{xy}^{2} + \\frac{1}{2} u\\right)^{\\frac{3}{2}}} - \\frac{\\sqrt{2} \\sigma_{x}^{3} \\sigma_{xy} \\sigma_{y} y \\left(\\sqrt{\\pi} \\left(2 \\operatorname{erf}{\\left (\\frac{\\sigma_{x} \\sigma_{xy} y}{2 \\sqrt{u} \\sqrt{\\frac{1}{2} \\sigma_{xy}^{2} + \\frac{1}{2} u}} \\right )} -2\\right) + 4 \\frac{\\sqrt{u} \\sqrt{\\frac{1}{2} \\sigma_{xy}^{2} + \\frac{1}{2} u} e^{- \\frac{\\sigma_{x}^{2} \\sigma_{xy}^{2} y^{2}}{4 u \\left(\\frac{1}{2} \\sigma_{xy}^{2} + \\frac{1}{2} u\\right)}}}{\\sigma_{x} \\sigma_{xy} y}\\right) e^{\\frac{\\sigma_{x}^{2} \\sigma_{xy}^{2} y^{2}}{4 u \\left(\\frac{1}{2} \\sigma_{xy}^{2} + \\frac{1}{2} u\\right)}} e^{- \\frac{y^{2}}{2 \\sigma_{y}^{2} - 2 \\frac{\\sigma_{xy}^{2}}{\\sigma_{x}^{2}}} + \\frac{y^{2}}{2 \\sigma_{y}^{2}}}}{16 \\sqrt{\\pi} \\left(\\frac{1}{2} \\sigma_{xy}^{2} + \\frac{1}{2} u\\right)^{\\frac{3}{2}}}$$"
       ],
       "output_type": "pyout",
       "png": "[encoded data removed]",
       "prompt_number": 25,
       "text": [
        "                               \u239b                                              \n",
        "                               \u239c                                              \n",
        "                               \u239c                                              \n",
        "                               \u239c                                              \n",
        "                               \u239c                                              \n",
        "                               \u239c                                              \n",
        "                               \u239c                                              \n",
        "                               \u239c                                              \n",
        "    ___   3                    \u239c  ___ \u239b       \u239b       \u03c3\u2093\u22c5sigma_xy\u22c5y        \u239e  \n",
        "  \u2572\u2571 2 \u22c5\u03c3\u2093 \u22c5sigma_xy\u22c5sigma_y\u22c5y\u22c5\u239c\u2572\u2571 \u03c0 \u22c5\u239c- 2\u22c5erf\u239c\u2500\u2500\u2500\u2500\u2500\u2500\u2500\u2500\u2500\u2500\u2500\u2500\u2500\u2500\u2500\u2500\u2500\u2500\u2500\u2500\u2500\u2500\u2500\u2500\u2500\u2500\u2500\u2500\u239f -\n",
        "                               \u239c      \u239c       \u239c             _______________\u239f  \n",
        "                               \u239c      \u239c       \u239c            \u2571         2     \u239f  \n",
        "                               \u239c      \u239c       \u239c    ___    \u2571  sigma_xy    u \u239f  \n",
        "                               \u239c      \u239c       \u239c2\u22c5\u2572\u2571 u \u22c5  \u2571   \u2500\u2500\u2500\u2500\u2500\u2500\u2500\u2500\u2500 + \u2500 \u239f  \n",
        "                               \u239d      \u239d       \u239d        \u2572\u2571        2       2 \u23a0  \n",
        "- \u2500\u2500\u2500\u2500\u2500\u2500\u2500\u2500\u2500\u2500\u2500\u2500\u2500\u2500\u2500\u2500\u2500\u2500\u2500\u2500\u2500\u2500\u2500\u2500\u2500\u2500\u2500\u2500\u2500\u2500\u2500\u2500\u2500\u2500\u2500\u2500\u2500\u2500\u2500\u2500\u2500\u2500\u2500\u2500\u2500\u2500\u2500\u2500\u2500\u2500\u2500\u2500\u2500\u2500\u2500\u2500\u2500\u2500\u2500\u2500\u2500\u2500\u2500\u2500\u2500\u2500\u2500\u2500\u2500\u2500\u2500\u2500\u2500\u2500\u2500\u2500\n",
        "                                                                              \n",
        "                                                                              \n",
        "                                                                              \n",
        "                                                                              \n",
        "                                                                              \n",
        "\n",
        "                                        2         2  2 \u239e                      \n",
        "                                     -\u03c3\u2093 \u22c5sigma_xy \u22c5y  \u239f                      \n",
        "                                    \u2500\u2500\u2500\u2500\u2500\u2500\u2500\u2500\u2500\u2500\u2500\u2500\u2500\u2500\u2500\u2500\u2500\u2500\u2500\u239f      2         2  2  \n",
        "                                        \u239b        2    \u239e\u239f    \u03c3\u2093 \u22c5sigma_xy \u22c5y   \n",
        "                   _______________      \u239csigma_xy    u\u239f\u239f  \u2500\u2500\u2500\u2500\u2500\u2500\u2500\u2500\u2500\u2500\u2500\u2500\u2500\u2500\u2500\u2500\u2500\u2500\u2500 \n",
        "                  \u2571         2       4\u22c5u\u22c5\u239c\u2500\u2500\u2500\u2500\u2500\u2500\u2500\u2500\u2500 + \u2500\u239f\u239f      \u239b        2    \u239e \n",
        "          ___    \u2571  sigma_xy    u       \u239d    2       2\u23a0\u239f      \u239csigma_xy    u\u239f \n",
        "      4\u22c5\u2572\u2571 u \u22c5  \u2571   \u2500\u2500\u2500\u2500\u2500\u2500\u2500\u2500\u2500 + \u2500 \u22c5\u212f                   \u239f  4\u22c5u\u22c5\u239c\u2500\u2500\u2500\u2500\u2500\u2500\u2500\u2500\u2500 + \u2500\u239f \n",
        "  \u239e           \u2572\u2571        2       2                      \u239f      \u239d    2       2\u23a0 \n",
        " 2\u239f - \u2500\u2500\u2500\u2500\u2500\u2500\u2500\u2500\u2500\u2500\u2500\u2500\u2500\u2500\u2500\u2500\u2500\u2500\u2500\u2500\u2500\u2500\u2500\u2500\u2500\u2500\u2500\u2500\u2500\u2500\u2500\u2500\u2500\u2500\u2500\u2500\u2500\u2500\u2500\u2500\u2500\u2500\u2500\u2500\u2500\u2500\u2500\u2500\u2500\u239f\u22c5\u212f                   \u22c5\n",
        "  \u239f                     \u03c3\u2093\u22c5sigma_xy\u22c5y                  \u239f                      \n",
        "  \u239f                                                    \u239f                      \n",
        "  \u239f                                                    \u239f                      \n",
        "  \u239f                                                    \u239f                      \n",
        "  \u23a0                                                    \u23a0                      \n",
        "\u2500\u2500\u2500\u2500\u2500\u2500\u2500\u2500\u2500\u2500\u2500\u2500\u2500\u2500\u2500\u2500\u2500\u2500\u2500\u2500\u2500\u2500\u2500\u2500\u2500\u2500\u2500\u2500\u2500\u2500\u2500\u2500\u2500\u2500\u2500\u2500\u2500\u2500\u2500\u2500\u2500\u2500\u2500\u2500\u2500\u2500\u2500\u2500\u2500\u2500\u2500\u2500\u2500\u2500\u2500\u2500\u2500\u2500\u2500\u2500\u2500\u2500\u2500\u2500\u2500\u2500\u2500\u2500\u2500\u2500\u2500\u2500\u2500\u2500\u2500\u2500\u2500\u2500\n",
        "                               3/2                                            \n",
        "                \u239b        2    \u239e                                               \n",
        "            ___ \u239csigma_xy    u\u239f                                               \n",
        "       16\u22c5\u2572\u2571 \u03c0 \u22c5\u239c\u2500\u2500\u2500\u2500\u2500\u2500\u2500\u2500\u2500 + \u2500\u239f                                               \n",
        "                \u239d    2       2\u23a0                                               \n",
        "\n",
        "                                                                        \u239b     \n",
        "               2                   2                                    \u239c     \n",
        "              y                   y                                     \u239c     \n",
        " - \u2500\u2500\u2500\u2500\u2500\u2500\u2500\u2500\u2500\u2500\u2500\u2500\u2500\u2500\u2500\u2500\u2500\u2500\u2500\u2500\u2500\u2500\u2500\u2500 + \u2500\u2500\u2500\u2500\u2500\u2500\u2500\u2500\u2500\u2500                                \u239c     \n",
        "     \u239b                   2\u239e            2                                \u239c     \n",
        "     \u239c       2   sigma_xy \u239f   2\u22c5sigma_y                                 \u239c     \n",
        "   2\u22c5\u239csigma_y  - \u2500\u2500\u2500\u2500\u2500\u2500\u2500\u2500\u2500\u239f                                             \u239c     \n",
        "     \u239c                2   \u239f                                             \u239c     \n",
        "     \u239d              \u03c3\u2093    \u23a0                  ___   3                    \u239c  ___\n",
        "\u212f                                          \u2572\u2571 2 \u22c5\u03c3\u2093 \u22c5sigma_xy\u22c5sigma_y\u22c5y\u22c5\u239c\u2572\u2571 \u03c0 \n",
        "                                                                        \u239c     \n",
        "                                                                        \u239c     \n",
        "                                                                        \u239c     \n",
        "                                                                        \u239c     \n",
        "                                                                        \u239d     \n",
        "\u2500\u2500\u2500\u2500\u2500\u2500\u2500\u2500\u2500\u2500\u2500\u2500\u2500\u2500\u2500\u2500\u2500\u2500\u2500\u2500\u2500\u2500\u2500\u2500\u2500\u2500\u2500\u2500\u2500\u2500\u2500\u2500\u2500\u2500\u2500\u2500\u2500\u2500\u2500\u2500 - \u2500\u2500\u2500\u2500\u2500\u2500\u2500\u2500\u2500\u2500\u2500\u2500\u2500\u2500\u2500\u2500\u2500\u2500\u2500\u2500\u2500\u2500\u2500\u2500\u2500\u2500\u2500\u2500\u2500\u2500\u2500\u2500\u2500\u2500\u2500\n",
        "                                                                              \n",
        "                                                                              \n",
        "                                                                              \n",
        "                                                                              \n",
        "                                                                              \n",
        "\n",
        "                                                                              \n",
        "                                                                            -\u03c3\n",
        "                                                                           \u2500\u2500\u2500\n",
        "                                                                              \n",
        "                                                          _______________     \n",
        "                                                         \u2571         2       4\u22c5u\n",
        "                                                 ___    \u2571  sigma_xy    u      \n",
        "                                             4\u22c5\u2572\u2571 u \u22c5  \u2571   \u2500\u2500\u2500\u2500\u2500\u2500\u2500\u2500\u2500 + \u2500 \u22c5\u212f   \n",
        " \u239b     \u239b       \u03c3\u2093\u22c5sigma_xy\u22c5y        \u239e    \u239e           \u2572\u2571        2       2      \n",
        "\u22c5\u239c2\u22c5erf\u239c\u2500\u2500\u2500\u2500\u2500\u2500\u2500\u2500\u2500\u2500\u2500\u2500\u2500\u2500\u2500\u2500\u2500\u2500\u2500\u2500\u2500\u2500\u2500\u2500\u2500\u2500\u2500\u2500\u239f - 2\u239f + \u2500\u2500\u2500\u2500\u2500\u2500\u2500\u2500\u2500\u2500\u2500\u2500\u2500\u2500\u2500\u2500\u2500\u2500\u2500\u2500\u2500\u2500\u2500\u2500\u2500\u2500\u2500\u2500\u2500\u2500\u2500\u2500\u2500\n",
        " \u239c     \u239c             _______________\u239f    \u239f                     \u03c3\u2093\u22c5sigma_xy\u22c5y  \n",
        " \u239c     \u239c            \u2571         2     \u239f    \u239f                                    \n",
        " \u239c     \u239c    ___    \u2571  sigma_xy    u \u239f    \u239f                                    \n",
        " \u239c     \u239c2\u22c5\u2572\u2571 u \u22c5  \u2571   \u2500\u2500\u2500\u2500\u2500\u2500\u2500\u2500\u2500 + \u2500 \u239f    \u239f                                    \n",
        " \u239d     \u239d        \u2572\u2571        2       2 \u23a0    \u23a0                                    \n",
        "\u2500\u2500\u2500\u2500\u2500\u2500\u2500\u2500\u2500\u2500\u2500\u2500\u2500\u2500\u2500\u2500\u2500\u2500\u2500\u2500\u2500\u2500\u2500\u2500\u2500\u2500\u2500\u2500\u2500\u2500\u2500\u2500\u2500\u2500\u2500\u2500\u2500\u2500\u2500\u2500\u2500\u2500\u2500\u2500\u2500\u2500\u2500\u2500\u2500\u2500\u2500\u2500\u2500\u2500\u2500\u2500\u2500\u2500\u2500\u2500\u2500\u2500\u2500\u2500\u2500\u2500\u2500\u2500\u2500\u2500\u2500\u2500\u2500\u2500\u2500\u2500\u2500\u2500\n",
        "                                                                       3/2    \n",
        "                                                        \u239b        2    \u239e       \n",
        "                                                    ___ \u239csigma_xy    u\u239f       \n",
        "                                               16\u22c5\u2572\u2571 \u03c0 \u22c5\u239c\u2500\u2500\u2500\u2500\u2500\u2500\u2500\u2500\u2500 + \u2500\u239f       \n",
        "                                                        \u239d    2       2\u23a0       \n",
        "\n",
        " 2         2  2 \u239e                                                             \n",
        "\u2093 \u22c5sigma_xy \u22c5y  \u239f                                     2                   2   \n",
        "\u2500\u2500\u2500\u2500\u2500\u2500\u2500\u2500\u2500\u2500\u2500\u2500\u2500\u2500\u2500\u2500\u239f      2         2  2                y                   y    \n",
        " \u239b        2    \u239e\u239f    \u03c3\u2093 \u22c5sigma_xy \u22c5y    - \u2500\u2500\u2500\u2500\u2500\u2500\u2500\u2500\u2500\u2500\u2500\u2500\u2500\u2500\u2500\u2500\u2500\u2500\u2500\u2500\u2500\u2500\u2500\u2500 + \u2500\u2500\u2500\u2500\u2500\u2500\u2500\u2500\u2500\n",
        " \u239csigma_xy    u\u239f\u239f  \u2500\u2500\u2500\u2500\u2500\u2500\u2500\u2500\u2500\u2500\u2500\u2500\u2500\u2500\u2500\u2500\u2500\u2500\u2500      \u239b                   2\u239e            \n",
        "\u22c5\u239c\u2500\u2500\u2500\u2500\u2500\u2500\u2500\u2500\u2500 + \u2500\u239f\u239f      \u239b        2    \u239e      \u239c       2   sigma_xy \u239f   2\u22c5sigma_y\n",
        " \u239d    2       2\u23a0\u239f      \u239csigma_xy    u\u239f    2\u22c5\u239csigma_y  - \u2500\u2500\u2500\u2500\u2500\u2500\u2500\u2500\u2500\u239f            \n",
        "                \u239f  4\u22c5u\u22c5\u239c\u2500\u2500\u2500\u2500\u2500\u2500\u2500\u2500\u2500 + \u2500\u239f      \u239c                2   \u239f            \n",
        "                \u239f      \u239d    2       2\u23a0      \u239d              \u03c3\u2093    \u23a0            \n",
        "\u2500\u2500\u2500\u2500\u2500\u2500\u2500\u2500\u2500\u2500\u2500\u2500\u2500\u2500\u2500\u2500\u239f\u22c5\u212f                   \u22c5\u212f                                      \n",
        "                \u239f                                                             \n",
        "                \u239f                                                             \n",
        "                \u239f                                                             \n",
        "                \u239f                                                             \n",
        "                \u23a0                                                             \n",
        "\u2500\u2500\u2500\u2500\u2500\u2500\u2500\u2500\u2500\u2500\u2500\u2500\u2500\u2500\u2500\u2500\u2500\u2500\u2500\u2500\u2500\u2500\u2500\u2500\u2500\u2500\u2500\u2500\u2500\u2500\u2500\u2500\u2500\u2500\u2500\u2500\u2500\u2500\u2500\u2500\u2500\u2500\u2500\u2500\u2500\u2500\u2500\u2500\u2500\u2500\u2500\u2500\u2500\u2500\u2500\u2500\u2500\u2500\u2500\u2500\u2500\u2500\u2500\u2500\u2500\u2500\u2500\u2500\u2500\u2500\u2500\u2500\u2500\u2500\u2500\u2500\u2500\u2500\n",
        "                                                                              \n",
        "                                                                              \n",
        "                                                                              \n",
        "                                                                              \n",
        "                                                                              \n",
        "\n",
        " \n",
        " \n",
        " \n",
        "\u2500\n",
        "2\n",
        " \n",
        " \n",
        " \n",
        " \n",
        " \n",
        " \n",
        " \n",
        " \n",
        " \n",
        " \n",
        "\u2500\n",
        " \n",
        " \n",
        " \n",
        " \n",
        " "
       ]
      }
     ],
     "prompt_number": 25
    },
    {
     "cell_type": "code",
     "collapsed": false,
     "input": [
      "simplify(_)\n"
     ],
     "language": "python",
     "metadata": {},
     "outputs": [
      {
       "latex": [
        "$$\\frac{\\sigma_{x}^{3} \\sigma_{xy} \\sigma_{y} y e^{\\frac{1}{2} y^{2} \\left(\\frac{\\sigma_{x}^{2} \\sigma_{xy}^{2}}{u \\left(\\sigma_{xy}^{2} + u\\right)} - \\frac{\\sigma_{x}^{2}}{\\sigma_{x}^{2} \\sigma_{y}^{2} - \\sigma_{xy}^{2}} + \\sigma_{y}^{-2}\\right)}}{\\left(\\sigma_{xy}^{2} + u\\right)^{\\frac{3}{2}}}$$"
       ],
       "output_type": "pyout",
       "png": "[encoded data removed]",
       "prompt_number": 26,
       "text": [
        "                           \u239b    2         2                 2                 \n",
        "                         2 \u239c  \u03c3\u2093 \u22c5sigma_xy                \u03c3\u2093                  \n",
        "                        y \u22c5\u239c\u2500\u2500\u2500\u2500\u2500\u2500\u2500\u2500\u2500\u2500\u2500\u2500\u2500\u2500\u2500\u2500\u2500 - \u2500\u2500\u2500\u2500\u2500\u2500\u2500\u2500\u2500\u2500\u2500\u2500\u2500\u2500\u2500\u2500\u2500\u2500\u2500\u2500\u2500\u2500\u2500\u2500 + \u2500\u2500\u2500\n",
        "                           \u239c  \u239b        2    \u239e     2        2           2      \n",
        "                           \u239du\u22c5\u239dsigma_xy  + u\u23a0   \u03c3\u2093 \u22c5sigma_y  - sigma_xy    sig\n",
        "                        \u2500\u2500\u2500\u2500\u2500\u2500\u2500\u2500\u2500\u2500\u2500\u2500\u2500\u2500\u2500\u2500\u2500\u2500\u2500\u2500\u2500\u2500\u2500\u2500\u2500\u2500\u2500\u2500\u2500\u2500\u2500\u2500\u2500\u2500\u2500\u2500\u2500\u2500\u2500\u2500\u2500\u2500\u2500\u2500\u2500\u2500\u2500\u2500\u2500\u2500\u2500\u2500\u2500\u2500\n",
        "  3                                                  2                        \n",
        "\u03c3\u2093 \u22c5sigma_xy\u22c5sigma_y\u22c5y\u22c5\u212f                                                      \n",
        "\u2500\u2500\u2500\u2500\u2500\u2500\u2500\u2500\u2500\u2500\u2500\u2500\u2500\u2500\u2500\u2500\u2500\u2500\u2500\u2500\u2500\u2500\u2500\u2500\u2500\u2500\u2500\u2500\u2500\u2500\u2500\u2500\u2500\u2500\u2500\u2500\u2500\u2500\u2500\u2500\u2500\u2500\u2500\u2500\u2500\u2500\u2500\u2500\u2500\u2500\u2500\u2500\u2500\u2500\u2500\u2500\u2500\u2500\u2500\u2500\u2500\u2500\u2500\u2500\u2500\u2500\u2500\u2500\u2500\u2500\u2500\u2500\u2500\u2500\u2500\u2500\u2500\u2500\n",
        "                                                3/2                           \n",
        "                                 \u239b        2    \u239e                              \n",
        "                                 \u239dsigma_xy  + u\u23a0                              \n",
        "\n",
        "     \u239e\n",
        "1    \u239f\n",
        "\u2500\u2500\u2500\u2500\u2500\u239f\n",
        "    2\u239f\n",
        "ma_y \u23a0\n",
        "\u2500\u2500\u2500\u2500\u2500\u2500\n",
        "      \n",
        "      \n",
        "\u2500\u2500\u2500\u2500\u2500\u2500\n",
        "      \n",
        "      \n",
        "      "
       ]
      }
     ],
     "prompt_number": 26
    },
    {
     "cell_type": "code",
     "collapsed": false,
     "input": [
      "simplify(integrate(fcond2,(x,-oo,oo)))"
     ],
     "language": "python",
     "metadata": {},
     "outputs": [
      {
       "latex": [
        "$$\\frac{\\sigma_{x} \\sigma_{y} e^{\\frac{1}{2} y^{2} \\left(\\frac{\\sigma_{x}^{2} \\sigma_{xy}^{2}}{u \\left(\\sigma_{xy}^{2} + u\\right)} - \\frac{\\sigma_{x}^{2}}{\\sigma_{x}^{2} \\sigma_{y}^{2} - \\sigma_{xy}^{2}} + \\sigma_{y}^{-2}\\right)}}{\\sqrt{\\sigma_{xy}^{2} + u}}$$"
       ],
       "output_type": "pyout",
       "png": "[encoded data removed]",
       "prompt_number": 30,
       "text": [
        "               \u239b    2         2                 2                      \u239e\n",
        "             2 \u239c  \u03c3\u2093 \u22c5sigma_xy                \u03c3\u2093                  1    \u239f\n",
        "            y \u22c5\u239c\u2500\u2500\u2500\u2500\u2500\u2500\u2500\u2500\u2500\u2500\u2500\u2500\u2500\u2500\u2500\u2500\u2500 - \u2500\u2500\u2500\u2500\u2500\u2500\u2500\u2500\u2500\u2500\u2500\u2500\u2500\u2500\u2500\u2500\u2500\u2500\u2500\u2500\u2500\u2500\u2500\u2500 + \u2500\u2500\u2500\u2500\u2500\u2500\u2500\u2500\u239f\n",
        "               \u239c  \u239b        2    \u239e     2        2           2          2\u239f\n",
        "               \u239du\u22c5\u239dsigma_xy  + u\u23a0   \u03c3\u2093 \u22c5sigma_y  - sigma_xy    sigma_y \u23a0\n",
        "            \u2500\u2500\u2500\u2500\u2500\u2500\u2500\u2500\u2500\u2500\u2500\u2500\u2500\u2500\u2500\u2500\u2500\u2500\u2500\u2500\u2500\u2500\u2500\u2500\u2500\u2500\u2500\u2500\u2500\u2500\u2500\u2500\u2500\u2500\u2500\u2500\u2500\u2500\u2500\u2500\u2500\u2500\u2500\u2500\u2500\u2500\u2500\u2500\u2500\u2500\u2500\u2500\u2500\u2500\u2500\u2500\u2500\u2500\u2500\u2500\n",
        "                                         2                              \n",
        "\u03c3\u2093\u22c5sigma_y\u22c5\u212f                                                            \n",
        "\u2500\u2500\u2500\u2500\u2500\u2500\u2500\u2500\u2500\u2500\u2500\u2500\u2500\u2500\u2500\u2500\u2500\u2500\u2500\u2500\u2500\u2500\u2500\u2500\u2500\u2500\u2500\u2500\u2500\u2500\u2500\u2500\u2500\u2500\u2500\u2500\u2500\u2500\u2500\u2500\u2500\u2500\u2500\u2500\u2500\u2500\u2500\u2500\u2500\u2500\u2500\u2500\u2500\u2500\u2500\u2500\u2500\u2500\u2500\u2500\u2500\u2500\u2500\u2500\u2500\u2500\u2500\u2500\u2500\u2500\u2500\u2500\n",
        "                              _______________                           \n",
        "                             \u2571         2                                \n",
        "                           \u2572\u2571  sigma_xy  + u                            "
       ]
      }
     ],
     "prompt_number": 30
    },
    {
     "cell_type": "code",
     "collapsed": false,
     "input": [
      "_.subs( u,sigma_x**2 *sigma_y**2 - sigma_xy**2 )"
     ],
     "language": "python",
     "metadata": {},
     "outputs": [
      {
       "latex": [
        "$$e^{\\frac{1}{2} y^{2} \\left(- \\frac{\\sigma_{x}^{2}}{\\sigma_{x}^{2} \\sigma_{y}^{2} - \\sigma_{xy}^{2}} + \\frac{\\sigma_{xy}^{2}}{\\sigma_{y}^{2} \\left(\\sigma_{x}^{2} \\sigma_{y}^{2} - \\sigma_{xy}^{2}\\right)} + \\sigma_{y}^{-2}\\right)}$$"
       ],
       "output_type": "pyout",
       "png": "[encoded data removed]",
       "prompt_number": 32,
       "text": [
        "    \u239b              2                                   2                      \n",
        "  2 \u239c            \u03c3\u2093                            sigma_xy                    1  \n",
        " y \u22c5\u239c- \u2500\u2500\u2500\u2500\u2500\u2500\u2500\u2500\u2500\u2500\u2500\u2500\u2500\u2500\u2500\u2500\u2500\u2500\u2500\u2500\u2500\u2500\u2500\u2500 + \u2500\u2500\u2500\u2500\u2500\u2500\u2500\u2500\u2500\u2500\u2500\u2500\u2500\u2500\u2500\u2500\u2500\u2500\u2500\u2500\u2500\u2500\u2500\u2500\u2500\u2500\u2500\u2500\u2500\u2500\u2500\u2500\u2500\u2500\u2500 + \u2500\u2500\u2500\u2500\u2500\u2500\n",
        "    \u239c    2        2           2          2 \u239b  2        2           2\u239e         \n",
        "    \u239d  \u03c3\u2093 \u22c5sigma_y  - sigma_xy    sigma_y \u22c5\u239d\u03c3\u2093 \u22c5sigma_y  - sigma_xy \u23a0   sigma_\n",
        " \u2500\u2500\u2500\u2500\u2500\u2500\u2500\u2500\u2500\u2500\u2500\u2500\u2500\u2500\u2500\u2500\u2500\u2500\u2500\u2500\u2500\u2500\u2500\u2500\u2500\u2500\u2500\u2500\u2500\u2500\u2500\u2500\u2500\u2500\u2500\u2500\u2500\u2500\u2500\u2500\u2500\u2500\u2500\u2500\u2500\u2500\u2500\u2500\u2500\u2500\u2500\u2500\u2500\u2500\u2500\u2500\u2500\u2500\u2500\u2500\u2500\u2500\u2500\u2500\u2500\u2500\u2500\u2500\u2500\u2500\u2500\u2500\u2500\u2500\u2500\u2500\u2500\n",
        "                                        2                                     \n",
        "\u212f                                                                             \n",
        "\n",
        "  \u239e\n",
        "  \u239f\n",
        "\u2500\u2500\u239f\n",
        " 2\u239f\n",
        "y \u23a0\n",
        "\u2500\u2500\u2500\n",
        "   \n",
        "   "
       ]
      }
     ],
     "prompt_number": 32
    },
    {
     "cell_type": "code",
     "collapsed": false,
     "input": [
      "simplify(_)"
     ],
     "language": "python",
     "metadata": {},
     "outputs": [
      {
       "latex": [
        "$$e^{\\frac{1}{2} y^{2} \\left(- \\frac{\\sigma_{x}^{2}}{\\sigma_{x}^{2} \\sigma_{y}^{2} - \\sigma_{xy}^{2}} + \\frac{\\sigma_{xy}^{2}}{\\sigma_{y}^{2} \\left(\\sigma_{x}^{2} \\sigma_{y}^{2} - \\sigma_{xy}^{2}\\right)} + \\sigma_{y}^{-2}\\right)}$$"
       ],
       "output_type": "pyout",
       "png": "[encoded data removed]",
       "prompt_number": 33,
       "text": [
        "    \u239b              2                                   2                      \n",
        "  2 \u239c            \u03c3\u2093                            sigma_xy                    1  \n",
        " y \u22c5\u239c- \u2500\u2500\u2500\u2500\u2500\u2500\u2500\u2500\u2500\u2500\u2500\u2500\u2500\u2500\u2500\u2500\u2500\u2500\u2500\u2500\u2500\u2500\u2500\u2500 + \u2500\u2500\u2500\u2500\u2500\u2500\u2500\u2500\u2500\u2500\u2500\u2500\u2500\u2500\u2500\u2500\u2500\u2500\u2500\u2500\u2500\u2500\u2500\u2500\u2500\u2500\u2500\u2500\u2500\u2500\u2500\u2500\u2500\u2500\u2500 + \u2500\u2500\u2500\u2500\u2500\u2500\n",
        "    \u239c    2        2           2          2 \u239b  2        2           2\u239e         \n",
        "    \u239d  \u03c3\u2093 \u22c5sigma_y  - sigma_xy    sigma_y \u22c5\u239d\u03c3\u2093 \u22c5sigma_y  - sigma_xy \u23a0   sigma_\n",
        " \u2500\u2500\u2500\u2500\u2500\u2500\u2500\u2500\u2500\u2500\u2500\u2500\u2500\u2500\u2500\u2500\u2500\u2500\u2500\u2500\u2500\u2500\u2500\u2500\u2500\u2500\u2500\u2500\u2500\u2500\u2500\u2500\u2500\u2500\u2500\u2500\u2500\u2500\u2500\u2500\u2500\u2500\u2500\u2500\u2500\u2500\u2500\u2500\u2500\u2500\u2500\u2500\u2500\u2500\u2500\u2500\u2500\u2500\u2500\u2500\u2500\u2500\u2500\u2500\u2500\u2500\u2500\u2500\u2500\u2500\u2500\u2500\u2500\u2500\u2500\u2500\u2500\n",
        "                                        2                                     \n",
        "\u212f                                                                             \n",
        "\n",
        "  \u239e\n",
        "  \u239f\n",
        "\u2500\u2500\u239f\n",
        " 2\u239f\n",
        "y \u23a0\n",
        "\u2500\u2500\u2500\n",
        "   \n",
        "   "
       ]
      }
     ],
     "prompt_number": 33
    },
    {
     "cell_type": "code",
     "collapsed": false,
     "input": [
      "simplify(integrate(fcond2,(x,-oo,oo)))"
     ],
     "language": "python",
     "metadata": {},
     "outputs": [
      {
       "latex": [
        "$$\\frac{\\sigma_{x} \\sigma_{y} e^{\\frac{1}{2} y^{2} \\left(\\frac{\\sigma_{x}^{2} \\sigma_{xy}^{2}}{u \\left(\\sigma_{xy}^{2} + u\\right)} - \\frac{\\sigma_{x}^{2}}{\\sigma_{x}^{2} \\sigma_{y}^{2} - \\sigma_{xy}^{2}} + \\sigma_{y}^{-2}\\right)}}{\\sqrt{\\sigma_{xy}^{2} + u}}$$"
       ],
       "output_type": "pyout",
       "png": "[encoded data removed]",
       "prompt_number": 39,
       "text": [
        "               \u239b    2         2                 2                      \u239e\n",
        "             2 \u239c  \u03c3\u2093 \u22c5sigma_xy                \u03c3\u2093                  1    \u239f\n",
        "            y \u22c5\u239c\u2500\u2500\u2500\u2500\u2500\u2500\u2500\u2500\u2500\u2500\u2500\u2500\u2500\u2500\u2500\u2500\u2500 - \u2500\u2500\u2500\u2500\u2500\u2500\u2500\u2500\u2500\u2500\u2500\u2500\u2500\u2500\u2500\u2500\u2500\u2500\u2500\u2500\u2500\u2500\u2500\u2500 + \u2500\u2500\u2500\u2500\u2500\u2500\u2500\u2500\u239f\n",
        "               \u239c  \u239b        2    \u239e     2        2           2          2\u239f\n",
        "               \u239du\u22c5\u239dsigma_xy  + u\u23a0   \u03c3\u2093 \u22c5sigma_y  - sigma_xy    sigma_y \u23a0\n",
        "            \u2500\u2500\u2500\u2500\u2500\u2500\u2500\u2500\u2500\u2500\u2500\u2500\u2500\u2500\u2500\u2500\u2500\u2500\u2500\u2500\u2500\u2500\u2500\u2500\u2500\u2500\u2500\u2500\u2500\u2500\u2500\u2500\u2500\u2500\u2500\u2500\u2500\u2500\u2500\u2500\u2500\u2500\u2500\u2500\u2500\u2500\u2500\u2500\u2500\u2500\u2500\u2500\u2500\u2500\u2500\u2500\u2500\u2500\u2500\u2500\n",
        "                                         2                              \n",
        "\u03c3\u2093\u22c5sigma_y\u22c5\u212f                                                            \n",
        "\u2500\u2500\u2500\u2500\u2500\u2500\u2500\u2500\u2500\u2500\u2500\u2500\u2500\u2500\u2500\u2500\u2500\u2500\u2500\u2500\u2500\u2500\u2500\u2500\u2500\u2500\u2500\u2500\u2500\u2500\u2500\u2500\u2500\u2500\u2500\u2500\u2500\u2500\u2500\u2500\u2500\u2500\u2500\u2500\u2500\u2500\u2500\u2500\u2500\u2500\u2500\u2500\u2500\u2500\u2500\u2500\u2500\u2500\u2500\u2500\u2500\u2500\u2500\u2500\u2500\u2500\u2500\u2500\u2500\u2500\u2500\u2500\n",
        "                              _______________                           \n",
        "                             \u2571         2                                \n",
        "                           \u2572\u2571  sigma_xy  + u                            "
       ]
      }
     ],
     "prompt_number": 39
    },
    {
     "cell_type": "code",
     "collapsed": false,
     "input": [
      "fyy"
     ],
     "language": "python",
     "metadata": {},
     "outputs": [
      {
       "latex": [
        "$$\\frac{\\sqrt{2} e^{- \\frac{y^{2}}{2 \\sigma_{y}^{2}}}}{2 \\sqrt{\\pi} \\sigma_{y}}$$"
       ],
       "output_type": "pyout",
       "png": "[encoded data removed]",
       "prompt_number": 40,
       "text": [
        "            2    \n",
        "          -y     \n",
        "       \u2500\u2500\u2500\u2500\u2500\u2500\u2500\u2500\u2500\u2500\n",
        "                2\n",
        "  ___  2\u22c5sigma_y \n",
        "\u2572\u2571 2 \u22c5\u212f          \n",
        "\u2500\u2500\u2500\u2500\u2500\u2500\u2500\u2500\u2500\u2500\u2500\u2500\u2500\u2500\u2500\u2500\u2500\n",
        "     ___         \n",
        " 2\u22c5\u2572\u2571 \u03c0 \u22c5sigma_y "
       ]
      }
     ],
     "prompt_number": 40
    },
    {
     "cell_type": "code",
     "collapsed": false,
     "input": [],
     "language": "python",
     "metadata": {},
     "outputs": []
    }
   ],
   "metadata": {}
  }
 ]
}